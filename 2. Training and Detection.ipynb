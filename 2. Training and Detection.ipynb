{
 "cells": [
  {
   "cell_type": "markdown",
   "metadata": {
    "id": "QUANWN3rpfC9"
   },
   "source": [
    "# 0. Setup Paths"
   ]
  },
  {
   "cell_type": "code",
   "execution_count": 5,
   "metadata": {
    "id": "146BB11JpfDA"
   },
   "outputs": [],
   "source": [
    "import os"
   ]
  },
  {
   "cell_type": "code",
   "execution_count": 21,
   "metadata": {
    "id": "42hJEdo_pfDB"
   },
   "outputs": [],
   "source": [
    "CUSTOM_MODEL_NAME = 'my_ssd_mobnet' \n",
    "PRETRAINED_MODEL_NAME = 'ssd_mobilenet_v2_fpnlite_320x320_coco17_tpu-8'\n",
    "PRETRAINED_MODEL_URL = 'http://download.tensorflow.org/models/object_detection/tf2/20200711/ssd_mobilenet_v2_fpnlite_320x320_coco17_tpu-8.tar.gz'\n",
    "TF_RECORD_SCRIPT_NAME = 'generate_tfrecord.py'\n",
    "LABEL_MAP_NAME = 'label_map.pbtxt'"
   ]
  },
  {
   "cell_type": "code",
   "execution_count": 7,
   "metadata": {
    "id": "hbPhYVy_pfDB"
   },
   "outputs": [],
   "source": [
    "paths = {\n",
    "    'WORKSPACE_PATH': os.path.join('Tensorflow', 'workspace'),\n",
    "    'SCRIPTS_PATH': os.path.join('Tensorflow','scripts'),\n",
    "    'APIMODEL_PATH': os.path.join('Tensorflow','models'),\n",
    "    'ANNOTATION_PATH': os.path.join('Tensorflow', 'workspace','annotations'),\n",
    "    'IMAGE_PATH': os.path.join('Tensorflow', 'workspace','images'),\n",
    "    'MODEL_PATH': os.path.join('Tensorflow', 'workspace','models'),\n",
    "    'PRETRAINED_MODEL_PATH': os.path.join('Tensorflow', 'workspace','pre-trained-models'),\n",
    "    'CHECKPOINT_PATH': os.path.join('Tensorflow', 'workspace','models',CUSTOM_MODEL_NAME), \n",
    "    'OUTPUT_PATH': os.path.join('Tensorflow', 'workspace','models',CUSTOM_MODEL_NAME, 'export'), \n",
    "    'TFJS_PATH':os.path.join('Tensorflow', 'workspace','models',CUSTOM_MODEL_NAME, 'tfjsexport'), \n",
    "    'TFLITE_PATH':os.path.join('Tensorflow', 'workspace','models',CUSTOM_MODEL_NAME, 'tfliteexport'), \n",
    "    'PROTOC_PATH':os.path.join('Tensorflow','protoc')\n",
    " }"
   ]
  },
  {
   "cell_type": "code",
   "execution_count": 8,
   "metadata": {
    "id": "LwhWZMI0pfDC"
   },
   "outputs": [],
   "source": [
    "files = {\n",
    "    'PIPELINE_CONFIG':os.path.join('Tensorflow', 'workspace','models', CUSTOM_MODEL_NAME, 'pipeline.config'),\n",
    "    'TF_RECORD_SCRIPT': os.path.join(paths['SCRIPTS_PATH'], TF_RECORD_SCRIPT_NAME), \n",
    "    'LABELMAP': os.path.join(paths['ANNOTATION_PATH'], LABEL_MAP_NAME)\n",
    "}"
   ]
  },
  {
   "cell_type": "code",
   "execution_count": 9,
   "metadata": {
    "id": "HR-TfDGrpfDC"
   },
   "outputs": [],
   "source": [
    "for path in paths.values():\n",
    "    if not os.path.exists(path):\n",
    "        if os.name == 'posix':\n",
    "            !mkdir -p {path}\n",
    "        if os.name == 'nt':\n",
    "            !mkdir {path}"
   ]
  },
  {
   "cell_type": "markdown",
   "metadata": {
    "id": "OLU-rs_ipfDE"
   },
   "source": [
    "# 1. Download TF Models Pretrained Models from Tensorflow Model Zoo and Install TFOD"
   ]
  },
  {
   "cell_type": "code",
   "execution_count": 10,
   "metadata": {},
   "outputs": [],
   "source": [
    "# https://www.tensorflow.org/install/source_windows"
   ]
  },
  {
   "cell_type": "code",
   "execution_count": 11,
   "metadata": {
    "id": "K-Cmz2edpfDE",
    "scrolled": true
   },
   "outputs": [],
   "source": [
    "if os.name=='nt':\n",
    "    !pip install wget\n",
    "    import wget"
   ]
  },
  {
   "cell_type": "code",
   "execution_count": 12,
   "metadata": {
    "id": "iA1DIq5OpfDE"
   },
   "outputs": [],
   "source": [
    "if not os.path.exists(os.path.join(paths['APIMODEL_PATH'], 'research', 'object_detection')):\n",
    "    !git clone https://github.com/tensorflow/models {paths['APIMODEL_PATH']}"
   ]
  },
  {
   "cell_type": "code",
   "execution_count": 13,
   "metadata": {
    "id": "rJjMHbnDs3Tv"
   },
   "outputs": [
    {
     "name": "stdout",
     "output_type": "stream",
     "text": [
      "[sudo] password for toofan: \n",
      "Processing /home/toofan/Desktop/New Folder/Tensorflow-Object-Detection/Tensorflow/models/research\n",
      "  Preparing metadata (setup.py) ... \u001b[?25ldone\n",
      "\u001b[?25hRequirement already satisfied: avro-python3 in /home/toofan/Desktop/New Folder/Tensorflow-Object-Detection/tfod/lib/python3.11/site-packages (from object-detection==0.1) (1.10.2)\n",
      "Requirement already satisfied: apache-beam in /home/toofan/Desktop/New Folder/Tensorflow-Object-Detection/tfod/lib/python3.11/site-packages (from object-detection==0.1) (2.56.0)\n",
      "Requirement already satisfied: pillow in /home/toofan/Desktop/New Folder/Tensorflow-Object-Detection/tfod/lib/python3.11/site-packages (from object-detection==0.1) (10.3.0)\n",
      "Requirement already satisfied: lxml in /home/toofan/Desktop/New Folder/Tensorflow-Object-Detection/tfod/lib/python3.11/site-packages (from object-detection==0.1) (5.2.2)\n",
      "Collecting matplotlib (from object-detection==0.1)\n",
      "  Using cached matplotlib-3.9.0-cp311-cp311-manylinux_2_17_x86_64.manylinux2014_x86_64.whl.metadata (11 kB)\n",
      "Requirement already satisfied: Cython in /home/toofan/Desktop/New Folder/Tensorflow-Object-Detection/tfod/lib/python3.11/site-packages (from object-detection==0.1) (3.0.10)\n",
      "Requirement already satisfied: contextlib2 in /home/toofan/Desktop/New Folder/Tensorflow-Object-Detection/tfod/lib/python3.11/site-packages (from object-detection==0.1) (21.6.0)\n",
      "Requirement already satisfied: tf-slim in /home/toofan/Desktop/New Folder/Tensorflow-Object-Detection/tfod/lib/python3.11/site-packages (from object-detection==0.1) (1.1.0)\n",
      "Requirement already satisfied: six in /home/toofan/Desktop/New Folder/Tensorflow-Object-Detection/tfod/lib/python3.11/site-packages (from object-detection==0.1) (1.16.0)\n",
      "Requirement already satisfied: pycocotools in /home/toofan/Desktop/New Folder/Tensorflow-Object-Detection/tfod/lib/python3.11/site-packages (from object-detection==0.1) (2.0.7)\n",
      "Requirement already satisfied: lvis in /home/toofan/Desktop/New Folder/Tensorflow-Object-Detection/tfod/lib/python3.11/site-packages (from object-detection==0.1) (0.5.3)\n",
      "Requirement already satisfied: scipy in /home/toofan/Desktop/New Folder/Tensorflow-Object-Detection/tfod/lib/python3.11/site-packages (from object-detection==0.1) (1.13.0)\n",
      "Requirement already satisfied: pandas in /home/toofan/Desktop/New Folder/Tensorflow-Object-Detection/tfod/lib/python3.11/site-packages (from object-detection==0.1) (2.2.2)\n",
      "Requirement already satisfied: tf-models-official>=2.5.1 in /home/toofan/Desktop/New Folder/Tensorflow-Object-Detection/tfod/lib/python3.11/site-packages (from object-detection==0.1) (2.16.0)\n",
      "Requirement already satisfied: tensorflow_io in /home/toofan/Desktop/New Folder/Tensorflow-Object-Detection/tfod/lib/python3.11/site-packages (from object-detection==0.1) (0.37.0)\n",
      "Requirement already satisfied: keras in /home/toofan/Desktop/New Folder/Tensorflow-Object-Detection/tfod/lib/python3.11/site-packages (from object-detection==0.1) (3.3.3)\n",
      "Requirement already satisfied: pyparsing==2.4.7 in /home/toofan/Desktop/New Folder/Tensorflow-Object-Detection/tfod/lib/python3.11/site-packages (from object-detection==0.1) (2.4.7)\n",
      "Requirement already satisfied: sacrebleu<=2.2.0 in /home/toofan/Desktop/New Folder/Tensorflow-Object-Detection/tfod/lib/python3.11/site-packages (from object-detection==0.1) (2.2.0)\n",
      "Requirement already satisfied: portalocker in /home/toofan/Desktop/New Folder/Tensorflow-Object-Detection/tfod/lib/python3.11/site-packages (from sacrebleu<=2.2.0->object-detection==0.1) (2.8.2)\n",
      "Requirement already satisfied: regex in /home/toofan/Desktop/New Folder/Tensorflow-Object-Detection/tfod/lib/python3.11/site-packages (from sacrebleu<=2.2.0->object-detection==0.1) (2024.5.15)\n",
      "Requirement already satisfied: tabulate>=0.8.9 in /home/toofan/Desktop/New Folder/Tensorflow-Object-Detection/tfod/lib/python3.11/site-packages (from sacrebleu<=2.2.0->object-detection==0.1) (0.9.0)\n",
      "Requirement already satisfied: numpy>=1.17 in /home/toofan/Desktop/New Folder/Tensorflow-Object-Detection/tfod/lib/python3.11/site-packages (from sacrebleu<=2.2.0->object-detection==0.1) (1.26.4)\n",
      "Requirement already satisfied: colorama in /home/toofan/Desktop/New Folder/Tensorflow-Object-Detection/tfod/lib/python3.11/site-packages (from sacrebleu<=2.2.0->object-detection==0.1) (0.4.6)\n",
      "Requirement already satisfied: gin-config in /home/toofan/Desktop/New Folder/Tensorflow-Object-Detection/tfod/lib/python3.11/site-packages (from tf-models-official>=2.5.1->object-detection==0.1) (0.5.0)\n",
      "Requirement already satisfied: google-api-python-client>=1.6.7 in /home/toofan/Desktop/New Folder/Tensorflow-Object-Detection/tfod/lib/python3.11/site-packages (from tf-models-official>=2.5.1->object-detection==0.1) (2.129.0)\n",
      "Requirement already satisfied: immutabledict in /home/toofan/Desktop/New Folder/Tensorflow-Object-Detection/tfod/lib/python3.11/site-packages (from tf-models-official>=2.5.1->object-detection==0.1) (4.2.0)\n",
      "Requirement already satisfied: kaggle>=1.3.9 in /home/toofan/Desktop/New Folder/Tensorflow-Object-Detection/tfod/lib/python3.11/site-packages (from tf-models-official>=2.5.1->object-detection==0.1) (1.6.14)\n",
      "Requirement already satisfied: oauth2client in /home/toofan/Desktop/New Folder/Tensorflow-Object-Detection/tfod/lib/python3.11/site-packages (from tf-models-official>=2.5.1->object-detection==0.1) (4.1.3)\n",
      "Requirement already satisfied: opencv-python-headless in /home/toofan/Desktop/New Folder/Tensorflow-Object-Detection/tfod/lib/python3.11/site-packages (from tf-models-official>=2.5.1->object-detection==0.1) (4.9.0.80)\n",
      "Requirement already satisfied: psutil>=5.4.3 in /home/toofan/Desktop/New Folder/Tensorflow-Object-Detection/tfod/lib/python3.11/site-packages (from tf-models-official>=2.5.1->object-detection==0.1) (5.9.8)\n",
      "Requirement already satisfied: py-cpuinfo>=3.3.0 in /home/toofan/Desktop/New Folder/Tensorflow-Object-Detection/tfod/lib/python3.11/site-packages (from tf-models-official>=2.5.1->object-detection==0.1) (9.0.0)\n",
      "Requirement already satisfied: pyyaml>=6.0.0 in /home/toofan/Desktop/New Folder/Tensorflow-Object-Detection/tfod/lib/python3.11/site-packages (from tf-models-official>=2.5.1->object-detection==0.1) (6.0.1)\n",
      "Requirement already satisfied: sentencepiece in /home/toofan/Desktop/New Folder/Tensorflow-Object-Detection/tfod/lib/python3.11/site-packages (from tf-models-official>=2.5.1->object-detection==0.1) (0.2.0)\n",
      "Requirement already satisfied: seqeval in /home/toofan/Desktop/New Folder/Tensorflow-Object-Detection/tfod/lib/python3.11/site-packages (from tf-models-official>=2.5.1->object-detection==0.1) (1.2.2)\n",
      "Requirement already satisfied: tensorflow-datasets in /home/toofan/Desktop/New Folder/Tensorflow-Object-Detection/tfod/lib/python3.11/site-packages (from tf-models-official>=2.5.1->object-detection==0.1) (4.9.4)\n",
      "Requirement already satisfied: tensorflow-hub>=0.6.0 in /home/toofan/Desktop/New Folder/Tensorflow-Object-Detection/tfod/lib/python3.11/site-packages (from tf-models-official>=2.5.1->object-detection==0.1) (0.16.1)\n",
      "Requirement already satisfied: tensorflow-model-optimization>=0.4.1 in /home/toofan/Desktop/New Folder/Tensorflow-Object-Detection/tfod/lib/python3.11/site-packages (from tf-models-official>=2.5.1->object-detection==0.1) (0.8.0)\n",
      "Requirement already satisfied: tensorflow-text~=2.16.1 in /home/toofan/Desktop/New Folder/Tensorflow-Object-Detection/tfod/lib/python3.11/site-packages (from tf-models-official>=2.5.1->object-detection==0.1) (2.16.1)\n",
      "Requirement already satisfied: tensorflow~=2.16.1 in /home/toofan/Desktop/New Folder/Tensorflow-Object-Detection/tfod/lib/python3.11/site-packages (from tf-models-official>=2.5.1->object-detection==0.1) (2.16.1)\n",
      "Requirement already satisfied: tf-keras>=2.16.0 in /home/toofan/Desktop/New Folder/Tensorflow-Object-Detection/tfod/lib/python3.11/site-packages (from tf-models-official>=2.5.1->object-detection==0.1) (2.16.0)\n",
      "Requirement already satisfied: python-dateutil>=2.8.2 in /home/toofan/Desktop/New Folder/Tensorflow-Object-Detection/tfod/lib/python3.11/site-packages (from pandas->object-detection==0.1) (2.9.0.post0)\n",
      "Requirement already satisfied: pytz>=2020.1 in /home/toofan/Desktop/New Folder/Tensorflow-Object-Detection/tfod/lib/python3.11/site-packages (from pandas->object-detection==0.1) (2024.1)\n",
      "Requirement already satisfied: tzdata>=2022.7 in /home/toofan/Desktop/New Folder/Tensorflow-Object-Detection/tfod/lib/python3.11/site-packages (from pandas->object-detection==0.1) (2024.1)\n",
      "Requirement already satisfied: absl-py>=0.2.2 in /home/toofan/Desktop/New Folder/Tensorflow-Object-Detection/tfod/lib/python3.11/site-packages (from tf-slim->object-detection==0.1) (1.4.0)\n",
      "Requirement already satisfied: crcmod<2.0,>=1.7 in /home/toofan/Desktop/New Folder/Tensorflow-Object-Detection/tfod/lib/python3.11/site-packages (from apache-beam->object-detection==0.1) (1.7)\n",
      "Requirement already satisfied: orjson<4,>=3.9.7 in /home/toofan/Desktop/New Folder/Tensorflow-Object-Detection/tfod/lib/python3.11/site-packages (from apache-beam->object-detection==0.1) (3.10.3)\n",
      "Requirement already satisfied: dill<0.3.2,>=0.3.1.1 in /home/toofan/Desktop/New Folder/Tensorflow-Object-Detection/tfod/lib/python3.11/site-packages (from apache-beam->object-detection==0.1) (0.3.1.1)\n",
      "Requirement already satisfied: cloudpickle~=2.2.1 in /home/toofan/Desktop/New Folder/Tensorflow-Object-Detection/tfod/lib/python3.11/site-packages (from apache-beam->object-detection==0.1) (2.2.1)\n",
      "Requirement already satisfied: fastavro<2,>=0.23.6 in /home/toofan/Desktop/New Folder/Tensorflow-Object-Detection/tfod/lib/python3.11/site-packages (from apache-beam->object-detection==0.1) (1.9.4)\n",
      "Requirement already satisfied: fasteners<1.0,>=0.3 in /home/toofan/Desktop/New Folder/Tensorflow-Object-Detection/tfod/lib/python3.11/site-packages (from apache-beam->object-detection==0.1) (0.19)\n",
      "Requirement already satisfied: grpcio!=1.48.0,!=1.59.*,!=1.60.*,!=1.61.*,!=1.62.0,!=1.62.1,<2,>=1.33.1 in /home/toofan/Desktop/New Folder/Tensorflow-Object-Detection/tfod/lib/python3.11/site-packages (from apache-beam->object-detection==0.1) (1.64.0)\n",
      "Requirement already satisfied: hdfs<3.0.0,>=2.1.0 in /home/toofan/Desktop/New Folder/Tensorflow-Object-Detection/tfod/lib/python3.11/site-packages (from apache-beam->object-detection==0.1) (2.7.3)\n",
      "Requirement already satisfied: httplib2<0.23.0,>=0.8 in /home/toofan/Desktop/New Folder/Tensorflow-Object-Detection/tfod/lib/python3.11/site-packages (from apache-beam->object-detection==0.1) (0.22.0)\n",
      "Requirement already satisfied: jsonschema<5.0.0,>=4.0.0 in /home/toofan/Desktop/New Folder/Tensorflow-Object-Detection/tfod/lib/python3.11/site-packages (from apache-beam->object-detection==0.1) (4.22.0)\n",
      "Requirement already satisfied: jsonpickle<4.0.0,>=3.0.0 in /home/toofan/Desktop/New Folder/Tensorflow-Object-Detection/tfod/lib/python3.11/site-packages (from apache-beam->object-detection==0.1) (3.0.4)\n",
      "Requirement already satisfied: objsize<0.8.0,>=0.6.1 in /home/toofan/Desktop/New Folder/Tensorflow-Object-Detection/tfod/lib/python3.11/site-packages (from apache-beam->object-detection==0.1) (0.7.0)\n",
      "Requirement already satisfied: packaging>=22.0 in /home/toofan/Desktop/New Folder/Tensorflow-Object-Detection/tfod/lib/python3.11/site-packages (from apache-beam->object-detection==0.1) (24.0)\n",
      "Requirement already satisfied: pymongo<5.0.0,>=3.8.0 in /home/toofan/Desktop/New Folder/Tensorflow-Object-Detection/tfod/lib/python3.11/site-packages (from apache-beam->object-detection==0.1) (4.7.2)\n",
      "Requirement already satisfied: proto-plus<2,>=1.7.1 in /home/toofan/Desktop/New Folder/Tensorflow-Object-Detection/tfod/lib/python3.11/site-packages (from apache-beam->object-detection==0.1) (1.23.0)\n",
      "Collecting protobuf!=4.0.*,!=4.21.*,!=4.22.0,!=4.23.*,!=4.24.*,<4.26.0,>=3.20.3 (from apache-beam->object-detection==0.1)\n",
      "  Using cached protobuf-4.25.3-cp37-abi3-manylinux2014_x86_64.whl.metadata (541 bytes)\n",
      "Requirement already satisfied: pydot<2,>=1.2.0 in /home/toofan/Desktop/New Folder/Tensorflow-Object-Detection/tfod/lib/python3.11/site-packages (from apache-beam->object-detection==0.1) (1.4.2)\n",
      "Requirement already satisfied: redis<6,>=5.0.0 in /home/toofan/Desktop/New Folder/Tensorflow-Object-Detection/tfod/lib/python3.11/site-packages (from apache-beam->object-detection==0.1) (5.0.4)\n",
      "Requirement already satisfied: requests<3.0.0,>=2.24.0 in /home/toofan/Desktop/New Folder/Tensorflow-Object-Detection/tfod/lib/python3.11/site-packages (from apache-beam->object-detection==0.1) (2.32.2)\n",
      "Requirement already satisfied: typing-extensions>=3.7.0 in /home/toofan/Desktop/New Folder/Tensorflow-Object-Detection/tfod/lib/python3.11/site-packages (from apache-beam->object-detection==0.1) (4.11.0)\n",
      "Requirement already satisfied: zstandard<1,>=0.18.0 in /home/toofan/Desktop/New Folder/Tensorflow-Object-Detection/tfod/lib/python3.11/site-packages (from apache-beam->object-detection==0.1) (0.22.0)\n",
      "Requirement already satisfied: pyarrow<15.0.0,>=3.0.0 in /home/toofan/Desktop/New Folder/Tensorflow-Object-Detection/tfod/lib/python3.11/site-packages (from apache-beam->object-detection==0.1) (14.0.2)\n",
      "Requirement already satisfied: pyarrow-hotfix<1 in /home/toofan/Desktop/New Folder/Tensorflow-Object-Detection/tfod/lib/python3.11/site-packages (from apache-beam->object-detection==0.1) (0.6)\n",
      "Requirement already satisfied: js2py<1,>=0.74 in /home/toofan/Desktop/New Folder/Tensorflow-Object-Detection/tfod/lib/python3.11/site-packages (from apache-beam->object-detection==0.1) (0.74)\n",
      "Requirement already satisfied: rich in /home/toofan/Desktop/New Folder/Tensorflow-Object-Detection/tfod/lib/python3.11/site-packages (from keras->object-detection==0.1) (13.7.1)\n",
      "Requirement already satisfied: namex in /home/toofan/Desktop/New Folder/Tensorflow-Object-Detection/tfod/lib/python3.11/site-packages (from keras->object-detection==0.1) (0.0.8)\n",
      "Requirement already satisfied: h5py in /home/toofan/Desktop/New Folder/Tensorflow-Object-Detection/tfod/lib/python3.11/site-packages (from keras->object-detection==0.1) (3.11.0)\n",
      "Requirement already satisfied: optree in /home/toofan/Desktop/New Folder/Tensorflow-Object-Detection/tfod/lib/python3.11/site-packages (from keras->object-detection==0.1) (0.11.0)\n",
      "Requirement already satisfied: ml-dtypes in /home/toofan/Desktop/New Folder/Tensorflow-Object-Detection/tfod/lib/python3.11/site-packages (from keras->object-detection==0.1) (0.3.2)\n",
      "Requirement already satisfied: cycler>=0.10.0 in /home/toofan/Desktop/New Folder/Tensorflow-Object-Detection/tfod/lib/python3.11/site-packages (from lvis->object-detection==0.1) (0.12.1)\n",
      "Requirement already satisfied: kiwisolver>=1.1.0 in /home/toofan/Desktop/New Folder/Tensorflow-Object-Detection/tfod/lib/python3.11/site-packages (from lvis->object-detection==0.1) (1.4.5)\n",
      "Requirement already satisfied: opencv-python>=4.1.0.25 in /home/toofan/Desktop/New Folder/Tensorflow-Object-Detection/tfod/lib/python3.11/site-packages (from lvis->object-detection==0.1) (4.9.0.80)\n",
      "Requirement already satisfied: contourpy>=1.0.1 in /home/toofan/Desktop/New Folder/Tensorflow-Object-Detection/tfod/lib/python3.11/site-packages (from matplotlib->object-detection==0.1) (1.2.1)\n",
      "Requirement already satisfied: fonttools>=4.22.0 in /home/toofan/Desktop/New Folder/Tensorflow-Object-Detection/tfod/lib/python3.11/site-packages (from matplotlib->object-detection==0.1) (4.51.0)\n",
      "Requirement already satisfied: tensorflow-io-gcs-filesystem==0.37.0 in /home/toofan/Desktop/New Folder/Tensorflow-Object-Detection/tfod/lib/python3.11/site-packages (from tensorflow_io->object-detection==0.1) (0.37.0)\n",
      "Requirement already satisfied: google-auth!=2.24.0,!=2.25.0,<3.0.0.dev0,>=1.32.0 in /home/toofan/Desktop/New Folder/Tensorflow-Object-Detection/tfod/lib/python3.11/site-packages (from google-api-python-client>=1.6.7->tf-models-official>=2.5.1->object-detection==0.1) (2.29.0)\n",
      "Requirement already satisfied: google-auth-httplib2<1.0.0,>=0.2.0 in /home/toofan/Desktop/New Folder/Tensorflow-Object-Detection/tfod/lib/python3.11/site-packages (from google-api-python-client>=1.6.7->tf-models-official>=2.5.1->object-detection==0.1) (0.2.0)\n",
      "Requirement already satisfied: google-api-core!=2.0.*,!=2.1.*,!=2.2.*,!=2.3.0,<3.0.0.dev0,>=1.31.5 in /home/toofan/Desktop/New Folder/Tensorflow-Object-Detection/tfod/lib/python3.11/site-packages (from google-api-python-client>=1.6.7->tf-models-official>=2.5.1->object-detection==0.1) (2.19.0)\n",
      "Requirement already satisfied: uritemplate<5,>=3.0.1 in /home/toofan/Desktop/New Folder/Tensorflow-Object-Detection/tfod/lib/python3.11/site-packages (from google-api-python-client>=1.6.7->tf-models-official>=2.5.1->object-detection==0.1) (4.1.1)\n",
      "Requirement already satisfied: docopt in /home/toofan/Desktop/New Folder/Tensorflow-Object-Detection/tfod/lib/python3.11/site-packages (from hdfs<3.0.0,>=2.1.0->apache-beam->object-detection==0.1) (0.6.2)\n",
      "Requirement already satisfied: tzlocal>=1.2 in /home/toofan/Desktop/New Folder/Tensorflow-Object-Detection/tfod/lib/python3.11/site-packages (from js2py<1,>=0.74->apache-beam->object-detection==0.1) (5.2)\n",
      "Requirement already satisfied: pyjsparser>=2.5.1 in /home/toofan/Desktop/New Folder/Tensorflow-Object-Detection/tfod/lib/python3.11/site-packages (from js2py<1,>=0.74->apache-beam->object-detection==0.1) (2.7.1)\n",
      "Requirement already satisfied: attrs>=22.2.0 in /home/toofan/Desktop/New Folder/Tensorflow-Object-Detection/tfod/lib/python3.11/site-packages (from jsonschema<5.0.0,>=4.0.0->apache-beam->object-detection==0.1) (23.2.0)\n",
      "Requirement already satisfied: jsonschema-specifications>=2023.03.6 in /home/toofan/Desktop/New Folder/Tensorflow-Object-Detection/tfod/lib/python3.11/site-packages (from jsonschema<5.0.0,>=4.0.0->apache-beam->object-detection==0.1) (2023.12.1)\n",
      "Requirement already satisfied: referencing>=0.28.4 in /home/toofan/Desktop/New Folder/Tensorflow-Object-Detection/tfod/lib/python3.11/site-packages (from jsonschema<5.0.0,>=4.0.0->apache-beam->object-detection==0.1) (0.35.1)\n",
      "Requirement already satisfied: rpds-py>=0.7.1 in /home/toofan/Desktop/New Folder/Tensorflow-Object-Detection/tfod/lib/python3.11/site-packages (from jsonschema<5.0.0,>=4.0.0->apache-beam->object-detection==0.1) (0.18.1)\n",
      "Requirement already satisfied: certifi>=2023.7.22 in /home/toofan/Desktop/New Folder/Tensorflow-Object-Detection/tfod/lib/python3.11/site-packages (from kaggle>=1.3.9->tf-models-official>=2.5.1->object-detection==0.1) (2024.2.2)\n",
      "Requirement already satisfied: tqdm in /home/toofan/Desktop/New Folder/Tensorflow-Object-Detection/tfod/lib/python3.11/site-packages (from kaggle>=1.3.9->tf-models-official>=2.5.1->object-detection==0.1) (4.66.4)\n",
      "Requirement already satisfied: python-slugify in /home/toofan/Desktop/New Folder/Tensorflow-Object-Detection/tfod/lib/python3.11/site-packages (from kaggle>=1.3.9->tf-models-official>=2.5.1->object-detection==0.1) (8.0.4)\n",
      "Requirement already satisfied: urllib3 in /home/toofan/Desktop/New Folder/Tensorflow-Object-Detection/tfod/lib/python3.11/site-packages (from kaggle>=1.3.9->tf-models-official>=2.5.1->object-detection==0.1) (2.2.1)\n",
      "Requirement already satisfied: bleach in /home/toofan/Desktop/New Folder/Tensorflow-Object-Detection/tfod/lib/python3.11/site-packages (from kaggle>=1.3.9->tf-models-official>=2.5.1->object-detection==0.1) (6.1.0)\n",
      "Requirement already satisfied: dnspython<3.0.0,>=1.16.0 in /home/toofan/Desktop/New Folder/Tensorflow-Object-Detection/tfod/lib/python3.11/site-packages (from pymongo<5.0.0,>=3.8.0->apache-beam->object-detection==0.1) (2.6.1)\n",
      "Requirement already satisfied: charset-normalizer<4,>=2 in /home/toofan/Desktop/New Folder/Tensorflow-Object-Detection/tfod/lib/python3.11/site-packages (from requests<3.0.0,>=2.24.0->apache-beam->object-detection==0.1) (3.3.2)\n",
      "Requirement already satisfied: idna<4,>=2.5 in /home/toofan/Desktop/New Folder/Tensorflow-Object-Detection/tfod/lib/python3.11/site-packages (from requests<3.0.0,>=2.24.0->apache-beam->object-detection==0.1) (3.7)\n",
      "Requirement already satisfied: astunparse>=1.6.0 in /home/toofan/Desktop/New Folder/Tensorflow-Object-Detection/tfod/lib/python3.11/site-packages (from tensorflow~=2.16.1->tf-models-official>=2.5.1->object-detection==0.1) (1.6.3)\n",
      "Requirement already satisfied: flatbuffers>=23.5.26 in /home/toofan/Desktop/New Folder/Tensorflow-Object-Detection/tfod/lib/python3.11/site-packages (from tensorflow~=2.16.1->tf-models-official>=2.5.1->object-detection==0.1) (24.3.25)\n",
      "Requirement already satisfied: gast!=0.5.0,!=0.5.1,!=0.5.2,>=0.2.1 in /home/toofan/Desktop/New Folder/Tensorflow-Object-Detection/tfod/lib/python3.11/site-packages (from tensorflow~=2.16.1->tf-models-official>=2.5.1->object-detection==0.1) (0.5.4)\n",
      "Requirement already satisfied: google-pasta>=0.1.1 in /home/toofan/Desktop/New Folder/Tensorflow-Object-Detection/tfod/lib/python3.11/site-packages (from tensorflow~=2.16.1->tf-models-official>=2.5.1->object-detection==0.1) (0.2.0)\n",
      "Requirement already satisfied: libclang>=13.0.0 in /home/toofan/Desktop/New Folder/Tensorflow-Object-Detection/tfod/lib/python3.11/site-packages (from tensorflow~=2.16.1->tf-models-official>=2.5.1->object-detection==0.1) (18.1.1)\n",
      "Requirement already satisfied: opt-einsum>=2.3.2 in /home/toofan/Desktop/New Folder/Tensorflow-Object-Detection/tfod/lib/python3.11/site-packages (from tensorflow~=2.16.1->tf-models-official>=2.5.1->object-detection==0.1) (3.3.0)\n",
      "Requirement already satisfied: setuptools in /home/toofan/Desktop/New Folder/Tensorflow-Object-Detection/tfod/lib/python3.11/site-packages (from tensorflow~=2.16.1->tf-models-official>=2.5.1->object-detection==0.1) (65.5.0)\n",
      "Requirement already satisfied: termcolor>=1.1.0 in /home/toofan/Desktop/New Folder/Tensorflow-Object-Detection/tfod/lib/python3.11/site-packages (from tensorflow~=2.16.1->tf-models-official>=2.5.1->object-detection==0.1) (2.4.0)\n",
      "Requirement already satisfied: wrapt>=1.11.0 in /home/toofan/Desktop/New Folder/Tensorflow-Object-Detection/tfod/lib/python3.11/site-packages (from tensorflow~=2.16.1->tf-models-official>=2.5.1->object-detection==0.1) (1.16.0)\n",
      "Requirement already satisfied: tensorboard<2.17,>=2.16 in /home/toofan/Desktop/New Folder/Tensorflow-Object-Detection/tfod/lib/python3.11/site-packages (from tensorflow~=2.16.1->tf-models-official>=2.5.1->object-detection==0.1) (2.16.2)\n",
      "Requirement already satisfied: dm-tree~=0.1.1 in /home/toofan/Desktop/New Folder/Tensorflow-Object-Detection/tfod/lib/python3.11/site-packages (from tensorflow-model-optimization>=0.4.1->tf-models-official>=2.5.1->object-detection==0.1) (0.1.8)\n",
      "Requirement already satisfied: pyasn1>=0.1.7 in /home/toofan/Desktop/New Folder/Tensorflow-Object-Detection/tfod/lib/python3.11/site-packages (from oauth2client->tf-models-official>=2.5.1->object-detection==0.1) (0.6.0)\n",
      "Requirement already satisfied: pyasn1-modules>=0.0.5 in /home/toofan/Desktop/New Folder/Tensorflow-Object-Detection/tfod/lib/python3.11/site-packages (from oauth2client->tf-models-official>=2.5.1->object-detection==0.1) (0.4.0)\n",
      "Requirement already satisfied: rsa>=3.1.4 in /home/toofan/Desktop/New Folder/Tensorflow-Object-Detection/tfod/lib/python3.11/site-packages (from oauth2client->tf-models-official>=2.5.1->object-detection==0.1) (4.9)\n",
      "Requirement already satisfied: markdown-it-py>=2.2.0 in /home/toofan/Desktop/New Folder/Tensorflow-Object-Detection/tfod/lib/python3.11/site-packages (from rich->keras->object-detection==0.1) (3.0.0)\n",
      "Requirement already satisfied: pygments<3.0.0,>=2.13.0 in /home/toofan/Desktop/New Folder/Tensorflow-Object-Detection/tfod/lib/python3.11/site-packages (from rich->keras->object-detection==0.1) (2.18.0)\n",
      "Requirement already satisfied: scikit-learn>=0.21.3 in /home/toofan/Desktop/New Folder/Tensorflow-Object-Detection/tfod/lib/python3.11/site-packages (from seqeval->tf-models-official>=2.5.1->object-detection==0.1) (1.5.0)\n",
      "Requirement already satisfied: click in /home/toofan/Desktop/New Folder/Tensorflow-Object-Detection/tfod/lib/python3.11/site-packages (from tensorflow-datasets->tf-models-official>=2.5.1->object-detection==0.1) (8.1.7)\n",
      "Requirement already satisfied: etils>=0.9.0 in /home/toofan/Desktop/New Folder/Tensorflow-Object-Detection/tfod/lib/python3.11/site-packages (from etils[enp,epath,etree]>=0.9.0->tensorflow-datasets->tf-models-official>=2.5.1->object-detection==0.1) (1.8.0)\n",
      "Requirement already satisfied: promise in /home/toofan/Desktop/New Folder/Tensorflow-Object-Detection/tfod/lib/python3.11/site-packages (from tensorflow-datasets->tf-models-official>=2.5.1->object-detection==0.1) (2.3)\n",
      "Requirement already satisfied: tensorflow-metadata in /home/toofan/Desktop/New Folder/Tensorflow-Object-Detection/tfod/lib/python3.11/site-packages (from tensorflow-datasets->tf-models-official>=2.5.1->object-detection==0.1) (1.15.0)\n",
      "Requirement already satisfied: toml in /home/toofan/Desktop/New Folder/Tensorflow-Object-Detection/tfod/lib/python3.11/site-packages (from tensorflow-datasets->tf-models-official>=2.5.1->object-detection==0.1) (0.10.2)\n",
      "Requirement already satisfied: array-record>=0.5.0 in /home/toofan/Desktop/New Folder/Tensorflow-Object-Detection/tfod/lib/python3.11/site-packages (from tensorflow-datasets->tf-models-official>=2.5.1->object-detection==0.1) (0.5.1)\n",
      "Requirement already satisfied: wheel<1.0,>=0.23.0 in /home/toofan/Desktop/New Folder/Tensorflow-Object-Detection/tfod/lib/python3.11/site-packages (from astunparse>=1.6.0->tensorflow~=2.16.1->tf-models-official>=2.5.1->object-detection==0.1) (0.43.0)\n",
      "Requirement already satisfied: fsspec in /home/toofan/Desktop/New Folder/Tensorflow-Object-Detection/tfod/lib/python3.11/site-packages (from etils[enp,epath,etree]>=0.9.0->tensorflow-datasets->tf-models-official>=2.5.1->object-detection==0.1) (2024.5.0)\n",
      "Requirement already satisfied: importlib_resources in /home/toofan/Desktop/New Folder/Tensorflow-Object-Detection/tfod/lib/python3.11/site-packages (from etils[enp,epath,etree]>=0.9.0->tensorflow-datasets->tf-models-official>=2.5.1->object-detection==0.1) (6.4.0)\n",
      "Requirement already satisfied: zipp in /home/toofan/Desktop/New Folder/Tensorflow-Object-Detection/tfod/lib/python3.11/site-packages (from etils[enp,epath,etree]>=0.9.0->tensorflow-datasets->tf-models-official>=2.5.1->object-detection==0.1) (3.18.2)\n",
      "Requirement already satisfied: googleapis-common-protos<2.0.dev0,>=1.56.2 in /home/toofan/Desktop/New Folder/Tensorflow-Object-Detection/tfod/lib/python3.11/site-packages (from google-api-core!=2.0.*,!=2.1.*,!=2.2.*,!=2.3.0,<3.0.0.dev0,>=1.31.5->google-api-python-client>=1.6.7->tf-models-official>=2.5.1->object-detection==0.1) (1.63.0)\n",
      "Requirement already satisfied: cachetools<6.0,>=2.0.0 in /home/toofan/Desktop/New Folder/Tensorflow-Object-Detection/tfod/lib/python3.11/site-packages (from google-auth!=2.24.0,!=2.25.0,<3.0.0.dev0,>=1.32.0->google-api-python-client>=1.6.7->tf-models-official>=2.5.1->object-detection==0.1) (5.3.3)\n",
      "Requirement already satisfied: mdurl~=0.1 in /home/toofan/Desktop/New Folder/Tensorflow-Object-Detection/tfod/lib/python3.11/site-packages (from markdown-it-py>=2.2.0->rich->keras->object-detection==0.1) (0.1.2)\n",
      "Requirement already satisfied: joblib>=1.2.0 in /home/toofan/Desktop/New Folder/Tensorflow-Object-Detection/tfod/lib/python3.11/site-packages (from scikit-learn>=0.21.3->seqeval->tf-models-official>=2.5.1->object-detection==0.1) (1.4.2)\n",
      "Requirement already satisfied: threadpoolctl>=3.1.0 in /home/toofan/Desktop/New Folder/Tensorflow-Object-Detection/tfod/lib/python3.11/site-packages (from scikit-learn>=0.21.3->seqeval->tf-models-official>=2.5.1->object-detection==0.1) (3.5.0)\n",
      "Requirement already satisfied: markdown>=2.6.8 in /home/toofan/Desktop/New Folder/Tensorflow-Object-Detection/tfod/lib/python3.11/site-packages (from tensorboard<2.17,>=2.16->tensorflow~=2.16.1->tf-models-official>=2.5.1->object-detection==0.1) (3.6)\n",
      "Requirement already satisfied: tensorboard-data-server<0.8.0,>=0.7.0 in /home/toofan/Desktop/New Folder/Tensorflow-Object-Detection/tfod/lib/python3.11/site-packages (from tensorboard<2.17,>=2.16->tensorflow~=2.16.1->tf-models-official>=2.5.1->object-detection==0.1) (0.7.2)\n",
      "Requirement already satisfied: werkzeug>=1.0.1 in /home/toofan/Desktop/New Folder/Tensorflow-Object-Detection/tfod/lib/python3.11/site-packages (from tensorboard<2.17,>=2.16->tensorflow~=2.16.1->tf-models-official>=2.5.1->object-detection==0.1) (3.0.3)\n",
      "Requirement already satisfied: webencodings in /home/toofan/Desktop/New Folder/Tensorflow-Object-Detection/tfod/lib/python3.11/site-packages (from bleach->kaggle>=1.3.9->tf-models-official>=2.5.1->object-detection==0.1) (0.5.1)\n",
      "Requirement already satisfied: text-unidecode>=1.3 in /home/toofan/Desktop/New Folder/Tensorflow-Object-Detection/tfod/lib/python3.11/site-packages (from python-slugify->kaggle>=1.3.9->tf-models-official>=2.5.1->object-detection==0.1) (1.3)\n",
      "Requirement already satisfied: MarkupSafe>=2.1.1 in /home/toofan/Desktop/New Folder/Tensorflow-Object-Detection/tfod/lib/python3.11/site-packages (from werkzeug>=1.0.1->tensorboard<2.17,>=2.16->tensorflow~=2.16.1->tf-models-official>=2.5.1->object-detection==0.1) (2.1.5)\n",
      "Using cached matplotlib-3.9.0-cp311-cp311-manylinux_2_17_x86_64.manylinux2014_x86_64.whl (8.3 MB)\n",
      "Using cached protobuf-4.25.3-cp37-abi3-manylinux2014_x86_64.whl (294 kB)\n",
      "Building wheels for collected packages: object-detection\n",
      "  Building wheel for object-detection (setup.py) ... \u001b[?25ldone\n",
      "\u001b[?25h  Created wheel for object-detection: filename=object_detection-0.1-py3-none-any.whl size=1655476 sha256=e218204c6c1399cf1af2ffdc5dc710d339d9be277a37d2412e7013f6b4368f36\n",
      "  Stored in directory: /tmp/pip-ephem-wheel-cache-e8dmoucz/wheels/af/7c/38/acc5a7c60385ccaddefa6492dbf0708ddc1f2f1b72a72a5678\n",
      "Successfully built object-detection\n",
      "Installing collected packages: protobuf, matplotlib, object-detection\n",
      "  Attempting uninstall: protobuf\n",
      "    Found existing installation: protobuf 5.26.1\n",
      "    Uninstalling protobuf-5.26.1:\n",
      "      Successfully uninstalled protobuf-5.26.1\n",
      "  Attempting uninstall: object-detection\n",
      "    Found existing installation: object_detection 0.1\n",
      "    Uninstalling object_detection-0.1:\n",
      "      Successfully uninstalled object_detection-0.1\n",
      "Successfully installed matplotlib-3.9.0 object-detection-0.1 protobuf-4.25.3\n"
     ]
    }
   ],
   "source": [
    "# Install Tensorflow Object Detection \n",
    "if os.name=='posix':  \n",
    "    !sudo apt-get install protobuf-compiler\n",
    "    !cd Tensorflow/models/research && protoc object_detection/protos/*.proto --python_out=. && cp object_detection/packages/tf2/setup.py . && python -m pip install . \n",
    "    \n",
    "if os.name=='nt':\n",
    "    url=\"https://github.com/protocolbuffers/protobuf/releases/download/v3.15.6/protoc-3.15.6-win64.zip\"\n",
    "    wget.download(url)\n",
    "    !move protoc-3.15.6-win64.zip {paths['PROTOC_PATH']}\n",
    "    !cd {paths['PROTOC_PATH']} && tar -xf protoc-3.15.6-win64.zip\n",
    "    os.environ['PATH'] += os.pathsep + os.path.abspath(os.path.join(paths['PROTOC_PATH'], 'bin'))   \n",
    "    !cd Tensorflow/models/research && protoc object_detection/protos/*.proto --python_out=. && copy object_detection\\\\packages\\\\tf2\\\\setup.py setup.py && python setup.py build && python setup.py install\n",
    "    !cd Tensorflow/models/research/slim && pip install -e . "
   ]
  },
  {
   "cell_type": "code",
   "execution_count": 11,
   "metadata": {
    "scrolled": true
   },
   "outputs": [
    {
     "data": {
      "text/plain": [
       "'Tensorflow/models'"
      ]
     },
     "execution_count": 11,
     "metadata": {},
     "output_type": "execute_result"
    }
   ],
   "source": [
    "paths['APIMODEL_PATH']"
   ]
  },
  {
   "cell_type": "code",
   "execution_count": 12,
   "metadata": {},
   "outputs": [
    {
     "name": "stdout",
     "output_type": "stream",
     "text": [
      "Requirement already satisfied: absl-py in ./tfod/lib/python3.11/site-packages (1.4.0)\n"
     ]
    }
   ],
   "source": [
    "!pip install absl-py"
   ]
  },
  {
   "cell_type": "code",
   "execution_count": 10,
   "metadata": {},
   "outputs": [
    {
     "name": "stdout",
     "output_type": "stream",
     "text": [
      "Requirement already satisfied: tensorflow in ./tfod/lib/python3.11/site-packages (2.16.1)\n",
      "Requirement already satisfied: absl-py>=1.0.0 in ./tfod/lib/python3.11/site-packages (from tensorflow) (1.4.0)\n",
      "Requirement already satisfied: astunparse>=1.6.0 in ./tfod/lib/python3.11/site-packages (from tensorflow) (1.6.3)\n",
      "Requirement already satisfied: flatbuffers>=23.5.26 in ./tfod/lib/python3.11/site-packages (from tensorflow) (24.3.25)\n",
      "Requirement already satisfied: gast!=0.5.0,!=0.5.1,!=0.5.2,>=0.2.1 in ./tfod/lib/python3.11/site-packages (from tensorflow) (0.5.4)\n",
      "Requirement already satisfied: google-pasta>=0.1.1 in ./tfod/lib/python3.11/site-packages (from tensorflow) (0.2.0)\n",
      "Requirement already satisfied: h5py>=3.10.0 in ./tfod/lib/python3.11/site-packages (from tensorflow) (3.11.0)\n",
      "Requirement already satisfied: libclang>=13.0.0 in ./tfod/lib/python3.11/site-packages (from tensorflow) (18.1.1)\n",
      "Requirement already satisfied: ml-dtypes~=0.3.1 in ./tfod/lib/python3.11/site-packages (from tensorflow) (0.3.2)\n",
      "Requirement already satisfied: opt-einsum>=2.3.2 in ./tfod/lib/python3.11/site-packages (from tensorflow) (3.3.0)\n",
      "Requirement already satisfied: packaging in ./tfod/lib/python3.11/site-packages (from tensorflow) (24.0)\n",
      "Requirement already satisfied: protobuf!=4.21.0,!=4.21.1,!=4.21.2,!=4.21.3,!=4.21.4,!=4.21.5,<5.0.0dev,>=3.20.3 in ./tfod/lib/python3.11/site-packages (from tensorflow) (4.25.3)\n",
      "Requirement already satisfied: requests<3,>=2.21.0 in ./tfod/lib/python3.11/site-packages (from tensorflow) (2.31.0)\n",
      "Requirement already satisfied: setuptools in ./tfod/lib/python3.11/site-packages (from tensorflow) (65.5.0)\n",
      "Requirement already satisfied: six>=1.12.0 in ./tfod/lib/python3.11/site-packages (from tensorflow) (1.16.0)\n",
      "Requirement already satisfied: termcolor>=1.1.0 in ./tfod/lib/python3.11/site-packages (from tensorflow) (2.4.0)\n",
      "Requirement already satisfied: typing-extensions>=3.6.6 in ./tfod/lib/python3.11/site-packages (from tensorflow) (4.11.0)\n",
      "Requirement already satisfied: wrapt>=1.11.0 in ./tfod/lib/python3.11/site-packages (from tensorflow) (1.16.0)\n",
      "Requirement already satisfied: grpcio<2.0,>=1.24.3 in ./tfod/lib/python3.11/site-packages (from tensorflow) (1.64.0)\n",
      "Requirement already satisfied: tensorboard<2.17,>=2.16 in ./tfod/lib/python3.11/site-packages (from tensorflow) (2.16.2)\n",
      "Requirement already satisfied: keras>=3.0.0 in ./tfod/lib/python3.11/site-packages (from tensorflow) (3.3.3)\n",
      "Requirement already satisfied: tensorflow-io-gcs-filesystem>=0.23.1 in ./tfod/lib/python3.11/site-packages (from tensorflow) (0.37.0)\n",
      "Requirement already satisfied: numpy<2.0.0,>=1.23.5 in ./tfod/lib/python3.11/site-packages (from tensorflow) (1.26.4)\n",
      "Requirement already satisfied: wheel<1.0,>=0.23.0 in ./tfod/lib/python3.11/site-packages (from astunparse>=1.6.0->tensorflow) (0.43.0)\n",
      "Requirement already satisfied: rich in ./tfod/lib/python3.11/site-packages (from keras>=3.0.0->tensorflow) (13.7.1)\n",
      "Requirement already satisfied: namex in ./tfod/lib/python3.11/site-packages (from keras>=3.0.0->tensorflow) (0.0.8)\n",
      "Requirement already satisfied: optree in ./tfod/lib/python3.11/site-packages (from keras>=3.0.0->tensorflow) (0.11.0)\n",
      "Requirement already satisfied: charset-normalizer<4,>=2 in ./tfod/lib/python3.11/site-packages (from requests<3,>=2.21.0->tensorflow) (3.3.2)\n",
      "Requirement already satisfied: idna<4,>=2.5 in ./tfod/lib/python3.11/site-packages (from requests<3,>=2.21.0->tensorflow) (3.7)\n",
      "Requirement already satisfied: urllib3<3,>=1.21.1 in ./tfod/lib/python3.11/site-packages (from requests<3,>=2.21.0->tensorflow) (2.2.1)\n",
      "Requirement already satisfied: certifi>=2017.4.17 in ./tfod/lib/python3.11/site-packages (from requests<3,>=2.21.0->tensorflow) (2024.2.2)\n",
      "Requirement already satisfied: markdown>=2.6.8 in ./tfod/lib/python3.11/site-packages (from tensorboard<2.17,>=2.16->tensorflow) (3.6)\n",
      "Requirement already satisfied: tensorboard-data-server<0.8.0,>=0.7.0 in ./tfod/lib/python3.11/site-packages (from tensorboard<2.17,>=2.16->tensorflow) (0.7.2)\n",
      "Requirement already satisfied: werkzeug>=1.0.1 in ./tfod/lib/python3.11/site-packages (from tensorboard<2.17,>=2.16->tensorflow) (3.0.3)\n",
      "Requirement already satisfied: MarkupSafe>=2.1.1 in ./tfod/lib/python3.11/site-packages (from werkzeug>=1.0.1->tensorboard<2.17,>=2.16->tensorflow) (2.1.5)\n",
      "Requirement already satisfied: markdown-it-py>=2.2.0 in ./tfod/lib/python3.11/site-packages (from rich->keras>=3.0.0->tensorflow) (3.0.0)\n",
      "Requirement already satisfied: pygments<3.0.0,>=2.13.0 in ./tfod/lib/python3.11/site-packages (from rich->keras>=3.0.0->tensorflow) (2.18.0)\n",
      "Requirement already satisfied: mdurl~=0.1 in ./tfod/lib/python3.11/site-packages (from markdown-it-py>=2.2.0->rich->keras>=3.0.0->tensorflow) (0.1.2)\n"
     ]
    }
   ],
   "source": [
    "!pip install tensorflow "
   ]
  },
  {
   "cell_type": "code",
   "execution_count": 13,
   "metadata": {},
   "outputs": [
    {
     "name": "stdout",
     "output_type": "stream",
     "text": [
      "Requirement already satisfied: tensorflow[and-cuda] in ./tfod/lib/python3.11/site-packages (2.16.1)\n",
      "Requirement already satisfied: absl-py>=1.0.0 in ./tfod/lib/python3.11/site-packages (from tensorflow[and-cuda]) (1.4.0)\n",
      "Requirement already satisfied: astunparse>=1.6.0 in ./tfod/lib/python3.11/site-packages (from tensorflow[and-cuda]) (1.6.3)\n",
      "Requirement already satisfied: flatbuffers>=23.5.26 in ./tfod/lib/python3.11/site-packages (from tensorflow[and-cuda]) (24.3.25)\n",
      "Requirement already satisfied: gast!=0.5.0,!=0.5.1,!=0.5.2,>=0.2.1 in ./tfod/lib/python3.11/site-packages (from tensorflow[and-cuda]) (0.5.4)\n",
      "Requirement already satisfied: google-pasta>=0.1.1 in ./tfod/lib/python3.11/site-packages (from tensorflow[and-cuda]) (0.2.0)\n",
      "Requirement already satisfied: h5py>=3.10.0 in ./tfod/lib/python3.11/site-packages (from tensorflow[and-cuda]) (3.11.0)\n",
      "Requirement already satisfied: libclang>=13.0.0 in ./tfod/lib/python3.11/site-packages (from tensorflow[and-cuda]) (18.1.1)\n",
      "Requirement already satisfied: ml-dtypes~=0.3.1 in ./tfod/lib/python3.11/site-packages (from tensorflow[and-cuda]) (0.3.2)\n",
      "Requirement already satisfied: opt-einsum>=2.3.2 in ./tfod/lib/python3.11/site-packages (from tensorflow[and-cuda]) (3.3.0)\n",
      "Requirement already satisfied: packaging in ./tfod/lib/python3.11/site-packages (from tensorflow[and-cuda]) (24.0)\n",
      "Requirement already satisfied: protobuf!=4.21.0,!=4.21.1,!=4.21.2,!=4.21.3,!=4.21.4,!=4.21.5,<5.0.0dev,>=3.20.3 in ./tfod/lib/python3.11/site-packages (from tensorflow[and-cuda]) (4.25.3)\n",
      "Requirement already satisfied: requests<3,>=2.21.0 in ./tfod/lib/python3.11/site-packages (from tensorflow[and-cuda]) (2.32.2)\n",
      "Requirement already satisfied: setuptools in ./tfod/lib/python3.11/site-packages (from tensorflow[and-cuda]) (65.5.0)\n",
      "Requirement already satisfied: six>=1.12.0 in ./tfod/lib/python3.11/site-packages (from tensorflow[and-cuda]) (1.16.0)\n",
      "Requirement already satisfied: termcolor>=1.1.0 in ./tfod/lib/python3.11/site-packages (from tensorflow[and-cuda]) (2.4.0)\n",
      "Requirement already satisfied: typing-extensions>=3.6.6 in ./tfod/lib/python3.11/site-packages (from tensorflow[and-cuda]) (4.11.0)\n",
      "Requirement already satisfied: wrapt>=1.11.0 in ./tfod/lib/python3.11/site-packages (from tensorflow[and-cuda]) (1.16.0)\n",
      "Requirement already satisfied: grpcio<2.0,>=1.24.3 in ./tfod/lib/python3.11/site-packages (from tensorflow[and-cuda]) (1.64.0)\n",
      "Requirement already satisfied: tensorboard<2.17,>=2.16 in ./tfod/lib/python3.11/site-packages (from tensorflow[and-cuda]) (2.16.2)\n",
      "Requirement already satisfied: keras>=3.0.0 in ./tfod/lib/python3.11/site-packages (from tensorflow[and-cuda]) (3.3.3)\n",
      "Requirement already satisfied: tensorflow-io-gcs-filesystem>=0.23.1 in ./tfod/lib/python3.11/site-packages (from tensorflow[and-cuda]) (0.37.0)\n",
      "Requirement already satisfied: numpy<2.0.0,>=1.23.5 in ./tfod/lib/python3.11/site-packages (from tensorflow[and-cuda]) (1.26.4)\n",
      "Collecting nvidia-cublas-cu12==12.3.4.1 (from tensorflow[and-cuda])\n",
      "  Using cached nvidia_cublas_cu12-12.3.4.1-py3-none-manylinux1_x86_64.whl.metadata (1.5 kB)\n",
      "Collecting nvidia-cuda-cupti-cu12==12.3.101 (from tensorflow[and-cuda])\n",
      "  Using cached nvidia_cuda_cupti_cu12-12.3.101-py3-none-manylinux1_x86_64.whl.metadata (1.6 kB)\n",
      "Collecting nvidia-cuda-nvcc-cu12==12.3.107 (from tensorflow[and-cuda])\n",
      "  Using cached nvidia_cuda_nvcc_cu12-12.3.107-py3-none-manylinux1_x86_64.whl.metadata (1.5 kB)\n",
      "Collecting nvidia-cuda-nvrtc-cu12==12.3.107 (from tensorflow[and-cuda])\n",
      "  Using cached nvidia_cuda_nvrtc_cu12-12.3.107-py3-none-manylinux1_x86_64.whl.metadata (1.5 kB)\n",
      "Collecting nvidia-cuda-runtime-cu12==12.3.101 (from tensorflow[and-cuda])\n",
      "  Using cached nvidia_cuda_runtime_cu12-12.3.101-py3-none-manylinux1_x86_64.whl.metadata (1.5 kB)\n",
      "Collecting nvidia-cudnn-cu12==8.9.7.29 (from tensorflow[and-cuda])\n",
      "  Using cached nvidia_cudnn_cu12-8.9.7.29-py3-none-manylinux1_x86_64.whl.metadata (1.6 kB)\n",
      "Collecting nvidia-cufft-cu12==11.0.12.1 (from tensorflow[and-cuda])\n",
      "  Using cached nvidia_cufft_cu12-11.0.12.1-py3-none-manylinux1_x86_64.whl.metadata (1.5 kB)\n",
      "Collecting nvidia-curand-cu12==10.3.4.107 (from tensorflow[and-cuda])\n",
      "  Using cached nvidia_curand_cu12-10.3.4.107-py3-none-manylinux1_x86_64.whl.metadata (1.5 kB)\n",
      "Collecting nvidia-cusolver-cu12==11.5.4.101 (from tensorflow[and-cuda])\n",
      "  Using cached nvidia_cusolver_cu12-11.5.4.101-py3-none-manylinux1_x86_64.whl.metadata (1.6 kB)\n",
      "Collecting nvidia-cusparse-cu12==12.2.0.103 (from tensorflow[and-cuda])\n",
      "  Using cached nvidia_cusparse_cu12-12.2.0.103-py3-none-manylinux1_x86_64.whl.metadata (1.6 kB)\n",
      "Collecting nvidia-nccl-cu12==2.19.3 (from tensorflow[and-cuda])\n",
      "  Using cached nvidia_nccl_cu12-2.19.3-py3-none-manylinux1_x86_64.whl.metadata (1.8 kB)\n",
      "Collecting nvidia-nvjitlink-cu12==12.3.101 (from tensorflow[and-cuda])\n",
      "  Using cached nvidia_nvjitlink_cu12-12.3.101-py3-none-manylinux1_x86_64.whl.metadata (1.5 kB)\n",
      "Requirement already satisfied: wheel<1.0,>=0.23.0 in ./tfod/lib/python3.11/site-packages (from astunparse>=1.6.0->tensorflow[and-cuda]) (0.43.0)\n",
      "Requirement already satisfied: rich in ./tfod/lib/python3.11/site-packages (from keras>=3.0.0->tensorflow[and-cuda]) (13.7.1)\n",
      "Requirement already satisfied: namex in ./tfod/lib/python3.11/site-packages (from keras>=3.0.0->tensorflow[and-cuda]) (0.0.8)\n",
      "Requirement already satisfied: optree in ./tfod/lib/python3.11/site-packages (from keras>=3.0.0->tensorflow[and-cuda]) (0.11.0)\n",
      "Requirement already satisfied: charset-normalizer<4,>=2 in ./tfod/lib/python3.11/site-packages (from requests<3,>=2.21.0->tensorflow[and-cuda]) (3.3.2)\n",
      "Requirement already satisfied: idna<4,>=2.5 in ./tfod/lib/python3.11/site-packages (from requests<3,>=2.21.0->tensorflow[and-cuda]) (3.7)\n",
      "Requirement already satisfied: urllib3<3,>=1.21.1 in ./tfod/lib/python3.11/site-packages (from requests<3,>=2.21.0->tensorflow[and-cuda]) (2.2.1)\n",
      "Requirement already satisfied: certifi>=2017.4.17 in ./tfod/lib/python3.11/site-packages (from requests<3,>=2.21.0->tensorflow[and-cuda]) (2024.2.2)\n",
      "Requirement already satisfied: markdown>=2.6.8 in ./tfod/lib/python3.11/site-packages (from tensorboard<2.17,>=2.16->tensorflow[and-cuda]) (3.6)\n",
      "Requirement already satisfied: tensorboard-data-server<0.8.0,>=0.7.0 in ./tfod/lib/python3.11/site-packages (from tensorboard<2.17,>=2.16->tensorflow[and-cuda]) (0.7.2)\n",
      "Requirement already satisfied: werkzeug>=1.0.1 in ./tfod/lib/python3.11/site-packages (from tensorboard<2.17,>=2.16->tensorflow[and-cuda]) (3.0.3)\n",
      "Requirement already satisfied: MarkupSafe>=2.1.1 in ./tfod/lib/python3.11/site-packages (from werkzeug>=1.0.1->tensorboard<2.17,>=2.16->tensorflow[and-cuda]) (2.1.5)\n",
      "Requirement already satisfied: markdown-it-py>=2.2.0 in ./tfod/lib/python3.11/site-packages (from rich->keras>=3.0.0->tensorflow[and-cuda]) (3.0.0)\n",
      "Requirement already satisfied: pygments<3.0.0,>=2.13.0 in ./tfod/lib/python3.11/site-packages (from rich->keras>=3.0.0->tensorflow[and-cuda]) (2.18.0)\n",
      "Requirement already satisfied: mdurl~=0.1 in ./tfod/lib/python3.11/site-packages (from markdown-it-py>=2.2.0->rich->keras>=3.0.0->tensorflow[and-cuda]) (0.1.2)\n",
      "Using cached nvidia_cublas_cu12-12.3.4.1-py3-none-manylinux1_x86_64.whl (412.6 MB)\n",
      "Using cached nvidia_cuda_cupti_cu12-12.3.101-py3-none-manylinux1_x86_64.whl (14.0 MB)\n",
      "Using cached nvidia_cuda_nvcc_cu12-12.3.107-py3-none-manylinux1_x86_64.whl (22.0 MB)\n",
      "Using cached nvidia_cuda_nvrtc_cu12-12.3.107-py3-none-manylinux1_x86_64.whl (24.9 MB)\n",
      "Using cached nvidia_cuda_runtime_cu12-12.3.101-py3-none-manylinux1_x86_64.whl (867 kB)\n",
      "Using cached nvidia_cudnn_cu12-8.9.7.29-py3-none-manylinux1_x86_64.whl (704.7 MB)\n",
      "Using cached nvidia_cufft_cu12-11.0.12.1-py3-none-manylinux1_x86_64.whl (98.8 MB)\n",
      "Using cached nvidia_curand_cu12-10.3.4.107-py3-none-manylinux1_x86_64.whl (56.3 MB)\n",
      "Using cached nvidia_cusolver_cu12-11.5.4.101-py3-none-manylinux1_x86_64.whl (125.2 MB)\n",
      "Using cached nvidia_cusparse_cu12-12.2.0.103-py3-none-manylinux1_x86_64.whl (197.5 MB)\n",
      "Using cached nvidia_nccl_cu12-2.19.3-py3-none-manylinux1_x86_64.whl (166.0 MB)\n",
      "Using cached nvidia_nvjitlink_cu12-12.3.101-py3-none-manylinux1_x86_64.whl (20.5 MB)\n",
      "Installing collected packages: nvidia-nvjitlink-cu12, nvidia-nccl-cu12, nvidia-curand-cu12, nvidia-cufft-cu12, nvidia-cuda-runtime-cu12, nvidia-cuda-nvrtc-cu12, nvidia-cuda-nvcc-cu12, nvidia-cuda-cupti-cu12, nvidia-cublas-cu12, nvidia-cusparse-cu12, nvidia-cudnn-cu12, nvidia-cusolver-cu12\n",
      "Successfully installed nvidia-cublas-cu12-12.3.4.1 nvidia-cuda-cupti-cu12-12.3.101 nvidia-cuda-nvcc-cu12-12.3.107 nvidia-cuda-nvrtc-cu12-12.3.107 nvidia-cuda-runtime-cu12-12.3.101 nvidia-cudnn-cu12-8.9.7.29 nvidia-cufft-cu12-11.0.12.1 nvidia-curand-cu12-10.3.4.107 nvidia-cusolver-cu12-11.5.4.101 nvidia-cusparse-cu12-12.2.0.103 nvidia-nccl-cu12-2.19.3 nvidia-nvjitlink-cu12-12.3.101\n"
     ]
    }
   ],
   "source": [
    "!pip install tensorflow[and-cuda]"
   ]
  },
  {
   "cell_type": "code",
   "execution_count": 14,
   "metadata": {},
   "outputs": [
    {
     "name": "stdout",
     "output_type": "stream",
     "text": [
      "Requirement already satisfied: tensorflow in ./tfod/lib/python3.11/site-packages (2.16.1)\n",
      "Requirement already satisfied: absl-py>=1.0.0 in ./tfod/lib/python3.11/site-packages (from tensorflow) (1.4.0)\n",
      "Requirement already satisfied: astunparse>=1.6.0 in ./tfod/lib/python3.11/site-packages (from tensorflow) (1.6.3)\n",
      "Requirement already satisfied: flatbuffers>=23.5.26 in ./tfod/lib/python3.11/site-packages (from tensorflow) (24.3.25)\n",
      "Requirement already satisfied: gast!=0.5.0,!=0.5.1,!=0.5.2,>=0.2.1 in ./tfod/lib/python3.11/site-packages (from tensorflow) (0.5.4)\n",
      "Requirement already satisfied: google-pasta>=0.1.1 in ./tfod/lib/python3.11/site-packages (from tensorflow) (0.2.0)\n",
      "Requirement already satisfied: h5py>=3.10.0 in ./tfod/lib/python3.11/site-packages (from tensorflow) (3.11.0)\n",
      "Requirement already satisfied: libclang>=13.0.0 in ./tfod/lib/python3.11/site-packages (from tensorflow) (18.1.1)\n",
      "Requirement already satisfied: ml-dtypes~=0.3.1 in ./tfod/lib/python3.11/site-packages (from tensorflow) (0.3.2)\n",
      "Requirement already satisfied: opt-einsum>=2.3.2 in ./tfod/lib/python3.11/site-packages (from tensorflow) (3.3.0)\n",
      "Requirement already satisfied: packaging in ./tfod/lib/python3.11/site-packages (from tensorflow) (24.0)\n",
      "Requirement already satisfied: protobuf!=4.21.0,!=4.21.1,!=4.21.2,!=4.21.3,!=4.21.4,!=4.21.5,<5.0.0dev,>=3.20.3 in ./tfod/lib/python3.11/site-packages (from tensorflow) (4.25.3)\n",
      "Requirement already satisfied: requests<3,>=2.21.0 in ./tfod/lib/python3.11/site-packages (from tensorflow) (2.32.2)\n",
      "Requirement already satisfied: setuptools in ./tfod/lib/python3.11/site-packages (from tensorflow) (65.5.0)\n",
      "Requirement already satisfied: six>=1.12.0 in ./tfod/lib/python3.11/site-packages (from tensorflow) (1.16.0)\n",
      "Requirement already satisfied: termcolor>=1.1.0 in ./tfod/lib/python3.11/site-packages (from tensorflow) (2.4.0)\n",
      "Requirement already satisfied: typing-extensions>=3.6.6 in ./tfod/lib/python3.11/site-packages (from tensorflow) (4.11.0)\n",
      "Requirement already satisfied: wrapt>=1.11.0 in ./tfod/lib/python3.11/site-packages (from tensorflow) (1.16.0)\n",
      "Requirement already satisfied: grpcio<2.0,>=1.24.3 in ./tfod/lib/python3.11/site-packages (from tensorflow) (1.64.0)\n",
      "Requirement already satisfied: tensorboard<2.17,>=2.16 in ./tfod/lib/python3.11/site-packages (from tensorflow) (2.16.2)\n",
      "Requirement already satisfied: keras>=3.0.0 in ./tfod/lib/python3.11/site-packages (from tensorflow) (3.3.3)\n",
      "Requirement already satisfied: tensorflow-io-gcs-filesystem>=0.23.1 in ./tfod/lib/python3.11/site-packages (from tensorflow) (0.37.0)\n",
      "Requirement already satisfied: numpy<2.0.0,>=1.23.5 in ./tfod/lib/python3.11/site-packages (from tensorflow) (1.26.4)\n",
      "Requirement already satisfied: wheel<1.0,>=0.23.0 in ./tfod/lib/python3.11/site-packages (from astunparse>=1.6.0->tensorflow) (0.43.0)\n",
      "Requirement already satisfied: rich in ./tfod/lib/python3.11/site-packages (from keras>=3.0.0->tensorflow) (13.7.1)\n",
      "Requirement already satisfied: namex in ./tfod/lib/python3.11/site-packages (from keras>=3.0.0->tensorflow) (0.0.8)\n",
      "Requirement already satisfied: optree in ./tfod/lib/python3.11/site-packages (from keras>=3.0.0->tensorflow) (0.11.0)\n",
      "Requirement already satisfied: charset-normalizer<4,>=2 in ./tfod/lib/python3.11/site-packages (from requests<3,>=2.21.0->tensorflow) (3.3.2)\n",
      "Requirement already satisfied: idna<4,>=2.5 in ./tfod/lib/python3.11/site-packages (from requests<3,>=2.21.0->tensorflow) (3.7)\n",
      "Requirement already satisfied: urllib3<3,>=1.21.1 in ./tfod/lib/python3.11/site-packages (from requests<3,>=2.21.0->tensorflow) (2.2.1)\n",
      "Requirement already satisfied: certifi>=2017.4.17 in ./tfod/lib/python3.11/site-packages (from requests<3,>=2.21.0->tensorflow) (2024.2.2)\n",
      "Requirement already satisfied: markdown>=2.6.8 in ./tfod/lib/python3.11/site-packages (from tensorboard<2.17,>=2.16->tensorflow) (3.6)\n",
      "Requirement already satisfied: tensorboard-data-server<0.8.0,>=0.7.0 in ./tfod/lib/python3.11/site-packages (from tensorboard<2.17,>=2.16->tensorflow) (0.7.2)\n",
      "Requirement already satisfied: werkzeug>=1.0.1 in ./tfod/lib/python3.11/site-packages (from tensorboard<2.17,>=2.16->tensorflow) (3.0.3)\n",
      "Requirement already satisfied: MarkupSafe>=2.1.1 in ./tfod/lib/python3.11/site-packages (from werkzeug>=1.0.1->tensorboard<2.17,>=2.16->tensorflow) (2.1.5)\n",
      "Requirement already satisfied: markdown-it-py>=2.2.0 in ./tfod/lib/python3.11/site-packages (from rich->keras>=3.0.0->tensorflow) (3.0.0)\n",
      "Requirement already satisfied: pygments<3.0.0,>=2.13.0 in ./tfod/lib/python3.11/site-packages (from rich->keras>=3.0.0->tensorflow) (2.18.0)\n",
      "Requirement already satisfied: mdurl~=0.1 in ./tfod/lib/python3.11/site-packages (from markdown-it-py>=2.2.0->rich->keras>=3.0.0->tensorflow) (0.1.2)\n"
     ]
    }
   ],
   "source": [
    "!pip install tensorflow --upgrade"
   ]
  },
  {
   "cell_type": "code",
   "execution_count": 15,
   "metadata": {},
   "outputs": [
    {
     "name": "stdout",
     "output_type": "stream",
     "text": [
      "Found existing installation: protobuf 4.25.3\n",
      "Uninstalling protobuf-4.25.3:\n",
      "  Successfully uninstalled protobuf-4.25.3\n",
      "Note: you may need to restart the kernel to use updated packages.\n"
     ]
    }
   ],
   "source": [
    "pip uninstall protobuf -y"
   ]
  },
  {
   "cell_type": "code",
   "execution_count": 2,
   "metadata": {},
   "outputs": [
    {
     "name": "stdout",
     "output_type": "stream",
     "text": [
      "\u001b[33mWARNING: Skipping protobuf as it is not installed.\u001b[0m\u001b[33m\n",
      "\u001b[0m\u001b[33mWARNING: Skipping matplotlib as it is not installed.\u001b[0m\u001b[33m\n",
      "\u001b[0mCollecting protobuf\n",
      "  Using cached protobuf-5.26.1-cp37-abi3-manylinux2014_x86_64.whl.metadata (592 bytes)\n",
      "Collecting matplotlib==3.2.1\n",
      "  Using cached matplotlib-3.2.1.tar.gz (40.3 MB)\n",
      "  Preparing metadata (setup.py) ... \u001b[?25ldone\n",
      "\u001b[?25hRequirement already satisfied: cycler>=0.10 in ./tfod/lib/python3.11/site-packages (from matplotlib==3.2.1) (0.12.1)\n",
      "Requirement already satisfied: kiwisolver>=1.0.1 in ./tfod/lib/python3.11/site-packages (from matplotlib==3.2.1) (1.4.5)\n",
      "Requirement already satisfied: numpy>=1.11 in ./tfod/lib/python3.11/site-packages (from matplotlib==3.2.1) (1.26.4)\n",
      "Requirement already satisfied: pyparsing!=2.0.4,!=2.1.2,!=2.1.6,>=2.0.1 in ./tfod/lib/python3.11/site-packages (from matplotlib==3.2.1) (2.4.7)\n",
      "Requirement already satisfied: python-dateutil>=2.1 in ./tfod/lib/python3.11/site-packages (from matplotlib==3.2.1) (2.9.0.post0)\n",
      "Requirement already satisfied: six>=1.5 in ./tfod/lib/python3.11/site-packages (from python-dateutil>=2.1->matplotlib==3.2.1) (1.16.0)\n",
      "Using cached protobuf-5.26.1-cp37-abi3-manylinux2014_x86_64.whl (302 kB)\n",
      "Building wheels for collected packages: matplotlib\n",
      "  Building wheel for matplotlib (setup.py) ... \u001b[?25lerror\n",
      "  \u001b[1;31merror\u001b[0m: \u001b[1msubprocess-exited-with-error\u001b[0m\n",
      "  \n",
      "  \u001b[31m×\u001b[0m \u001b[32mpython setup.py bdist_wheel\u001b[0m did not run successfully.\n",
      "  \u001b[31m│\u001b[0m exit code: \u001b[1;36m1\u001b[0m\n",
      "  \u001b[31m╰─>\u001b[0m \u001b[31m[590 lines of output]\u001b[0m\n",
      "  \u001b[31m   \u001b[0m \n",
      "  \u001b[31m   \u001b[0m Edit setup.cfg to change the build options; suppress output with --quiet.\n",
      "  \u001b[31m   \u001b[0m \n",
      "  \u001b[31m   \u001b[0m BUILDING MATPLOTLIB\n",
      "  \u001b[31m   \u001b[0m   matplotlib: yes [3.2.1]\n",
      "  \u001b[31m   \u001b[0m       python: yes [3.11.9 (main, Apr 27 2024, 21:16:11) [GCC 13.2.0]]\n",
      "  \u001b[31m   \u001b[0m     platform: yes [linux]\n",
      "  \u001b[31m   \u001b[0m  sample_data: yes [installing]\n",
      "  \u001b[31m   \u001b[0m        tests: no  [skipping due to configuration]\n",
      "  \u001b[31m   \u001b[0m          agg: yes [installing]\n",
      "  \u001b[31m   \u001b[0m        tkagg: yes [installing; run-time loading from Python Tcl/Tk]\n",
      "  \u001b[31m   \u001b[0m       macosx: no  [Mac OS-X only]\n",
      "  \u001b[31m   \u001b[0m \n",
      "  \u001b[31m   \u001b[0m /home/toofan/Desktop/New Folder/Tensorflow-Object-Detection/tfod/lib/python3.11/site-packages/setuptools/dist.py:286: SetuptoolsDeprecationWarning: The namespace_packages parameter is deprecated, consider using implicit namespaces instead (PEP 420).\n",
      "  \u001b[31m   \u001b[0m   warnings.warn(msg, SetuptoolsDeprecationWarning)\n",
      "  \u001b[31m   \u001b[0m running bdist_wheel\n",
      "  \u001b[31m   \u001b[0m running build\n",
      "  \u001b[31m   \u001b[0m running build_py\n",
      "  \u001b[31m   \u001b[0m creating build\n",
      "  \u001b[31m   \u001b[0m creating build/lib.linux-x86_64-cpython-311\n",
      "  \u001b[31m   \u001b[0m copying lib/pylab.py -> build/lib.linux-x86_64-cpython-311\n",
      "  \u001b[31m   \u001b[0m creating build/lib.linux-x86_64-cpython-311/matplotlib\n",
      "  \u001b[31m   \u001b[0m copying lib/matplotlib/gridspec.py -> build/lib.linux-x86_64-cpython-311/matplotlib\n",
      "  \u001b[31m   \u001b[0m copying lib/matplotlib/scale.py -> build/lib.linux-x86_64-cpython-311/matplotlib\n",
      "  \u001b[31m   \u001b[0m copying lib/matplotlib/hatch.py -> build/lib.linux-x86_64-cpython-311/matplotlib\n",
      "  \u001b[31m   \u001b[0m copying lib/matplotlib/animation.py -> build/lib.linux-x86_64-cpython-311/matplotlib\n",
      "  \u001b[31m   \u001b[0m copying lib/matplotlib/artist.py -> build/lib.linux-x86_64-cpython-311/matplotlib\n",
      "  \u001b[31m   \u001b[0m copying lib/matplotlib/sankey.py -> build/lib.linux-x86_64-cpython-311/matplotlib\n",
      "  \u001b[31m   \u001b[0m copying lib/matplotlib/image.py -> build/lib.linux-x86_64-cpython-311/matplotlib\n",
      "  \u001b[31m   \u001b[0m copying lib/matplotlib/streamplot.py -> build/lib.linux-x86_64-cpython-311/matplotlib\n",
      "  \u001b[31m   \u001b[0m copying lib/matplotlib/dates.py -> build/lib.linux-x86_64-cpython-311/matplotlib\n",
      "  \u001b[31m   \u001b[0m copying lib/matplotlib/_version.py -> build/lib.linux-x86_64-cpython-311/matplotlib\n",
      "  \u001b[31m   \u001b[0m copying lib/matplotlib/markers.py -> build/lib.linux-x86_64-cpython-311/matplotlib\n",
      "  \u001b[31m   \u001b[0m copying lib/matplotlib/_layoutbox.py -> build/lib.linux-x86_64-cpython-311/matplotlib\n",
      "  \u001b[31m   \u001b[0m copying lib/matplotlib/transforms.py -> build/lib.linux-x86_64-cpython-311/matplotlib\n",
      "  \u001b[31m   \u001b[0m copying lib/matplotlib/colorbar.py -> build/lib.linux-x86_64-cpython-311/matplotlib\n",
      "  \u001b[31m   \u001b[0m copying lib/matplotlib/dviread.py -> build/lib.linux-x86_64-cpython-311/matplotlib\n",
      "  \u001b[31m   \u001b[0m copying lib/matplotlib/patheffects.py -> build/lib.linux-x86_64-cpython-311/matplotlib\n",
      "  \u001b[31m   \u001b[0m copying lib/matplotlib/backend_managers.py -> build/lib.linux-x86_64-cpython-311/matplotlib\n",
      "  \u001b[31m   \u001b[0m copying lib/matplotlib/mathtext.py -> build/lib.linux-x86_64-cpython-311/matplotlib\n",
      "  \u001b[31m   \u001b[0m copying lib/matplotlib/texmanager.py -> build/lib.linux-x86_64-cpython-311/matplotlib\n",
      "  \u001b[31m   \u001b[0m copying lib/matplotlib/docstring.py -> build/lib.linux-x86_64-cpython-311/matplotlib\n",
      "  \u001b[31m   \u001b[0m copying lib/matplotlib/units.py -> build/lib.linux-x86_64-cpython-311/matplotlib\n",
      "  \u001b[31m   \u001b[0m copying lib/matplotlib/spines.py -> build/lib.linux-x86_64-cpython-311/matplotlib\n",
      "  \u001b[31m   \u001b[0m copying lib/matplotlib/mlab.py -> build/lib.linux-x86_64-cpython-311/matplotlib\n",
      "  \u001b[31m   \u001b[0m copying lib/matplotlib/_constrained_layout.py -> build/lib.linux-x86_64-cpython-311/matplotlib\n",
      "  \u001b[31m   \u001b[0m copying lib/matplotlib/figure.py -> build/lib.linux-x86_64-cpython-311/matplotlib\n",
      "  \u001b[31m   \u001b[0m copying lib/matplotlib/_color_data.py -> build/lib.linux-x86_64-cpython-311/matplotlib\n",
      "  \u001b[31m   \u001b[0m copying lib/matplotlib/ticker.py -> build/lib.linux-x86_64-cpython-311/matplotlib\n",
      "  \u001b[31m   \u001b[0m copying lib/matplotlib/table.py -> build/lib.linux-x86_64-cpython-311/matplotlib\n",
      "  \u001b[31m   \u001b[0m copying lib/matplotlib/_cm_listed.py -> build/lib.linux-x86_64-cpython-311/matplotlib\n",
      "  \u001b[31m   \u001b[0m copying lib/matplotlib/backend_bases.py -> build/lib.linux-x86_64-cpython-311/matplotlib\n",
      "  \u001b[31m   \u001b[0m copying lib/matplotlib/_text_layout.py -> build/lib.linux-x86_64-cpython-311/matplotlib\n",
      "  \u001b[31m   \u001b[0m copying lib/matplotlib/_cm.py -> build/lib.linux-x86_64-cpython-311/matplotlib\n",
      "  \u001b[31m   \u001b[0m copying lib/matplotlib/_animation_data.py -> build/lib.linux-x86_64-cpython-311/matplotlib\n",
      "  \u001b[31m   \u001b[0m copying lib/matplotlib/type1font.py -> build/lib.linux-x86_64-cpython-311/matplotlib\n",
      "  \u001b[31m   \u001b[0m copying lib/matplotlib/contour.py -> build/lib.linux-x86_64-cpython-311/matplotlib\n",
      "  \u001b[31m   \u001b[0m copying lib/matplotlib/legend.py -> build/lib.linux-x86_64-cpython-311/matplotlib\n",
      "  \u001b[31m   \u001b[0m copying lib/matplotlib/rcsetup.py -> build/lib.linux-x86_64-cpython-311/matplotlib\n",
      "  \u001b[31m   \u001b[0m copying lib/matplotlib/pyplot.py -> build/lib.linux-x86_64-cpython-311/matplotlib\n",
      "  \u001b[31m   \u001b[0m copying lib/matplotlib/lines.py -> build/lib.linux-x86_64-cpython-311/matplotlib\n",
      "  \u001b[31m   \u001b[0m copying lib/matplotlib/patches.py -> build/lib.linux-x86_64-cpython-311/matplotlib\n",
      "  \u001b[31m   \u001b[0m copying lib/matplotlib/pylab.py -> build/lib.linux-x86_64-cpython-311/matplotlib\n",
      "  \u001b[31m   \u001b[0m copying lib/matplotlib/offsetbox.py -> build/lib.linux-x86_64-cpython-311/matplotlib\n",
      "  \u001b[31m   \u001b[0m copying lib/matplotlib/textpath.py -> build/lib.linux-x86_64-cpython-311/matplotlib\n",
      "  \u001b[31m   \u001b[0m copying lib/matplotlib/blocking_input.py -> build/lib.linux-x86_64-cpython-311/matplotlib\n",
      "  \u001b[31m   \u001b[0m copying lib/matplotlib/_mathtext_data.py -> build/lib.linux-x86_64-cpython-311/matplotlib\n",
      "  \u001b[31m   \u001b[0m copying lib/matplotlib/widgets.py -> build/lib.linux-x86_64-cpython-311/matplotlib\n",
      "  \u001b[31m   \u001b[0m copying lib/matplotlib/colors.py -> build/lib.linux-x86_64-cpython-311/matplotlib\n",
      "  \u001b[31m   \u001b[0m copying lib/matplotlib/bezier.py -> build/lib.linux-x86_64-cpython-311/matplotlib\n",
      "  \u001b[31m   \u001b[0m copying lib/matplotlib/stackplot.py -> build/lib.linux-x86_64-cpython-311/matplotlib\n",
      "  \u001b[31m   \u001b[0m copying lib/matplotlib/tight_layout.py -> build/lib.linux-x86_64-cpython-311/matplotlib\n",
      "  \u001b[31m   \u001b[0m copying lib/matplotlib/axis.py -> build/lib.linux-x86_64-cpython-311/matplotlib\n",
      "  \u001b[31m   \u001b[0m copying lib/matplotlib/_pylab_helpers.py -> build/lib.linux-x86_64-cpython-311/matplotlib\n",
      "  \u001b[31m   \u001b[0m copying lib/matplotlib/category.py -> build/lib.linux-x86_64-cpython-311/matplotlib\n",
      "  \u001b[31m   \u001b[0m copying lib/matplotlib/quiver.py -> build/lib.linux-x86_64-cpython-311/matplotlib\n",
      "  \u001b[31m   \u001b[0m copying lib/matplotlib/cm.py -> build/lib.linux-x86_64-cpython-311/matplotlib\n",
      "  \u001b[31m   \u001b[0m copying lib/matplotlib/collections.py -> build/lib.linux-x86_64-cpython-311/matplotlib\n",
      "  \u001b[31m   \u001b[0m copying lib/matplotlib/tight_bbox.py -> build/lib.linux-x86_64-cpython-311/matplotlib\n",
      "  \u001b[31m   \u001b[0m copying lib/matplotlib/fontconfig_pattern.py -> build/lib.linux-x86_64-cpython-311/matplotlib\n",
      "  \u001b[31m   \u001b[0m copying lib/matplotlib/container.py -> build/lib.linux-x86_64-cpython-311/matplotlib\n",
      "  \u001b[31m   \u001b[0m copying lib/matplotlib/text.py -> build/lib.linux-x86_64-cpython-311/matplotlib\n",
      "  \u001b[31m   \u001b[0m copying lib/matplotlib/legend_handler.py -> build/lib.linux-x86_64-cpython-311/matplotlib\n",
      "  \u001b[31m   \u001b[0m copying lib/matplotlib/font_manager.py -> build/lib.linux-x86_64-cpython-311/matplotlib\n",
      "  \u001b[31m   \u001b[0m copying lib/matplotlib/__init__.py -> build/lib.linux-x86_64-cpython-311/matplotlib\n",
      "  \u001b[31m   \u001b[0m copying lib/matplotlib/path.py -> build/lib.linux-x86_64-cpython-311/matplotlib\n",
      "  \u001b[31m   \u001b[0m copying lib/matplotlib/afm.py -> build/lib.linux-x86_64-cpython-311/matplotlib\n",
      "  \u001b[31m   \u001b[0m copying lib/matplotlib/backend_tools.py -> build/lib.linux-x86_64-cpython-311/matplotlib\n",
      "  \u001b[31m   \u001b[0m creating build/lib.linux-x86_64-cpython-311/mpl_toolkits\n",
      "  \u001b[31m   \u001b[0m copying lib/mpl_toolkits/__init__.py -> build/lib.linux-x86_64-cpython-311/mpl_toolkits\n",
      "  \u001b[31m   \u001b[0m creating build/lib.linux-x86_64-cpython-311/matplotlib/tri\n",
      "  \u001b[31m   \u001b[0m copying lib/matplotlib/tri/triinterpolate.py -> build/lib.linux-x86_64-cpython-311/matplotlib/tri\n",
      "  \u001b[31m   \u001b[0m copying lib/matplotlib/tri/triplot.py -> build/lib.linux-x86_64-cpython-311/matplotlib/tri\n",
      "  \u001b[31m   \u001b[0m copying lib/matplotlib/tri/triangulation.py -> build/lib.linux-x86_64-cpython-311/matplotlib/tri\n",
      "  \u001b[31m   \u001b[0m copying lib/matplotlib/tri/trifinder.py -> build/lib.linux-x86_64-cpython-311/matplotlib/tri\n",
      "  \u001b[31m   \u001b[0m copying lib/matplotlib/tri/tripcolor.py -> build/lib.linux-x86_64-cpython-311/matplotlib/tri\n",
      "  \u001b[31m   \u001b[0m copying lib/matplotlib/tri/tritools.py -> build/lib.linux-x86_64-cpython-311/matplotlib/tri\n",
      "  \u001b[31m   \u001b[0m copying lib/matplotlib/tri/tricontour.py -> build/lib.linux-x86_64-cpython-311/matplotlib/tri\n",
      "  \u001b[31m   \u001b[0m copying lib/matplotlib/tri/trirefine.py -> build/lib.linux-x86_64-cpython-311/matplotlib/tri\n",
      "  \u001b[31m   \u001b[0m copying lib/matplotlib/tri/__init__.py -> build/lib.linux-x86_64-cpython-311/matplotlib/tri\n",
      "  \u001b[31m   \u001b[0m creating build/lib.linux-x86_64-cpython-311/matplotlib/style\n",
      "  \u001b[31m   \u001b[0m copying lib/matplotlib/style/core.py -> build/lib.linux-x86_64-cpython-311/matplotlib/style\n",
      "  \u001b[31m   \u001b[0m copying lib/matplotlib/style/__init__.py -> build/lib.linux-x86_64-cpython-311/matplotlib/style\n",
      "  \u001b[31m   \u001b[0m creating build/lib.linux-x86_64-cpython-311/matplotlib/compat\n",
      "  \u001b[31m   \u001b[0m copying lib/matplotlib/compat/__init__.py -> build/lib.linux-x86_64-cpython-311/matplotlib/compat\n",
      "  \u001b[31m   \u001b[0m creating build/lib.linux-x86_64-cpython-311/matplotlib/axes\n",
      "  \u001b[31m   \u001b[0m copying lib/matplotlib/axes/_secondary_axes.py -> build/lib.linux-x86_64-cpython-311/matplotlib/axes\n",
      "  \u001b[31m   \u001b[0m copying lib/matplotlib/axes/_base.py -> build/lib.linux-x86_64-cpython-311/matplotlib/axes\n",
      "  \u001b[31m   \u001b[0m copying lib/matplotlib/axes/_axes.py -> build/lib.linux-x86_64-cpython-311/matplotlib/axes\n",
      "  \u001b[31m   \u001b[0m copying lib/matplotlib/axes/_subplots.py -> build/lib.linux-x86_64-cpython-311/matplotlib/axes\n",
      "  \u001b[31m   \u001b[0m copying lib/matplotlib/axes/__init__.py -> build/lib.linux-x86_64-cpython-311/matplotlib/axes\n",
      "  \u001b[31m   \u001b[0m creating build/lib.linux-x86_64-cpython-311/matplotlib/cbook\n",
      "  \u001b[31m   \u001b[0m copying lib/matplotlib/cbook/deprecation.py -> build/lib.linux-x86_64-cpython-311/matplotlib/cbook\n",
      "  \u001b[31m   \u001b[0m copying lib/matplotlib/cbook/__init__.py -> build/lib.linux-x86_64-cpython-311/matplotlib/cbook\n",
      "  \u001b[31m   \u001b[0m creating build/lib.linux-x86_64-cpython-311/matplotlib/testing\n",
      "  \u001b[31m   \u001b[0m copying lib/matplotlib/testing/compare.py -> build/lib.linux-x86_64-cpython-311/matplotlib/testing\n",
      "  \u001b[31m   \u001b[0m copying lib/matplotlib/testing/exceptions.py -> build/lib.linux-x86_64-cpython-311/matplotlib/testing\n",
      "  \u001b[31m   \u001b[0m copying lib/matplotlib/testing/conftest.py -> build/lib.linux-x86_64-cpython-311/matplotlib/testing\n",
      "  \u001b[31m   \u001b[0m copying lib/matplotlib/testing/decorators.py -> build/lib.linux-x86_64-cpython-311/matplotlib/testing\n",
      "  \u001b[31m   \u001b[0m copying lib/matplotlib/testing/disable_internet.py -> build/lib.linux-x86_64-cpython-311/matplotlib/testing\n",
      "  \u001b[31m   \u001b[0m copying lib/matplotlib/testing/__init__.py -> build/lib.linux-x86_64-cpython-311/matplotlib/testing\n",
      "  \u001b[31m   \u001b[0m creating build/lib.linux-x86_64-cpython-311/matplotlib/backends\n",
      "  \u001b[31m   \u001b[0m copying lib/matplotlib/backends/backend_qt4cairo.py -> build/lib.linux-x86_64-cpython-311/matplotlib/backends\n",
      "  \u001b[31m   \u001b[0m copying lib/matplotlib/backends/backend_qt4agg.py -> build/lib.linux-x86_64-cpython-311/matplotlib/backends\n",
      "  \u001b[31m   \u001b[0m copying lib/matplotlib/backends/backend_pdf.py -> build/lib.linux-x86_64-cpython-311/matplotlib/backends\n",
      "  \u001b[31m   \u001b[0m copying lib/matplotlib/backends/qt_compat.py -> build/lib.linux-x86_64-cpython-311/matplotlib/backends\n",
      "  \u001b[31m   \u001b[0m copying lib/matplotlib/backends/backend_gtk3cairo.py -> build/lib.linux-x86_64-cpython-311/matplotlib/backends\n",
      "  \u001b[31m   \u001b[0m copying lib/matplotlib/backends/backend_tkcairo.py -> build/lib.linux-x86_64-cpython-311/matplotlib/backends\n",
      "  \u001b[31m   \u001b[0m copying lib/matplotlib/backends/backend_pgf.py -> build/lib.linux-x86_64-cpython-311/matplotlib/backends\n",
      "  \u001b[31m   \u001b[0m copying lib/matplotlib/backends/backend_webagg_core.py -> build/lib.linux-x86_64-cpython-311/matplotlib/backends\n",
      "  \u001b[31m   \u001b[0m copying lib/matplotlib/backends/backend_webagg.py -> build/lib.linux-x86_64-cpython-311/matplotlib/backends\n",
      "  \u001b[31m   \u001b[0m copying lib/matplotlib/backends/backend_wxagg.py -> build/lib.linux-x86_64-cpython-311/matplotlib/backends\n",
      "  \u001b[31m   \u001b[0m copying lib/matplotlib/backends/backend_gtk3.py -> build/lib.linux-x86_64-cpython-311/matplotlib/backends\n",
      "  \u001b[31m   \u001b[0m copying lib/matplotlib/backends/backend_svg.py -> build/lib.linux-x86_64-cpython-311/matplotlib/backends\n",
      "  \u001b[31m   \u001b[0m copying lib/matplotlib/backends/backend_nbagg.py -> build/lib.linux-x86_64-cpython-311/matplotlib/backends\n",
      "  \u001b[31m   \u001b[0m copying lib/matplotlib/backends/backend_qt5.py -> build/lib.linux-x86_64-cpython-311/matplotlib/backends\n",
      "  \u001b[31m   \u001b[0m copying lib/matplotlib/backends/_backend_pdf_ps.py -> build/lib.linux-x86_64-cpython-311/matplotlib/backends\n",
      "  \u001b[31m   \u001b[0m copying lib/matplotlib/backends/backend_gtk3agg.py -> build/lib.linux-x86_64-cpython-311/matplotlib/backends\n",
      "  \u001b[31m   \u001b[0m copying lib/matplotlib/backends/backend_agg.py -> build/lib.linux-x86_64-cpython-311/matplotlib/backends\n",
      "  \u001b[31m   \u001b[0m copying lib/matplotlib/backends/backend_qt4.py -> build/lib.linux-x86_64-cpython-311/matplotlib/backends\n",
      "  \u001b[31m   \u001b[0m copying lib/matplotlib/backends/backend_template.py -> build/lib.linux-x86_64-cpython-311/matplotlib/backends\n",
      "  \u001b[31m   \u001b[0m copying lib/matplotlib/backends/backend_qt5cairo.py -> build/lib.linux-x86_64-cpython-311/matplotlib/backends\n",
      "  \u001b[31m   \u001b[0m copying lib/matplotlib/backends/_backend_tk.py -> build/lib.linux-x86_64-cpython-311/matplotlib/backends\n",
      "  \u001b[31m   \u001b[0m copying lib/matplotlib/backends/backend_tkagg.py -> build/lib.linux-x86_64-cpython-311/matplotlib/backends\n",
      "  \u001b[31m   \u001b[0m copying lib/matplotlib/backends/backend_mixed.py -> build/lib.linux-x86_64-cpython-311/matplotlib/backends\n",
      "  \u001b[31m   \u001b[0m copying lib/matplotlib/backends/backend_cairo.py -> build/lib.linux-x86_64-cpython-311/matplotlib/backends\n",
      "  \u001b[31m   \u001b[0m copying lib/matplotlib/backends/backend_ps.py -> build/lib.linux-x86_64-cpython-311/matplotlib/backends\n",
      "  \u001b[31m   \u001b[0m copying lib/matplotlib/backends/backend_qt5agg.py -> build/lib.linux-x86_64-cpython-311/matplotlib/backends\n",
      "  \u001b[31m   \u001b[0m copying lib/matplotlib/backends/backend_wx.py -> build/lib.linux-x86_64-cpython-311/matplotlib/backends\n",
      "  \u001b[31m   \u001b[0m copying lib/matplotlib/backends/backend_wxcairo.py -> build/lib.linux-x86_64-cpython-311/matplotlib/backends\n",
      "  \u001b[31m   \u001b[0m copying lib/matplotlib/backends/__init__.py -> build/lib.linux-x86_64-cpython-311/matplotlib/backends\n",
      "  \u001b[31m   \u001b[0m copying lib/matplotlib/backends/backend_macosx.py -> build/lib.linux-x86_64-cpython-311/matplotlib/backends\n",
      "  \u001b[31m   \u001b[0m creating build/lib.linux-x86_64-cpython-311/matplotlib/tests\n",
      "  \u001b[31m   \u001b[0m copying lib/matplotlib/tests/test_testing.py -> build/lib.linux-x86_64-cpython-311/matplotlib/tests\n",
      "  \u001b[31m   \u001b[0m copying lib/matplotlib/tests/test_triangulation.py -> build/lib.linux-x86_64-cpython-311/matplotlib/tests\n",
      "  \u001b[31m   \u001b[0m copying lib/matplotlib/tests/test_ttconv.py -> build/lib.linux-x86_64-cpython-311/matplotlib/tests\n",
      "  \u001b[31m   \u001b[0m copying lib/matplotlib/tests/test_compare_images.py -> build/lib.linux-x86_64-cpython-311/matplotlib/tests\n",
      "  \u001b[31m   \u001b[0m copying lib/matplotlib/tests/test_simplification.py -> build/lib.linux-x86_64-cpython-311/matplotlib/tests\n",
      "  \u001b[31m   \u001b[0m copying lib/matplotlib/tests/test_widgets.py -> build/lib.linux-x86_64-cpython-311/matplotlib/tests\n",
      "  \u001b[31m   \u001b[0m copying lib/matplotlib/tests/test_basic.py -> build/lib.linux-x86_64-cpython-311/matplotlib/tests\n",
      "  \u001b[31m   \u001b[0m copying lib/matplotlib/tests/test_constrainedlayout.py -> build/lib.linux-x86_64-cpython-311/matplotlib/tests\n",
      "  \u001b[31m   \u001b[0m copying lib/matplotlib/tests/test_afm.py -> build/lib.linux-x86_64-cpython-311/matplotlib/tests\n",
      "  \u001b[31m   \u001b[0m copying lib/matplotlib/tests/test_backend_tk.py -> build/lib.linux-x86_64-cpython-311/matplotlib/tests\n",
      "  \u001b[31m   \u001b[0m copying lib/matplotlib/tests/test_bbox_tight.py -> build/lib.linux-x86_64-cpython-311/matplotlib/tests\n",
      "  \u001b[31m   \u001b[0m copying lib/matplotlib/tests/test_cycles.py -> build/lib.linux-x86_64-cpython-311/matplotlib/tests\n",
      "  \u001b[31m   \u001b[0m copying lib/matplotlib/tests/test_text.py -> build/lib.linux-x86_64-cpython-311/matplotlib/tests\n",
      "  \u001b[31m   \u001b[0m copying lib/matplotlib/tests/test_spines.py -> build/lib.linux-x86_64-cpython-311/matplotlib/tests\n",
      "  \u001b[31m   \u001b[0m copying lib/matplotlib/tests/test_dates.py -> build/lib.linux-x86_64-cpython-311/matplotlib/tests\n",
      "  \u001b[31m   \u001b[0m copying lib/matplotlib/tests/test_patheffects.py -> build/lib.linux-x86_64-cpython-311/matplotlib/tests\n",
      "  \u001b[31m   \u001b[0m copying lib/matplotlib/tests/test_fontconfig_pattern.py -> build/lib.linux-x86_64-cpython-311/matplotlib/tests\n",
      "  \u001b[31m   \u001b[0m copying lib/matplotlib/tests/test_determinism.py -> build/lib.linux-x86_64-cpython-311/matplotlib/tests\n",
      "  \u001b[31m   \u001b[0m copying lib/matplotlib/tests/test_image.py -> build/lib.linux-x86_64-cpython-311/matplotlib/tests\n",
      "  \u001b[31m   \u001b[0m copying lib/matplotlib/tests/test_marker.py -> build/lib.linux-x86_64-cpython-311/matplotlib/tests\n",
      "  \u001b[31m   \u001b[0m copying lib/matplotlib/tests/test_lines.py -> build/lib.linux-x86_64-cpython-311/matplotlib/tests\n",
      "  \u001b[31m   \u001b[0m copying lib/matplotlib/tests/test_collections.py -> build/lib.linux-x86_64-cpython-311/matplotlib/tests\n",
      "  \u001b[31m   \u001b[0m copying lib/matplotlib/tests/test_backend_pgf.py -> build/lib.linux-x86_64-cpython-311/matplotlib/tests\n",
      "  \u001b[31m   \u001b[0m copying lib/matplotlib/tests/test_subplots.py -> build/lib.linux-x86_64-cpython-311/matplotlib/tests\n",
      "  \u001b[31m   \u001b[0m copying lib/matplotlib/tests/test_quiver.py -> build/lib.linux-x86_64-cpython-311/matplotlib/tests\n",
      "  \u001b[31m   \u001b[0m copying lib/matplotlib/tests/test_backend_svg.py -> build/lib.linux-x86_64-cpython-311/matplotlib/tests\n",
      "  \u001b[31m   \u001b[0m copying lib/matplotlib/tests/test_artist.py -> build/lib.linux-x86_64-cpython-311/matplotlib/tests\n",
      "  \u001b[31m   \u001b[0m copying lib/matplotlib/tests/test_ticker.py -> build/lib.linux-x86_64-cpython-311/matplotlib/tests\n",
      "  \u001b[31m   \u001b[0m copying lib/matplotlib/tests/test_backend_pdf.py -> build/lib.linux-x86_64-cpython-311/matplotlib/tests\n",
      "  \u001b[31m   \u001b[0m copying lib/matplotlib/tests/test_backend_webagg.py -> build/lib.linux-x86_64-cpython-311/matplotlib/tests\n",
      "  \u001b[31m   \u001b[0m copying lib/matplotlib/tests/test_skew.py -> build/lib.linux-x86_64-cpython-311/matplotlib/tests\n",
      "  \u001b[31m   \u001b[0m copying lib/matplotlib/tests/test_patches.py -> build/lib.linux-x86_64-cpython-311/matplotlib/tests\n",
      "  \u001b[31m   \u001b[0m copying lib/matplotlib/tests/test_sphinxext.py -> build/lib.linux-x86_64-cpython-311/matplotlib/tests\n",
      "  \u001b[31m   \u001b[0m copying lib/matplotlib/tests/test_dviread.py -> build/lib.linux-x86_64-cpython-311/matplotlib/tests\n",
      "  \u001b[31m   \u001b[0m copying lib/matplotlib/tests/test_arrow_patches.py -> build/lib.linux-x86_64-cpython-311/matplotlib/tests\n",
      "  \u001b[31m   \u001b[0m copying lib/matplotlib/tests/test_gridspec.py -> build/lib.linux-x86_64-cpython-311/matplotlib/tests\n",
      "  \u001b[31m   \u001b[0m copying lib/matplotlib/tests/test_figure.py -> build/lib.linux-x86_64-cpython-311/matplotlib/tests\n",
      "  \u001b[31m   \u001b[0m copying lib/matplotlib/tests/test_tightlayout.py -> build/lib.linux-x86_64-cpython-311/matplotlib/tests\n",
      "  \u001b[31m   \u001b[0m copying lib/matplotlib/tests/test_agg.py -> build/lib.linux-x86_64-cpython-311/matplotlib/tests\n",
      "  \u001b[31m   \u001b[0m copying lib/matplotlib/tests/test_units.py -> build/lib.linux-x86_64-cpython-311/matplotlib/tests\n",
      "  \u001b[31m   \u001b[0m copying lib/matplotlib/tests/test_font_manager.py -> build/lib.linux-x86_64-cpython-311/matplotlib/tests\n",
      "  \u001b[31m   \u001b[0m copying lib/matplotlib/tests/test_category.py -> build/lib.linux-x86_64-cpython-311/matplotlib/tests\n",
      "  \u001b[31m   \u001b[0m copying lib/matplotlib/tests/test_scale.py -> build/lib.linux-x86_64-cpython-311/matplotlib/tests\n",
      "  \u001b[31m   \u001b[0m copying lib/matplotlib/tests/test_backend_bases.py -> build/lib.linux-x86_64-cpython-311/matplotlib/tests\n",
      "  \u001b[31m   \u001b[0m copying lib/matplotlib/tests/test_cbook.py -> build/lib.linux-x86_64-cpython-311/matplotlib/tests\n",
      "  \u001b[31m   \u001b[0m copying lib/matplotlib/tests/test_matplotlib.py -> build/lib.linux-x86_64-cpython-311/matplotlib/tests\n",
      "  \u001b[31m   \u001b[0m copying lib/matplotlib/tests/test_preprocess_data.py -> build/lib.linux-x86_64-cpython-311/matplotlib/tests\n",
      "  \u001b[31m   \u001b[0m copying lib/matplotlib/tests/test_legend.py -> build/lib.linux-x86_64-cpython-311/matplotlib/tests\n",
      "  \u001b[31m   \u001b[0m copying lib/matplotlib/tests/test_axes.py -> build/lib.linux-x86_64-cpython-311/matplotlib/tests\n",
      "  \u001b[31m   \u001b[0m copying lib/matplotlib/tests/test_pickle.py -> build/lib.linux-x86_64-cpython-311/matplotlib/tests\n",
      "  \u001b[31m   \u001b[0m copying lib/matplotlib/tests/test_agg_filter.py -> build/lib.linux-x86_64-cpython-311/matplotlib/tests\n",
      "  \u001b[31m   \u001b[0m copying lib/matplotlib/tests/test_mathtext.py -> build/lib.linux-x86_64-cpython-311/matplotlib/tests\n",
      "  \u001b[31m   \u001b[0m copying lib/matplotlib/tests/test_table.py -> build/lib.linux-x86_64-cpython-311/matplotlib/tests\n",
      "  \u001b[31m   \u001b[0m copying lib/matplotlib/tests/test_contour.py -> build/lib.linux-x86_64-cpython-311/matplotlib/tests\n",
      "  \u001b[31m   \u001b[0m copying lib/matplotlib/tests/test_usetex.py -> build/lib.linux-x86_64-cpython-311/matplotlib/tests\n",
      "  \u001b[31m   \u001b[0m copying lib/matplotlib/tests/test_rcparams.py -> build/lib.linux-x86_64-cpython-311/matplotlib/tests\n",
      "  \u001b[31m   \u001b[0m copying lib/matplotlib/tests/test_colorbar.py -> build/lib.linux-x86_64-cpython-311/matplotlib/tests\n",
      "  \u001b[31m   \u001b[0m copying lib/matplotlib/tests/test_colors.py -> build/lib.linux-x86_64-cpython-311/matplotlib/tests\n",
      "  \u001b[31m   \u001b[0m copying lib/matplotlib/tests/test_offsetbox.py -> build/lib.linux-x86_64-cpython-311/matplotlib/tests\n",
      "  \u001b[31m   \u001b[0m copying lib/matplotlib/tests/test_sankey.py -> build/lib.linux-x86_64-cpython-311/matplotlib/tests\n",
      "  \u001b[31m   \u001b[0m copying lib/matplotlib/tests/conftest.py -> build/lib.linux-x86_64-cpython-311/matplotlib/tests\n",
      "  \u001b[31m   \u001b[0m copying lib/matplotlib/tests/test_path.py -> build/lib.linux-x86_64-cpython-311/matplotlib/tests\n",
      "  \u001b[31m   \u001b[0m copying lib/matplotlib/tests/test_style.py -> build/lib.linux-x86_64-cpython-311/matplotlib/tests\n",
      "  \u001b[31m   \u001b[0m copying lib/matplotlib/tests/test_type1font.py -> build/lib.linux-x86_64-cpython-311/matplotlib/tests\n",
      "  \u001b[31m   \u001b[0m copying lib/matplotlib/tests/test_backend_ps.py -> build/lib.linux-x86_64-cpython-311/matplotlib/tests\n",
      "  \u001b[31m   \u001b[0m copying lib/matplotlib/tests/test_backend_qt.py -> build/lib.linux-x86_64-cpython-311/matplotlib/tests\n",
      "  \u001b[31m   \u001b[0m copying lib/matplotlib/tests/test_animation.py -> build/lib.linux-x86_64-cpython-311/matplotlib/tests\n",
      "  \u001b[31m   \u001b[0m copying lib/matplotlib/tests/test_backend_tools.py -> build/lib.linux-x86_64-cpython-311/matplotlib/tests\n",
      "  \u001b[31m   \u001b[0m copying lib/matplotlib/tests/test_png.py -> build/lib.linux-x86_64-cpython-311/matplotlib/tests\n",
      "  \u001b[31m   \u001b[0m copying lib/matplotlib/tests/test_transforms.py -> build/lib.linux-x86_64-cpython-311/matplotlib/tests\n",
      "  \u001b[31m   \u001b[0m copying lib/matplotlib/tests/test_streamplot.py -> build/lib.linux-x86_64-cpython-311/matplotlib/tests\n",
      "  \u001b[31m   \u001b[0m copying lib/matplotlib/tests/test_container.py -> build/lib.linux-x86_64-cpython-311/matplotlib/tests\n",
      "  \u001b[31m   \u001b[0m copying lib/matplotlib/tests/test_pyplot.py -> build/lib.linux-x86_64-cpython-311/matplotlib/tests\n",
      "  \u001b[31m   \u001b[0m copying lib/matplotlib/tests/test_backends_interactive.py -> build/lib.linux-x86_64-cpython-311/matplotlib/tests\n",
      "  \u001b[31m   \u001b[0m copying lib/matplotlib/tests/test_texmanager.py -> build/lib.linux-x86_64-cpython-311/matplotlib/tests\n",
      "  \u001b[31m   \u001b[0m copying lib/matplotlib/tests/__init__.py -> build/lib.linux-x86_64-cpython-311/matplotlib/tests\n",
      "  \u001b[31m   \u001b[0m copying lib/matplotlib/tests/test_mlab.py -> build/lib.linux-x86_64-cpython-311/matplotlib/tests\n",
      "  \u001b[31m   \u001b[0m copying lib/matplotlib/tests/test_backend_nbagg.py -> build/lib.linux-x86_64-cpython-311/matplotlib/tests\n",
      "  \u001b[31m   \u001b[0m copying lib/matplotlib/tests/test_backend_cairo.py -> build/lib.linux-x86_64-cpython-311/matplotlib/tests\n",
      "  \u001b[31m   \u001b[0m creating build/lib.linux-x86_64-cpython-311/matplotlib/projections\n",
      "  \u001b[31m   \u001b[0m copying lib/matplotlib/projections/polar.py -> build/lib.linux-x86_64-cpython-311/matplotlib/projections\n",
      "  \u001b[31m   \u001b[0m copying lib/matplotlib/projections/geo.py -> build/lib.linux-x86_64-cpython-311/matplotlib/projections\n",
      "  \u001b[31m   \u001b[0m copying lib/matplotlib/projections/__init__.py -> build/lib.linux-x86_64-cpython-311/matplotlib/projections\n",
      "  \u001b[31m   \u001b[0m creating build/lib.linux-x86_64-cpython-311/matplotlib/sphinxext\n",
      "  \u001b[31m   \u001b[0m copying lib/matplotlib/sphinxext/mathmpl.py -> build/lib.linux-x86_64-cpython-311/matplotlib/sphinxext\n",
      "  \u001b[31m   \u001b[0m copying lib/matplotlib/sphinxext/plot_directive.py -> build/lib.linux-x86_64-cpython-311/matplotlib/sphinxext\n",
      "  \u001b[31m   \u001b[0m copying lib/matplotlib/sphinxext/__init__.py -> build/lib.linux-x86_64-cpython-311/matplotlib/sphinxext\n",
      "  \u001b[31m   \u001b[0m creating build/lib.linux-x86_64-cpython-311/matplotlib/testing/jpl_units\n",
      "  \u001b[31m   \u001b[0m copying lib/matplotlib/testing/jpl_units/UnitDblConverter.py -> build/lib.linux-x86_64-cpython-311/matplotlib/testing/jpl_units\n",
      "  \u001b[31m   \u001b[0m copying lib/matplotlib/testing/jpl_units/Epoch.py -> build/lib.linux-x86_64-cpython-311/matplotlib/testing/jpl_units\n",
      "  \u001b[31m   \u001b[0m copying lib/matplotlib/testing/jpl_units/UnitDblFormatter.py -> build/lib.linux-x86_64-cpython-311/matplotlib/testing/jpl_units\n",
      "  \u001b[31m   \u001b[0m copying lib/matplotlib/testing/jpl_units/EpochConverter.py -> build/lib.linux-x86_64-cpython-311/matplotlib/testing/jpl_units\n",
      "  \u001b[31m   \u001b[0m copying lib/matplotlib/testing/jpl_units/Duration.py -> build/lib.linux-x86_64-cpython-311/matplotlib/testing/jpl_units\n",
      "  \u001b[31m   \u001b[0m copying lib/matplotlib/testing/jpl_units/StrConverter.py -> build/lib.linux-x86_64-cpython-311/matplotlib/testing/jpl_units\n",
      "  \u001b[31m   \u001b[0m copying lib/matplotlib/testing/jpl_units/__init__.py -> build/lib.linux-x86_64-cpython-311/matplotlib/testing/jpl_units\n",
      "  \u001b[31m   \u001b[0m copying lib/matplotlib/testing/jpl_units/UnitDbl.py -> build/lib.linux-x86_64-cpython-311/matplotlib/testing/jpl_units\n",
      "  \u001b[31m   \u001b[0m creating build/lib.linux-x86_64-cpython-311/matplotlib/backends/qt_editor\n",
      "  \u001b[31m   \u001b[0m copying lib/matplotlib/backends/qt_editor/_formlayout.py -> build/lib.linux-x86_64-cpython-311/matplotlib/backends/qt_editor\n",
      "  \u001b[31m   \u001b[0m copying lib/matplotlib/backends/qt_editor/formlayout.py -> build/lib.linux-x86_64-cpython-311/matplotlib/backends/qt_editor\n",
      "  \u001b[31m   \u001b[0m copying lib/matplotlib/backends/qt_editor/formsubplottool.py -> build/lib.linux-x86_64-cpython-311/matplotlib/backends/qt_editor\n",
      "  \u001b[31m   \u001b[0m copying lib/matplotlib/backends/qt_editor/figureoptions.py -> build/lib.linux-x86_64-cpython-311/matplotlib/backends/qt_editor\n",
      "  \u001b[31m   \u001b[0m copying lib/matplotlib/backends/qt_editor/__init__.py -> build/lib.linux-x86_64-cpython-311/matplotlib/backends/qt_editor\n",
      "  \u001b[31m   \u001b[0m creating build/lib.linux-x86_64-cpython-311/mpl_toolkits/mplot3d\n",
      "  \u001b[31m   \u001b[0m copying lib/mpl_toolkits/mplot3d/axis3d.py -> build/lib.linux-x86_64-cpython-311/mpl_toolkits/mplot3d\n",
      "  \u001b[31m   \u001b[0m copying lib/mpl_toolkits/mplot3d/art3d.py -> build/lib.linux-x86_64-cpython-311/mpl_toolkits/mplot3d\n",
      "  \u001b[31m   \u001b[0m copying lib/mpl_toolkits/mplot3d/proj3d.py -> build/lib.linux-x86_64-cpython-311/mpl_toolkits/mplot3d\n",
      "  \u001b[31m   \u001b[0m copying lib/mpl_toolkits/mplot3d/__init__.py -> build/lib.linux-x86_64-cpython-311/mpl_toolkits/mplot3d\n",
      "  \u001b[31m   \u001b[0m copying lib/mpl_toolkits/mplot3d/axes3d.py -> build/lib.linux-x86_64-cpython-311/mpl_toolkits/mplot3d\n",
      "  \u001b[31m   \u001b[0m creating build/lib.linux-x86_64-cpython-311/mpl_toolkits/axisartist\n",
      "  \u001b[31m   \u001b[0m copying lib/mpl_toolkits/axisartist/grid_helper_curvelinear.py -> build/lib.linux-x86_64-cpython-311/mpl_toolkits/axisartist\n",
      "  \u001b[31m   \u001b[0m copying lib/mpl_toolkits/axisartist/angle_helper.py -> build/lib.linux-x86_64-cpython-311/mpl_toolkits/axisartist\n",
      "  \u001b[31m   \u001b[0m copying lib/mpl_toolkits/axisartist/clip_path.py -> build/lib.linux-x86_64-cpython-311/mpl_toolkits/axisartist\n",
      "  \u001b[31m   \u001b[0m copying lib/mpl_toolkits/axisartist/axislines.py -> build/lib.linux-x86_64-cpython-311/mpl_toolkits/axisartist\n",
      "  \u001b[31m   \u001b[0m copying lib/mpl_toolkits/axisartist/axis_artist.py -> build/lib.linux-x86_64-cpython-311/mpl_toolkits/axisartist\n",
      "  \u001b[31m   \u001b[0m copying lib/mpl_toolkits/axisartist/axes_grid.py -> build/lib.linux-x86_64-cpython-311/mpl_toolkits/axisartist\n",
      "  \u001b[31m   \u001b[0m copying lib/mpl_toolkits/axisartist/axisline_style.py -> build/lib.linux-x86_64-cpython-311/mpl_toolkits/axisartist\n",
      "  \u001b[31m   \u001b[0m copying lib/mpl_toolkits/axisartist/axes_rgb.py -> build/lib.linux-x86_64-cpython-311/mpl_toolkits/axisartist\n",
      "  \u001b[31m   \u001b[0m copying lib/mpl_toolkits/axisartist/floating_axes.py -> build/lib.linux-x86_64-cpython-311/mpl_toolkits/axisartist\n",
      "  \u001b[31m   \u001b[0m copying lib/mpl_toolkits/axisartist/grid_finder.py -> build/lib.linux-x86_64-cpython-311/mpl_toolkits/axisartist\n",
      "  \u001b[31m   \u001b[0m copying lib/mpl_toolkits/axisartist/axes_divider.py -> build/lib.linux-x86_64-cpython-311/mpl_toolkits/axisartist\n",
      "  \u001b[31m   \u001b[0m copying lib/mpl_toolkits/axisartist/parasite_axes.py -> build/lib.linux-x86_64-cpython-311/mpl_toolkits/axisartist\n",
      "  \u001b[31m   \u001b[0m copying lib/mpl_toolkits/axisartist/__init__.py -> build/lib.linux-x86_64-cpython-311/mpl_toolkits/axisartist\n",
      "  \u001b[31m   \u001b[0m creating build/lib.linux-x86_64-cpython-311/mpl_toolkits/tests\n",
      "  \u001b[31m   \u001b[0m copying lib/mpl_toolkits/tests/test_axes_grid1.py -> build/lib.linux-x86_64-cpython-311/mpl_toolkits/tests\n",
      "  \u001b[31m   \u001b[0m copying lib/mpl_toolkits/tests/test_axisartist_grid_helper_curvelinear.py -> build/lib.linux-x86_64-cpython-311/mpl_toolkits/tests\n",
      "  \u001b[31m   \u001b[0m copying lib/mpl_toolkits/tests/test_axisartist_floating_axes.py -> build/lib.linux-x86_64-cpython-311/mpl_toolkits/tests\n",
      "  \u001b[31m   \u001b[0m copying lib/mpl_toolkits/tests/test_axes_grid.py -> build/lib.linux-x86_64-cpython-311/mpl_toolkits/tests\n",
      "  \u001b[31m   \u001b[0m copying lib/mpl_toolkits/tests/test_axisartist_grid_finder.py -> build/lib.linux-x86_64-cpython-311/mpl_toolkits/tests\n",
      "  \u001b[31m   \u001b[0m copying lib/mpl_toolkits/tests/test_axisartist_axis_artist.py -> build/lib.linux-x86_64-cpython-311/mpl_toolkits/tests\n",
      "  \u001b[31m   \u001b[0m copying lib/mpl_toolkits/tests/test_axisartist_axislines.py -> build/lib.linux-x86_64-cpython-311/mpl_toolkits/tests\n",
      "  \u001b[31m   \u001b[0m copying lib/mpl_toolkits/tests/conftest.py -> build/lib.linux-x86_64-cpython-311/mpl_toolkits/tests\n",
      "  \u001b[31m   \u001b[0m copying lib/mpl_toolkits/tests/test_axisartist_clip_path.py -> build/lib.linux-x86_64-cpython-311/mpl_toolkits/tests\n",
      "  \u001b[31m   \u001b[0m copying lib/mpl_toolkits/tests/test_mplot3d.py -> build/lib.linux-x86_64-cpython-311/mpl_toolkits/tests\n",
      "  \u001b[31m   \u001b[0m copying lib/mpl_toolkits/tests/test_axisartist_angle_helper.py -> build/lib.linux-x86_64-cpython-311/mpl_toolkits/tests\n",
      "  \u001b[31m   \u001b[0m copying lib/mpl_toolkits/tests/__init__.py -> build/lib.linux-x86_64-cpython-311/mpl_toolkits/tests\n",
      "  \u001b[31m   \u001b[0m creating build/lib.linux-x86_64-cpython-311/mpl_toolkits/axes_grid\n",
      "  \u001b[31m   \u001b[0m copying lib/mpl_toolkits/axes_grid/grid_helper_curvelinear.py -> build/lib.linux-x86_64-cpython-311/mpl_toolkits/axes_grid\n",
      "  \u001b[31m   \u001b[0m copying lib/mpl_toolkits/axes_grid/angle_helper.py -> build/lib.linux-x86_64-cpython-311/mpl_toolkits/axes_grid\n",
      "  \u001b[31m   \u001b[0m copying lib/mpl_toolkits/axes_grid/clip_path.py -> build/lib.linux-x86_64-cpython-311/mpl_toolkits/axes_grid\n",
      "  \u001b[31m   \u001b[0m copying lib/mpl_toolkits/axes_grid/axislines.py -> build/lib.linux-x86_64-cpython-311/mpl_toolkits/axes_grid\n",
      "  \u001b[31m   \u001b[0m copying lib/mpl_toolkits/axes_grid/axis_artist.py -> build/lib.linux-x86_64-cpython-311/mpl_toolkits/axes_grid\n",
      "  \u001b[31m   \u001b[0m copying lib/mpl_toolkits/axes_grid/axes_grid.py -> build/lib.linux-x86_64-cpython-311/mpl_toolkits/axes_grid\n",
      "  \u001b[31m   \u001b[0m copying lib/mpl_toolkits/axes_grid/axisline_style.py -> build/lib.linux-x86_64-cpython-311/mpl_toolkits/axes_grid\n",
      "  \u001b[31m   \u001b[0m copying lib/mpl_toolkits/axes_grid/axes_rgb.py -> build/lib.linux-x86_64-cpython-311/mpl_toolkits/axes_grid\n",
      "  \u001b[31m   \u001b[0m copying lib/mpl_toolkits/axes_grid/floating_axes.py -> build/lib.linux-x86_64-cpython-311/mpl_toolkits/axes_grid\n",
      "  \u001b[31m   \u001b[0m copying lib/mpl_toolkits/axes_grid/colorbar.py -> build/lib.linux-x86_64-cpython-311/mpl_toolkits/axes_grid\n",
      "  \u001b[31m   \u001b[0m copying lib/mpl_toolkits/axes_grid/grid_finder.py -> build/lib.linux-x86_64-cpython-311/mpl_toolkits/axes_grid\n",
      "  \u001b[31m   \u001b[0m copying lib/mpl_toolkits/axes_grid/axes_divider.py -> build/lib.linux-x86_64-cpython-311/mpl_toolkits/axes_grid\n",
      "  \u001b[31m   \u001b[0m copying lib/mpl_toolkits/axes_grid/axes_size.py -> build/lib.linux-x86_64-cpython-311/mpl_toolkits/axes_grid\n",
      "  \u001b[31m   \u001b[0m copying lib/mpl_toolkits/axes_grid/anchored_artists.py -> build/lib.linux-x86_64-cpython-311/mpl_toolkits/axes_grid\n",
      "  \u001b[31m   \u001b[0m copying lib/mpl_toolkits/axes_grid/parasite_axes.py -> build/lib.linux-x86_64-cpython-311/mpl_toolkits/axes_grid\n",
      "  \u001b[31m   \u001b[0m copying lib/mpl_toolkits/axes_grid/__init__.py -> build/lib.linux-x86_64-cpython-311/mpl_toolkits/axes_grid\n",
      "  \u001b[31m   \u001b[0m copying lib/mpl_toolkits/axes_grid/inset_locator.py -> build/lib.linux-x86_64-cpython-311/mpl_toolkits/axes_grid\n",
      "  \u001b[31m   \u001b[0m creating build/lib.linux-x86_64-cpython-311/mpl_toolkits/axes_grid1\n",
      "  \u001b[31m   \u001b[0m copying lib/mpl_toolkits/axes_grid1/axes_grid.py -> build/lib.linux-x86_64-cpython-311/mpl_toolkits/axes_grid1\n",
      "  \u001b[31m   \u001b[0m copying lib/mpl_toolkits/axes_grid1/axes_rgb.py -> build/lib.linux-x86_64-cpython-311/mpl_toolkits/axes_grid1\n",
      "  \u001b[31m   \u001b[0m copying lib/mpl_toolkits/axes_grid1/colorbar.py -> build/lib.linux-x86_64-cpython-311/mpl_toolkits/axes_grid1\n",
      "  \u001b[31m   \u001b[0m copying lib/mpl_toolkits/axes_grid1/axes_divider.py -> build/lib.linux-x86_64-cpython-311/mpl_toolkits/axes_grid1\n",
      "  \u001b[31m   \u001b[0m copying lib/mpl_toolkits/axes_grid1/axes_size.py -> build/lib.linux-x86_64-cpython-311/mpl_toolkits/axes_grid1\n",
      "  \u001b[31m   \u001b[0m copying lib/mpl_toolkits/axes_grid1/anchored_artists.py -> build/lib.linux-x86_64-cpython-311/mpl_toolkits/axes_grid1\n",
      "  \u001b[31m   \u001b[0m copying lib/mpl_toolkits/axes_grid1/mpl_axes.py -> build/lib.linux-x86_64-cpython-311/mpl_toolkits/axes_grid1\n",
      "  \u001b[31m   \u001b[0m copying lib/mpl_toolkits/axes_grid1/parasite_axes.py -> build/lib.linux-x86_64-cpython-311/mpl_toolkits/axes_grid1\n",
      "  \u001b[31m   \u001b[0m copying lib/mpl_toolkits/axes_grid1/__init__.py -> build/lib.linux-x86_64-cpython-311/mpl_toolkits/axes_grid1\n",
      "  \u001b[31m   \u001b[0m copying lib/mpl_toolkits/axes_grid1/inset_locator.py -> build/lib.linux-x86_64-cpython-311/mpl_toolkits/axes_grid1\n",
      "  \u001b[31m   \u001b[0m creating build/lib.linux-x86_64-cpython-311/matplotlib/mpl-data\n",
      "  \u001b[31m   \u001b[0m creating build/lib.linux-x86_64-cpython-311/matplotlib/mpl-data/fonts\n",
      "  \u001b[31m   \u001b[0m creating build/lib.linux-x86_64-cpython-311/matplotlib/mpl-data/fonts/afm\n",
      "  \u001b[31m   \u001b[0m copying lib/matplotlib/mpl-data/fonts/afm/pplbi8a.afm -> build/lib.linux-x86_64-cpython-311/matplotlib/mpl-data/fonts/afm\n",
      "  \u001b[31m   \u001b[0m creating build/lib.linux-x86_64-cpython-311/matplotlib/backends/web_backend\n",
      "  \u001b[31m   \u001b[0m creating build/lib.linux-x86_64-cpython-311/matplotlib/backends/web_backend/jquery-ui-1.12.1\n",
      "  \u001b[31m   \u001b[0m creating build/lib.linux-x86_64-cpython-311/matplotlib/backends/web_backend/jquery-ui-1.12.1/images\n",
      "  \u001b[31m   \u001b[0m copying lib/matplotlib/backends/web_backend/jquery-ui-1.12.1/images/ui-icons_777777_256x240.png -> build/lib.linux-x86_64-cpython-311/matplotlib/backends/web_backend/jquery-ui-1.12.1/images\n",
      "  \u001b[31m   \u001b[0m creating build/lib.linux-x86_64-cpython-311/matplotlib/mpl-data/stylelib\n",
      "  \u001b[31m   \u001b[0m copying lib/matplotlib/mpl-data/stylelib/grayscale.mplstyle -> build/lib.linux-x86_64-cpython-311/matplotlib/mpl-data/stylelib\n",
      "  \u001b[31m   \u001b[0m copying lib/matplotlib/mpl-data/fonts/afm/pncr8a.afm -> build/lib.linux-x86_64-cpython-311/matplotlib/mpl-data/fonts/afm\n",
      "  \u001b[31m   \u001b[0m copying lib/matplotlib/mpl-data/fonts/afm/pcrro8a.afm -> build/lib.linux-x86_64-cpython-311/matplotlib/mpl-data/fonts/afm\n",
      "  \u001b[31m   \u001b[0m creating build/lib.linux-x86_64-cpython-311/matplotlib/mpl-data/fonts/ttf\n",
      "  \u001b[31m   \u001b[0m copying lib/matplotlib/mpl-data/fonts/ttf/STIXSizOneSymBol.ttf -> build/lib.linux-x86_64-cpython-311/matplotlib/mpl-data/fonts/ttf\n",
      "  \u001b[31m   \u001b[0m copying lib/matplotlib/mpl-data/fonts/ttf/STIXSizFourSymBol.ttf -> build/lib.linux-x86_64-cpython-311/matplotlib/mpl-data/fonts/ttf\n",
      "  \u001b[31m   \u001b[0m copying lib/matplotlib/mpl-data/fonts/ttf/STIXNonUniIta.ttf -> build/lib.linux-x86_64-cpython-311/matplotlib/mpl-data/fonts/ttf\n",
      "  \u001b[31m   \u001b[0m creating build/lib.linux-x86_64-cpython-311/matplotlib/mpl-data/images\n",
      "  \u001b[31m   \u001b[0m copying lib/matplotlib/mpl-data/images/forward.pdf -> build/lib.linux-x86_64-cpython-311/matplotlib/mpl-data/images\n",
      "  \u001b[31m   \u001b[0m creating build/lib.linux-x86_64-cpython-311/matplotlib/mpl-data/fonts/pdfcorefonts\n",
      "  \u001b[31m   \u001b[0m copying lib/matplotlib/mpl-data/fonts/pdfcorefonts/Helvetica.afm -> build/lib.linux-x86_64-cpython-311/matplotlib/mpl-data/fonts/pdfcorefonts\n",
      "  \u001b[31m   \u001b[0m copying lib/matplotlib/mpl-data/fonts/afm/pcrb8a.afm -> build/lib.linux-x86_64-cpython-311/matplotlib/mpl-data/fonts/afm\n",
      "  \u001b[31m   \u001b[0m copying lib/matplotlib/mpl-data/images/back.pdf -> build/lib.linux-x86_64-cpython-311/matplotlib/mpl-data/images\n",
      "  \u001b[31m   \u001b[0m creating build/lib.linux-x86_64-cpython-311/matplotlib/mpl-data/sample_data\n",
      "  \u001b[31m   \u001b[0m copying lib/matplotlib/mpl-data/sample_data/msft.csv -> build/lib.linux-x86_64-cpython-311/matplotlib/mpl-data/sample_data\n",
      "  \u001b[31m   \u001b[0m copying lib/matplotlib/mpl-data/images/back_large.gif -> build/lib.linux-x86_64-cpython-311/matplotlib/mpl-data/images\n",
      "  \u001b[31m   \u001b[0m creating build/lib.linux-x86_64-cpython-311/matplotlib/backends/web_backend/jquery-ui-1.12.1/external\n",
      "  \u001b[31m   \u001b[0m creating build/lib.linux-x86_64-cpython-311/matplotlib/backends/web_backend/jquery-ui-1.12.1/external/jquery\n",
      "  \u001b[31m   \u001b[0m copying lib/matplotlib/backends/web_backend/jquery-ui-1.12.1/external/jquery/jquery.js -> build/lib.linux-x86_64-cpython-311/matplotlib/backends/web_backend/jquery-ui-1.12.1/external/jquery\n",
      "  \u001b[31m   \u001b[0m copying lib/matplotlib/mpl-data/fonts/pdfcorefonts/readme.txt -> build/lib.linux-x86_64-cpython-311/matplotlib/mpl-data/fonts/pdfcorefonts\n",
      "  \u001b[31m   \u001b[0m copying lib/matplotlib/mpl-data/images/zoom_to_rect.png -> build/lib.linux-x86_64-cpython-311/matplotlib/mpl-data/images\n",
      "  \u001b[31m   \u001b[0m copying lib/matplotlib/mpl-data/images/home_large.gif -> build/lib.linux-x86_64-cpython-311/matplotlib/mpl-data/images\n",
      "  \u001b[31m   \u001b[0m copying lib/matplotlib/mpl-data/stylelib/seaborn-poster.mplstyle -> build/lib.linux-x86_64-cpython-311/matplotlib/mpl-data/stylelib\n",
      "  \u001b[31m   \u001b[0m copying lib/matplotlib/mpl-data/sample_data/grace_hopper.jpg -> build/lib.linux-x86_64-cpython-311/matplotlib/mpl-data/sample_data\n",
      "  \u001b[31m   \u001b[0m copying lib/matplotlib/mpl-data/stylelib/tableau-colorblind10.mplstyle -> build/lib.linux-x86_64-cpython-311/matplotlib/mpl-data/stylelib\n",
      "  \u001b[31m   \u001b[0m copying lib/matplotlib/mpl-data/stylelib/ggplot.mplstyle -> build/lib.linux-x86_64-cpython-311/matplotlib/mpl-data/stylelib\n",
      "  \u001b[31m   \u001b[0m copying lib/matplotlib/mpl-data/fonts/ttf/STIXNonUniBolIta.ttf -> build/lib.linux-x86_64-cpython-311/matplotlib/mpl-data/fonts/ttf\n",
      "  \u001b[31m   \u001b[0m copying lib/matplotlib/mpl-data/fonts/ttf/DejaVuSans.ttf -> build/lib.linux-x86_64-cpython-311/matplotlib/mpl-data/fonts/ttf\n",
      "  \u001b[31m   \u001b[0m copying lib/matplotlib/mpl-data/images/subplots.png -> build/lib.linux-x86_64-cpython-311/matplotlib/mpl-data/images\n",
      "  \u001b[31m   \u001b[0m copying lib/matplotlib/mpl-data/fonts/afm/cmr10.afm -> build/lib.linux-x86_64-cpython-311/matplotlib/mpl-data/fonts/afm\n",
      "  \u001b[31m   \u001b[0m copying lib/matplotlib/mpl-data/fonts/ttf/STIXSizFourSymReg.ttf -> build/lib.linux-x86_64-cpython-311/matplotlib/mpl-data/fonts/ttf\n",
      "  \u001b[31m   \u001b[0m copying lib/matplotlib/mpl-data/fonts/afm/phvb8a.afm -> build/lib.linux-x86_64-cpython-311/matplotlib/mpl-data/fonts/afm\n",
      "  \u001b[31m   \u001b[0m copying lib/matplotlib/mpl-data/fonts/afm/pcrbo8a.afm -> build/lib.linux-x86_64-cpython-311/matplotlib/mpl-data/fonts/afm\n",
      "  \u001b[31m   \u001b[0m copying lib/matplotlib/mpl-data/fonts/ttf/cmex10.ttf -> build/lib.linux-x86_64-cpython-311/matplotlib/mpl-data/fonts/ttf\n",
      "  \u001b[31m   \u001b[0m copying lib/matplotlib/mpl-data/images/filesave.gif -> build/lib.linux-x86_64-cpython-311/matplotlib/mpl-data/images\n",
      "  \u001b[31m   \u001b[0m copying lib/matplotlib/mpl-data/images/help_large.png -> build/lib.linux-x86_64-cpython-311/matplotlib/mpl-data/images\n",
      "  \u001b[31m   \u001b[0m copying lib/matplotlib/backends/web_backend/all_figures.html -> build/lib.linux-x86_64-cpython-311/matplotlib/backends/web_backend\n",
      "  \u001b[31m   \u001b[0m copying lib/matplotlib/mpl-data/stylelib/bmh.mplstyle -> build/lib.linux-x86_64-cpython-311/matplotlib/mpl-data/stylelib\n",
      "  \u001b[31m   \u001b[0m copying lib/matplotlib/mpl-data/fonts/afm/putbi8a.afm -> build/lib.linux-x86_64-cpython-311/matplotlib/mpl-data/fonts/afm\n",
      "  \u001b[31m   \u001b[0m copying lib/matplotlib/mpl-data/images/subplots_large.png -> build/lib.linux-x86_64-cpython-311/matplotlib/mpl-data/images\n",
      "  \u001b[31m   \u001b[0m copying lib/matplotlib/mpl-data/images/move.svg -> build/lib.linux-x86_64-cpython-311/matplotlib/mpl-data/images\n",
      "  \u001b[31m   \u001b[0m copying lib/matplotlib/mpl-data/fonts/afm/psyr.afm -> build/lib.linux-x86_64-cpython-311/matplotlib/mpl-data/fonts/afm\n",
      "  \u001b[31m   \u001b[0m copying lib/matplotlib/mpl-data/fonts/ttf/STIXGeneralBol.ttf -> build/lib.linux-x86_64-cpython-311/matplotlib/mpl-data/fonts/ttf\n",
      "  \u001b[31m   \u001b[0m copying lib/matplotlib/mpl-data/sample_data/logo2.png -> build/lib.linux-x86_64-cpython-311/matplotlib/mpl-data/sample_data\n",
      "  \u001b[31m   \u001b[0m copying lib/matplotlib/mpl-data/stylelib/_classic_test_patch.mplstyle -> build/lib.linux-x86_64-cpython-311/matplotlib/mpl-data/stylelib\n",
      "  \u001b[31m   \u001b[0m copying lib/matplotlib/backends/web_backend/jquery-ui-1.12.1/jquery-ui.min.js -> build/lib.linux-x86_64-cpython-311/matplotlib/backends/web_backend/jquery-ui-1.12.1\n",
      "  \u001b[31m   \u001b[0m copying lib/matplotlib/mpl-data/fonts/afm/cmmi10.afm -> build/lib.linux-x86_64-cpython-311/matplotlib/mpl-data/fonts/afm\n",
      "  \u001b[31m   \u001b[0m copying lib/matplotlib/mpl-data/stylelib/seaborn-dark-palette.mplstyle -> build/lib.linux-x86_64-cpython-311/matplotlib/mpl-data/stylelib\n",
      "  \u001b[31m   \u001b[0m copying lib/matplotlib/mpl-data/stylelib/seaborn-colorblind.mplstyle -> build/lib.linux-x86_64-cpython-311/matplotlib/mpl-data/stylelib\n",
      "  \u001b[31m   \u001b[0m copying lib/matplotlib/mpl-data/fonts/afm/phvlo8a.afm -> build/lib.linux-x86_64-cpython-311/matplotlib/mpl-data/fonts/afm\n",
      "  \u001b[31m   \u001b[0m copying lib/matplotlib/mpl-data/fonts/ttf/STIXGeneralItalic.ttf -> build/lib.linux-x86_64-cpython-311/matplotlib/mpl-data/fonts/ttf\n",
      "  \u001b[31m   \u001b[0m copying lib/matplotlib/mpl-data/fonts/pdfcorefonts/Courier-BoldOblique.afm -> build/lib.linux-x86_64-cpython-311/matplotlib/mpl-data/fonts/pdfcorefonts\n",
      "  \u001b[31m   \u001b[0m copying lib/matplotlib/mpl-data/images/zoom_to_rect.gif -> build/lib.linux-x86_64-cpython-311/matplotlib/mpl-data/images\n",
      "  \u001b[31m   \u001b[0m copying lib/matplotlib/mpl-data/stylelib/classic.mplstyle -> build/lib.linux-x86_64-cpython-311/matplotlib/mpl-data/stylelib\n",
      "  \u001b[31m   \u001b[0m copying lib/matplotlib/mpl-data/stylelib/seaborn-ticks.mplstyle -> build/lib.linux-x86_64-cpython-311/matplotlib/mpl-data/stylelib\n",
      "  \u001b[31m   \u001b[0m copying lib/matplotlib/mpl-data/images/move_large.gif -> build/lib.linux-x86_64-cpython-311/matplotlib/mpl-data/images\n",
      "  \u001b[31m   \u001b[0m copying lib/matplotlib/mpl-data/fonts/ttf/DejaVuSans-Bold.ttf -> build/lib.linux-x86_64-cpython-311/matplotlib/mpl-data/fonts/ttf\n",
      "  \u001b[31m   \u001b[0m copying lib/matplotlib/mpl-data/fonts/afm/pncri8a.afm -> build/lib.linux-x86_64-cpython-311/matplotlib/mpl-data/fonts/afm\n",
      "  \u001b[31m   \u001b[0m copying lib/matplotlib/mpl-data/fonts/ttf/DejaVuSans-BoldOblique.ttf -> build/lib.linux-x86_64-cpython-311/matplotlib/mpl-data/fonts/ttf\n",
      "  \u001b[31m   \u001b[0m copying lib/matplotlib/mpl-data/sample_data/embedding_in_wx3.xrc -> build/lib.linux-x86_64-cpython-311/matplotlib/mpl-data/sample_data\n",
      "  \u001b[31m   \u001b[0m copying lib/matplotlib/mpl-data/fonts/ttf/STIXSizOneSymReg.ttf -> build/lib.linux-x86_64-cpython-311/matplotlib/mpl-data/fonts/ttf\n",
      "  \u001b[31m   \u001b[0m copying lib/matplotlib/mpl-data/fonts/ttf/DejaVuSerif-Bold.ttf -> build/lib.linux-x86_64-cpython-311/matplotlib/mpl-data/fonts/ttf\n",
      "  \u001b[31m   \u001b[0m copying lib/matplotlib/backends/web_backend/jquery-ui-1.12.1/jquery-ui.structure.css -> build/lib.linux-x86_64-cpython-311/matplotlib/backends/web_backend/jquery-ui-1.12.1\n",
      "  \u001b[31m   \u001b[0m copying lib/matplotlib/backends/web_backend/jquery-ui-1.12.1/jquery-ui.theme.css -> build/lib.linux-x86_64-cpython-311/matplotlib/backends/web_backend/jquery-ui-1.12.1\n",
      "  \u001b[31m   \u001b[0m copying lib/matplotlib/mpl-data/fonts/afm/pzdr.afm -> build/lib.linux-x86_64-cpython-311/matplotlib/mpl-data/fonts/afm\n",
      "  \u001b[31m   \u001b[0m copying lib/matplotlib/mpl-data/fonts/afm/pzcmi8a.afm -> build/lib.linux-x86_64-cpython-311/matplotlib/mpl-data/fonts/afm\n",
      "  \u001b[31m   \u001b[0m copying lib/matplotlib/mpl-data/fonts/pdfcorefonts/Symbol.afm -> build/lib.linux-x86_64-cpython-311/matplotlib/mpl-data/fonts/pdfcorefonts\n",
      "  \u001b[31m   \u001b[0m copying lib/matplotlib/mpl-data/fonts/ttf/DejaVuSansMono-BoldOblique.ttf -> build/lib.linux-x86_64-cpython-311/matplotlib/mpl-data/fonts/ttf\n",
      "  \u001b[31m   \u001b[0m copying lib/matplotlib/mpl-data/images/forward_large.png -> build/lib.linux-x86_64-cpython-311/matplotlib/mpl-data/images\n",
      "  \u001b[31m   \u001b[0m copying lib/matplotlib/mpl-data/images/help.svg -> build/lib.linux-x86_64-cpython-311/matplotlib/mpl-data/images\n",
      "  \u001b[31m   \u001b[0m copying lib/matplotlib/mpl-data/fonts/afm/pncb8a.afm -> build/lib.linux-x86_64-cpython-311/matplotlib/mpl-data/fonts/afm\n",
      "  \u001b[31m   \u001b[0m copying lib/matplotlib/mpl-data/fonts/ttf/STIXSizTwoSymBol.ttf -> build/lib.linux-x86_64-cpython-311/matplotlib/mpl-data/fonts/ttf\n",
      "  \u001b[31m   \u001b[0m copying lib/matplotlib/mpl-data/images/home.gif -> build/lib.linux-x86_64-cpython-311/matplotlib/mpl-data/images\n",
      "  \u001b[31m   \u001b[0m copying lib/matplotlib/mpl-data/fonts/afm/putr8a.afm -> build/lib.linux-x86_64-cpython-311/matplotlib/mpl-data/fonts/afm\n",
      "  \u001b[31m   \u001b[0m copying lib/matplotlib/mpl-data/images/hand.svg -> build/lib.linux-x86_64-cpython-311/matplotlib/mpl-data/images\n",
      "  \u001b[31m   \u001b[0m copying lib/matplotlib/mpl-data/images/move_large.png -> build/lib.linux-x86_64-cpython-311/matplotlib/mpl-data/images\n",
      "  \u001b[31m   \u001b[0m copying lib/matplotlib/mpl-data/stylelib/seaborn-deep.mplstyle -> build/lib.linux-x86_64-cpython-311/matplotlib/mpl-data/stylelib\n",
      "  \u001b[31m   \u001b[0m copying lib/matplotlib/mpl-data/images/zoom_to_rect_large.gif -> build/lib.linux-x86_64-cpython-311/matplotlib/mpl-data/images\n",
      "  \u001b[31m   \u001b[0m copying lib/matplotlib/mpl-data/fonts/afm/phvr8a.afm -> build/lib.linux-x86_64-cpython-311/matplotlib/mpl-data/fonts/afm\n",
      "  \u001b[31m   \u001b[0m copying lib/matplotlib/mpl-data/fonts/ttf/DejaVuSerifDisplay.ttf -> build/lib.linux-x86_64-cpython-311/matplotlib/mpl-data/fonts/ttf\n",
      "  \u001b[31m   \u001b[0m copying lib/matplotlib/mpl-data/sample_data/s1045.ima.gz -> build/lib.linux-x86_64-cpython-311/matplotlib/mpl-data/sample_data\n",
      "  \u001b[31m   \u001b[0m copying lib/matplotlib/mpl-data/fonts/ttf/DejaVuSerif-Italic.ttf -> build/lib.linux-x86_64-cpython-311/matplotlib/mpl-data/fonts/ttf\n",
      "  \u001b[31m   \u001b[0m copying lib/matplotlib/mpl-data/fonts/afm/cmtt10.afm -> build/lib.linux-x86_64-cpython-311/matplotlib/mpl-data/fonts/afm\n",
      "  \u001b[31m   \u001b[0m copying lib/matplotlib/mpl-data/fonts/ttf/cmss10.ttf -> build/lib.linux-x86_64-cpython-311/matplotlib/mpl-data/fonts/ttf\n",
      "  \u001b[31m   \u001b[0m copying lib/matplotlib/mpl-data/fonts/ttf/cmb10.ttf -> build/lib.linux-x86_64-cpython-311/matplotlib/mpl-data/fonts/ttf\n",
      "  \u001b[31m   \u001b[0m copying lib/matplotlib/mpl-data/fonts/ttf/STIXSizThreeSymBol.ttf -> build/lib.linux-x86_64-cpython-311/matplotlib/mpl-data/fonts/ttf\n",
      "  \u001b[31m   \u001b[0m copying lib/matplotlib/mpl-data/images/matplotlib_128.ppm -> build/lib.linux-x86_64-cpython-311/matplotlib/mpl-data/images\n",
      "  \u001b[31m   \u001b[0m copying lib/matplotlib/mpl-data/fonts/afm/phvbo8a.afm -> build/lib.linux-x86_64-cpython-311/matplotlib/mpl-data/fonts/afm\n",
      "  \u001b[31m   \u001b[0m copying lib/matplotlib/mpl-data/stylelib/seaborn-pastel.mplstyle -> build/lib.linux-x86_64-cpython-311/matplotlib/mpl-data/stylelib\n",
      "  \u001b[31m   \u001b[0m copying lib/matplotlib/mpl-data/stylelib/seaborn-talk.mplstyle -> build/lib.linux-x86_64-cpython-311/matplotlib/mpl-data/stylelib\n",
      "  \u001b[31m   \u001b[0m copying lib/matplotlib/mpl-data/fonts/pdfcorefonts/Helvetica-Oblique.afm -> build/lib.linux-x86_64-cpython-311/matplotlib/mpl-data/fonts/pdfcorefonts\n",
      "  \u001b[31m   \u001b[0m copying lib/matplotlib/mpl-data/images/forward.png -> build/lib.linux-x86_64-cpython-311/matplotlib/mpl-data/images\n",
      "  \u001b[31m   \u001b[0m copying lib/matplotlib/mpl-data/images/filesave_large.gif -> build/lib.linux-x86_64-cpython-311/matplotlib/mpl-data/images\n",
      "  \u001b[31m   \u001b[0m copying lib/matplotlib/mpl-data/fonts/afm/phvbo8an.afm -> build/lib.linux-x86_64-cpython-311/matplotlib/mpl-data/fonts/afm\n",
      "  \u001b[31m   \u001b[0m copying lib/matplotlib/mpl-data/fonts/ttf/DejaVuSerif-BoldItalic.ttf -> build/lib.linux-x86_64-cpython-311/matplotlib/mpl-data/fonts/ttf\n",
      "  \u001b[31m   \u001b[0m copying lib/matplotlib/mpl-data/fonts/ttf/STIXNonUniBol.ttf -> build/lib.linux-x86_64-cpython-311/matplotlib/mpl-data/fonts/ttf\n",
      "  \u001b[31m   \u001b[0m copying lib/matplotlib/mpl-data/fonts/pdfcorefonts/Courier.afm -> build/lib.linux-x86_64-cpython-311/matplotlib/mpl-data/fonts/pdfcorefonts\n",
      "  \u001b[31m   \u001b[0m copying lib/matplotlib/mpl-data/images/forward.gif -> build/lib.linux-x86_64-cpython-311/matplotlib/mpl-data/images\n",
      "  \u001b[31m   \u001b[0m copying lib/matplotlib/mpl-data/stylelib/seaborn-darkgrid.mplstyle -> build/lib.linux-x86_64-cpython-311/matplotlib/mpl-data/stylelib\n",
      "  \u001b[31m   \u001b[0m copying lib/matplotlib/mpl-data/fonts/afm/pbkli8a.afm -> build/lib.linux-x86_64-cpython-311/matplotlib/mpl-data/fonts/afm\n",
      "  \u001b[31m   \u001b[0m copying lib/matplotlib/mpl-data/fonts/afm/phvro8a.afm -> build/lib.linux-x86_64-cpython-311/matplotlib/mpl-data/fonts/afm\n",
      "  \u001b[31m   \u001b[0m copying lib/matplotlib/mpl-data/images/forward.svg -> build/lib.linux-x86_64-cpython-311/matplotlib/mpl-data/images\n",
      "  \u001b[31m   \u001b[0m copying lib/matplotlib/mpl-data/images/back.png -> build/lib.linux-x86_64-cpython-311/matplotlib/mpl-data/images\n",
      "  \u001b[31m   \u001b[0m copying lib/matplotlib/mpl-data/images/home_large.png -> build/lib.linux-x86_64-cpython-311/matplotlib/mpl-data/images\n",
      "  \u001b[31m   \u001b[0m copying lib/matplotlib/mpl-data/images/home.png -> build/lib.linux-x86_64-cpython-311/matplotlib/mpl-data/images\n",
      "  \u001b[31m   \u001b[0m copying lib/matplotlib/mpl-data/sample_data/goog.npz -> build/lib.linux-x86_64-cpython-311/matplotlib/mpl-data/sample_data\n",
      "  \u001b[31m   \u001b[0m copying lib/matplotlib/mpl-data/fonts/ttf/cmsy10.ttf -> build/lib.linux-x86_64-cpython-311/matplotlib/mpl-data/fonts/ttf\n",
      "  \u001b[31m   \u001b[0m copying lib/matplotlib/backends/web_backend/ipython_inline_figure.html -> build/lib.linux-x86_64-cpython-311/matplotlib/backends/web_backend\n",
      "  \u001b[31m   \u001b[0m copying lib/matplotlib/mpl-data/images/help.ppm -> build/lib.linux-x86_64-cpython-311/matplotlib/mpl-data/images\n",
      "  \u001b[31m   \u001b[0m copying lib/matplotlib/mpl-data/stylelib/seaborn-whitegrid.mplstyle -> build/lib.linux-x86_64-cpython-311/matplotlib/mpl-data/stylelib\n",
      "  \u001b[31m   \u001b[0m copying lib/matplotlib/mpl-data/images/qt4_editor_options.png -> build/lib.linux-x86_64-cpython-311/matplotlib/mpl-data/images\n",
      "  \u001b[31m   \u001b[0m copying lib/matplotlib/mpl-data/fonts/afm/cmsy10.afm -> build/lib.linux-x86_64-cpython-311/matplotlib/mpl-data/fonts/afm\n",
      "  \u001b[31m   \u001b[0m copying lib/matplotlib/mpl-data/fonts/afm/putb8a.afm -> build/lib.linux-x86_64-cpython-311/matplotlib/mpl-data/fonts/afm\n",
      "  \u001b[31m   \u001b[0m copying lib/matplotlib/mpl-data/fonts/afm/ptmbi8a.afm -> build/lib.linux-x86_64-cpython-311/matplotlib/mpl-data/fonts/afm\n",
      "  \u001b[31m   \u001b[0m copying lib/matplotlib/mpl-data/fonts/ttf/STIXNonUni.ttf -> build/lib.linux-x86_64-cpython-311/matplotlib/mpl-data/fonts/ttf\n",
      "  \u001b[31m   \u001b[0m copying lib/matplotlib/mpl-data/fonts/ttf/LICENSE_DEJAVU -> build/lib.linux-x86_64-cpython-311/matplotlib/mpl-data/fonts/ttf\n",
      "  \u001b[31m   \u001b[0m copying lib/matplotlib/mpl-data/matplotlibrc -> build/lib.linux-x86_64-cpython-311/matplotlib/mpl-data\n",
      "  \u001b[31m   \u001b[0m copying lib/matplotlib/mpl-data/fonts/ttf/LICENSE_STIX -> build/lib.linux-x86_64-cpython-311/matplotlib/mpl-data/fonts/ttf\n",
      "  \u001b[31m   \u001b[0m copying lib/matplotlib/mpl-data/fonts/afm/pncbi8a.afm -> build/lib.linux-x86_64-cpython-311/matplotlib/mpl-data/fonts/afm\n",
      "  \u001b[31m   \u001b[0m copying lib/matplotlib/mpl-data/images/matplotlib_large.png -> build/lib.linux-x86_64-cpython-311/matplotlib/mpl-data/images\n",
      "  \u001b[31m   \u001b[0m copying lib/matplotlib/backends/web_backend/jquery-ui-1.12.1/images/ui-icons_555555_256x240.png -> build/lib.linux-x86_64-cpython-311/matplotlib/backends/web_backend/jquery-ui-1.12.1/images\n",
      "  \u001b[31m   \u001b[0m copying lib/matplotlib/backends/web_backend/jquery-ui-1.12.1/images/ui-icons_777620_256x240.png -> build/lib.linux-x86_64-cpython-311/matplotlib/backends/web_backend/jquery-ui-1.12.1/images\n",
      "  \u001b[31m   \u001b[0m copying lib/matplotlib/mpl-data/stylelib/seaborn-muted.mplstyle -> build/lib.linux-x86_64-cpython-311/matplotlib/mpl-data/stylelib\n",
      "  \u001b[31m   \u001b[0m copying lib/matplotlib/mpl-data/fonts/afm/cmex10.afm -> build/lib.linux-x86_64-cpython-311/matplotlib/mpl-data/fonts/afm\n",
      "  \u001b[31m   \u001b[0m copying lib/matplotlib/mpl-data/fonts/pdfcorefonts/Times-BoldItalic.afm -> build/lib.linux-x86_64-cpython-311/matplotlib/mpl-data/fonts/pdfcorefonts\n",
      "  \u001b[31m   \u001b[0m copying lib/matplotlib/mpl-data/fonts/ttf/cmtt10.ttf -> build/lib.linux-x86_64-cpython-311/matplotlib/mpl-data/fonts/ttf\n",
      "  \u001b[31m   \u001b[0m copying lib/matplotlib/mpl-data/images/home.pdf -> build/lib.linux-x86_64-cpython-311/matplotlib/mpl-data/images\n",
      "  \u001b[31m   \u001b[0m copying lib/matplotlib/mpl-data/fonts/ttf/STIXSizThreeSymReg.ttf -> build/lib.linux-x86_64-cpython-311/matplotlib/mpl-data/fonts/ttf\n",
      "  \u001b[31m   \u001b[0m copying lib/matplotlib/mpl-data/images/subplots.gif -> build/lib.linux-x86_64-cpython-311/matplotlib/mpl-data/images\n",
      "  \u001b[31m   \u001b[0m copying lib/matplotlib/mpl-data/images/hand_large.gif -> build/lib.linux-x86_64-cpython-311/matplotlib/mpl-data/images\n",
      "  \u001b[31m   \u001b[0m copying lib/matplotlib/mpl-data/images/zoom_to_rect_large.png -> build/lib.linux-x86_64-cpython-311/matplotlib/mpl-data/images\n",
      "  \u001b[31m   \u001b[0m copying lib/matplotlib/mpl-data/fonts/ttf/STIXGeneralBolIta.ttf -> build/lib.linux-x86_64-cpython-311/matplotlib/mpl-data/fonts/ttf\n",
      "  \u001b[31m   \u001b[0m copying lib/matplotlib/mpl-data/fonts/afm/pbkl8a.afm -> build/lib.linux-x86_64-cpython-311/matplotlib/mpl-data/fonts/afm\n",
      "  \u001b[31m   \u001b[0m copying lib/matplotlib/mpl-data/images/back_large.png -> build/lib.linux-x86_64-cpython-311/matplotlib/mpl-data/images\n",
      "  \u001b[31m   \u001b[0m copying lib/matplotlib/mpl-data/fonts/afm/phvro8an.afm -> build/lib.linux-x86_64-cpython-311/matplotlib/mpl-data/fonts/afm\n",
      "  \u001b[31m   \u001b[0m copying lib/matplotlib/mpl-data/fonts/ttf/DejaVuSansMono-Bold.ttf -> build/lib.linux-x86_64-cpython-311/matplotlib/mpl-data/fonts/ttf\n",
      "  \u001b[31m   \u001b[0m copying lib/matplotlib/mpl-data/images/filesave.svg -> build/lib.linux-x86_64-cpython-311/matplotlib/mpl-data/images\n",
      "  \u001b[31m   \u001b[0m copying lib/matplotlib/mpl-data/images/forward_large.gif -> build/lib.linux-x86_64-cpython-311/matplotlib/mpl-data/images\n",
      "  \u001b[31m   \u001b[0m copying lib/matplotlib/mpl-data/images/matplotlib.pdf -> build/lib.linux-x86_64-cpython-311/matplotlib/mpl-data/images\n",
      "  \u001b[31m   \u001b[0m copying lib/matplotlib/mpl-data/stylelib/Solarize_Light2.mplstyle -> build/lib.linux-x86_64-cpython-311/matplotlib/mpl-data/stylelib\n",
      "  \u001b[31m   \u001b[0m creating build/lib.linux-x86_64-cpython-311/matplotlib/backends/web_backend/js\n",
      "  \u001b[31m   \u001b[0m copying lib/matplotlib/backends/web_backend/js/mpl_tornado.js -> build/lib.linux-x86_64-cpython-311/matplotlib/backends/web_backend/js\n",
      "  \u001b[31m   \u001b[0m copying lib/matplotlib/mpl-data/fonts/ttf/DejaVuSansDisplay.ttf -> build/lib.linux-x86_64-cpython-311/matplotlib/mpl-data/fonts/ttf\n",
      "  \u001b[31m   \u001b[0m copying lib/matplotlib/mpl-data/fonts/ttf/DejaVuSansMono.ttf -> build/lib.linux-x86_64-cpython-311/matplotlib/mpl-data/fonts/ttf\n",
      "  \u001b[31m   \u001b[0m copying lib/matplotlib/mpl-data/images/move.gif -> build/lib.linux-x86_64-cpython-311/matplotlib/mpl-data/images\n",
      "  \u001b[31m   \u001b[0m copying lib/matplotlib/mpl-data/fonts/pdfcorefonts/Courier-Oblique.afm -> build/lib.linux-x86_64-cpython-311/matplotlib/mpl-data/fonts/pdfcorefonts\n",
      "  \u001b[31m   \u001b[0m copying lib/matplotlib/mpl-data/images/hand.png -> build/lib.linux-x86_64-cpython-311/matplotlib/mpl-data/images\n",
      "  \u001b[31m   \u001b[0m copying lib/matplotlib/mpl-data/stylelib/dark_background.mplstyle -> build/lib.linux-x86_64-cpython-311/matplotlib/mpl-data/stylelib\n",
      "  \u001b[31m   \u001b[0m copying lib/matplotlib/backends/web_backend/jquery-ui-1.12.1/jquery-ui.structure.min.css -> build/lib.linux-x86_64-cpython-311/matplotlib/backends/web_backend/jquery-ui-1.12.1\n",
      "  \u001b[31m   \u001b[0m copying lib/matplotlib/mpl-data/fonts/pdfcorefonts/Helvetica-BoldOblique.afm -> build/lib.linux-x86_64-cpython-311/matplotlib/mpl-data/fonts/pdfcorefonts\n",
      "  \u001b[31m   \u001b[0m copying lib/matplotlib/mpl-data/images/move.pdf -> build/lib.linux-x86_64-cpython-311/matplotlib/mpl-data/images\n",
      "  \u001b[31m   \u001b[0m copying lib/matplotlib/mpl-data/stylelib/fast.mplstyle -> build/lib.linux-x86_64-cpython-311/matplotlib/mpl-data/stylelib\n",
      "  \u001b[31m   \u001b[0m copying lib/matplotlib/mpl-data/images/home.svg -> build/lib.linux-x86_64-cpython-311/matplotlib/mpl-data/images\n",
      "  \u001b[31m   \u001b[0m copying lib/matplotlib/mpl-data/fonts/afm/ptmb8a.afm -> build/lib.linux-x86_64-cpython-311/matplotlib/mpl-data/fonts/afm\n",
      "  \u001b[31m   \u001b[0m copying lib/matplotlib/mpl-data/fonts/afm/phvr8an.afm -> build/lib.linux-x86_64-cpython-311/matplotlib/mpl-data/fonts/afm\n",
      "  \u001b[31m   \u001b[0m copying lib/matplotlib/mpl-data/stylelib/seaborn-notebook.mplstyle -> build/lib.linux-x86_64-cpython-311/matplotlib/mpl-data/stylelib\n",
      "  \u001b[31m   \u001b[0m copying lib/matplotlib/mpl-data/fonts/afm/pbkd8a.afm -> build/lib.linux-x86_64-cpython-311/matplotlib/mpl-data/fonts/afm\n",
      "  \u001b[31m   \u001b[0m copying lib/matplotlib/mpl-data/fonts/afm/putri8a.afm -> build/lib.linux-x86_64-cpython-311/matplotlib/mpl-data/fonts/afm\n",
      "  \u001b[31m   \u001b[0m creating build/lib.linux-x86_64-cpython-311/matplotlib/backends/web_backend/css\n",
      "  \u001b[31m   \u001b[0m copying lib/matplotlib/backends/web_backend/css/boilerplate.css -> build/lib.linux-x86_64-cpython-311/matplotlib/backends/web_backend/css\n",
      "  \u001b[31m   \u001b[0m copying lib/matplotlib/backends/web_backend/css/fbm.css -> build/lib.linux-x86_64-cpython-311/matplotlib/backends/web_backend/css\n",
      "  \u001b[31m   \u001b[0m copying lib/matplotlib/mpl-data/fonts/afm/pagd8a.afm -> build/lib.linux-x86_64-cpython-311/matplotlib/mpl-data/fonts/afm\n",
      "  \u001b[31m   \u001b[0m copying lib/matplotlib/mpl-data/images/help_large.ppm -> build/lib.linux-x86_64-cpython-311/matplotlib/mpl-data/images\n",
      "  \u001b[31m   \u001b[0m copying lib/matplotlib/mpl-data/fonts/ttf/DejaVuSerif.ttf -> build/lib.linux-x86_64-cpython-311/matplotlib/mpl-data/fonts/ttf\n",
      "  \u001b[31m   \u001b[0m copying lib/matplotlib/mpl-data/stylelib/seaborn-paper.mplstyle -> build/lib.linux-x86_64-cpython-311/matplotlib/mpl-data/stylelib\n",
      "  \u001b[31m   \u001b[0m copying lib/matplotlib/mpl-data/fonts/pdfcorefonts/Times-Bold.afm -> build/lib.linux-x86_64-cpython-311/matplotlib/mpl-data/fonts/pdfcorefonts\n",
      "  \u001b[31m   \u001b[0m copying lib/matplotlib/mpl-data/images/filesave.png -> build/lib.linux-x86_64-cpython-311/matplotlib/mpl-data/images\n",
      "  \u001b[31m   \u001b[0m copying lib/matplotlib/backends/web_backend/jquery-ui-1.12.1/index.html -> build/lib.linux-x86_64-cpython-311/matplotlib/backends/web_backend/jquery-ui-1.12.1\n",
      "  \u001b[31m   \u001b[0m copying lib/matplotlib/mpl-data/sample_data/ct.raw.gz -> build/lib.linux-x86_64-cpython-311/matplotlib/mpl-data/sample_data\n",
      "  \u001b[31m   \u001b[0m copying lib/matplotlib/mpl-data/sample_data/Minduka_Present_Blue_Pack.png -> build/lib.linux-x86_64-cpython-311/matplotlib/mpl-data/sample_data\n",
      "  \u001b[31m   \u001b[0m copying lib/matplotlib/mpl-data/fonts/ttf/DejaVuSansMono-Oblique.ttf -> build/lib.linux-x86_64-cpython-311/matplotlib/mpl-data/fonts/ttf\n",
      "  \u001b[31m   \u001b[0m copying lib/matplotlib/mpl-data/fonts/ttf/cmmi10.ttf -> build/lib.linux-x86_64-cpython-311/matplotlib/mpl-data/fonts/ttf\n",
      "  \u001b[31m   \u001b[0m copying lib/matplotlib/mpl-data/images/filesave.pdf -> build/lib.linux-x86_64-cpython-311/matplotlib/mpl-data/images\n",
      "  \u001b[31m   \u001b[0m copying lib/matplotlib/mpl-data/sample_data/ada.png -> build/lib.linux-x86_64-cpython-311/matplotlib/mpl-data/sample_data\n",
      "  \u001b[31m   \u001b[0m copying lib/matplotlib/mpl-data/sample_data/data_x_x2_x3.csv -> build/lib.linux-x86_64-cpython-311/matplotlib/mpl-data/sample_data\n",
      "  \u001b[31m   \u001b[0m copying lib/matplotlib/mpl-data/images/zoom_to_rect.svg -> build/lib.linux-x86_64-cpython-311/matplotlib/mpl-data/images\n",
      "  \u001b[31m   \u001b[0m copying lib/matplotlib/mpl-data/fonts/afm/pplri8a.afm -> build/lib.linux-x86_64-cpython-311/matplotlib/mpl-data/fonts/afm\n",
      "  \u001b[31m   \u001b[0m copying lib/matplotlib/backends/web_backend/jquery-ui-1.12.1/jquery-ui.theme.min.css -> build/lib.linux-x86_64-cpython-311/matplotlib/backends/web_backend/jquery-ui-1.12.1\n",
      "  \u001b[31m   \u001b[0m copying lib/matplotlib/mpl-data/images/subplots_large.gif -> build/lib.linux-x86_64-cpython-311/matplotlib/mpl-data/images\n",
      "  \u001b[31m   \u001b[0m copying lib/matplotlib/mpl-data/images/back.gif -> build/lib.linux-x86_64-cpython-311/matplotlib/mpl-data/images\n",
      "  \u001b[31m   \u001b[0m copying lib/matplotlib/mpl-data/sample_data/grace_hopper.png -> build/lib.linux-x86_64-cpython-311/matplotlib/mpl-data/sample_data\n",
      "  \u001b[31m   \u001b[0m copying lib/matplotlib/mpl-data/stylelib/seaborn-white.mplstyle -> build/lib.linux-x86_64-cpython-311/matplotlib/mpl-data/stylelib\n",
      "  \u001b[31m   \u001b[0m copying lib/matplotlib/mpl-data/fonts/afm/pcrr8a.afm -> build/lib.linux-x86_64-cpython-311/matplotlib/mpl-data/fonts/afm\n",
      "  \u001b[31m   \u001b[0m copying lib/matplotlib/mpl-data/fonts/afm/phvl8a.afm -> build/lib.linux-x86_64-cpython-311/matplotlib/mpl-data/fonts/afm\n",
      "  \u001b[31m   \u001b[0m copying lib/matplotlib/mpl-data/fonts/pdfcorefonts/Courier-Bold.afm -> build/lib.linux-x86_64-cpython-311/matplotlib/mpl-data/fonts/pdfcorefonts\n",
      "  \u001b[31m   \u001b[0m copying lib/matplotlib/mpl-data/fonts/afm/ptmri8a.afm -> build/lib.linux-x86_64-cpython-311/matplotlib/mpl-data/fonts/afm\n",
      "  \u001b[31m   \u001b[0m copying lib/matplotlib/mpl-data/images/matplotlib.svg -> build/lib.linux-x86_64-cpython-311/matplotlib/mpl-data/images\n",
      "  \u001b[31m   \u001b[0m copying lib/matplotlib/backends/web_backend/jquery-ui-1.12.1/images/ui-icons_444444_256x240.png -> build/lib.linux-x86_64-cpython-311/matplotlib/backends/web_backend/jquery-ui-1.12.1/images\n",
      "  \u001b[31m   \u001b[0m copying lib/matplotlib/mpl-data/stylelib/fivethirtyeight.mplstyle -> build/lib.linux-x86_64-cpython-311/matplotlib/mpl-data/stylelib\n",
      "  \u001b[31m   \u001b[0m copying lib/matplotlib/backends/web_backend/single_figure.html -> build/lib.linux-x86_64-cpython-311/matplotlib/backends/web_backend\n",
      "  \u001b[31m   \u001b[0m copying lib/matplotlib/mpl-data/images/hand.gif -> build/lib.linux-x86_64-cpython-311/matplotlib/mpl-data/images\n",
      "  \u001b[31m   \u001b[0m copying lib/matplotlib/backends/web_backend/jquery-ui-1.12.1/jquery-ui.css -> build/lib.linux-x86_64-cpython-311/matplotlib/backends/web_backend/jquery-ui-1.12.1\n",
      "  \u001b[31m   \u001b[0m copying lib/matplotlib/mpl-data/fonts/afm/pplb8a.afm -> build/lib.linux-x86_64-cpython-311/matplotlib/mpl-data/fonts/afm\n",
      "  \u001b[31m   \u001b[0m copying lib/matplotlib/mpl-data/sample_data/membrane.dat -> build/lib.linux-x86_64-cpython-311/matplotlib/mpl-data/sample_data\n",
      "  \u001b[31m   \u001b[0m copying lib/matplotlib/backends/web_backend/jquery-ui-1.12.1/images/ui-icons_cc0000_256x240.png -> build/lib.linux-x86_64-cpython-311/matplotlib/backends/web_backend/jquery-ui-1.12.1/images\n",
      "  \u001b[31m   \u001b[0m copying lib/matplotlib/mpl-data/fonts/pdfcorefonts/Times-Roman.afm -> build/lib.linux-x86_64-cpython-311/matplotlib/mpl-data/fonts/pdfcorefonts\n",
      "  \u001b[31m   \u001b[0m copying lib/matplotlib/mpl-data/fonts/afm/pagdo8a.afm -> build/lib.linux-x86_64-cpython-311/matplotlib/mpl-data/fonts/afm\n",
      "  \u001b[31m   \u001b[0m copying lib/matplotlib/mpl-data/images/subplots.pdf -> build/lib.linux-x86_64-cpython-311/matplotlib/mpl-data/images\n",
      "  \u001b[31m   \u001b[0m copying lib/matplotlib/mpl-data/stylelib/seaborn-bright.mplstyle -> build/lib.linux-x86_64-cpython-311/matplotlib/mpl-data/stylelib\n",
      "  \u001b[31m   \u001b[0m copying lib/matplotlib/mpl-data/sample_data/topobathy.npz -> build/lib.linux-x86_64-cpython-311/matplotlib/mpl-data/sample_data\n",
      "  \u001b[31m   \u001b[0m copying lib/matplotlib/mpl-data/images/back.svg -> build/lib.linux-x86_64-cpython-311/matplotlib/mpl-data/images\n",
      "  \u001b[31m   \u001b[0m copying lib/matplotlib/mpl-data/images/matplotlib.png -> build/lib.linux-x86_64-cpython-311/matplotlib/mpl-data/images\n",
      "  \u001b[31m   \u001b[0m copying lib/matplotlib/mpl-data/fonts/pdfcorefonts/Helvetica-Bold.afm -> build/lib.linux-x86_64-cpython-311/matplotlib/mpl-data/fonts/pdfcorefonts\n",
      "  \u001b[31m   \u001b[0m copying lib/matplotlib/mpl-data/images/hand.pdf -> build/lib.linux-x86_64-cpython-311/matplotlib/mpl-data/images\n",
      "  \u001b[31m   \u001b[0m copying lib/matplotlib/backends/web_backend/jquery-ui-1.12.1/package.json -> build/lib.linux-x86_64-cpython-311/matplotlib/backends/web_backend/jquery-ui-1.12.1\n",
      "  \u001b[31m   \u001b[0m copying lib/matplotlib/backends/web_backend/jquery-ui-1.12.1/images/ui-icons_ffffff_256x240.png -> build/lib.linux-x86_64-cpython-311/matplotlib/backends/web_backend/jquery-ui-1.12.1/images\n",
      "  \u001b[31m   \u001b[0m copying lib/matplotlib/backends/web_backend/js/nbagg_mpl.js -> build/lib.linux-x86_64-cpython-311/matplotlib/backends/web_backend/js\n",
      "  \u001b[31m   \u001b[0m copying lib/matplotlib/mpl-data/sample_data/aapl.npz -> build/lib.linux-x86_64-cpython-311/matplotlib/mpl-data/sample_data\n",
      "  \u001b[31m   \u001b[0m creating build/lib.linux-x86_64-cpython-311/matplotlib/mpl-data/sample_data/axes_grid\n",
      "  \u001b[31m   \u001b[0m copying lib/matplotlib/mpl-data/sample_data/axes_grid/bivariate_normal.npy -> build/lib.linux-x86_64-cpython-311/matplotlib/mpl-data/sample_data/axes_grid\n",
      "  \u001b[31m   \u001b[0m copying lib/matplotlib/mpl-data/fonts/ttf/STIXGeneral.ttf -> build/lib.linux-x86_64-cpython-311/matplotlib/mpl-data/fonts/ttf\n",
      "  \u001b[31m   \u001b[0m copying lib/matplotlib/backends/web_backend/jquery-ui-1.12.1/AUTHORS.txt -> build/lib.linux-x86_64-cpython-311/matplotlib/backends/web_backend/jquery-ui-1.12.1\n",
      "  \u001b[31m   \u001b[0m copying lib/matplotlib/mpl-data/fonts/afm/phvb8an.afm -> build/lib.linux-x86_64-cpython-311/matplotlib/mpl-data/fonts/afm\n",
      "  \u001b[31m   \u001b[0m copying lib/matplotlib/mpl-data/fonts/ttf/STIXSizTwoSymReg.ttf -> build/lib.linux-x86_64-cpython-311/matplotlib/mpl-data/fonts/ttf\n",
      "  \u001b[31m   \u001b[0m copying lib/matplotlib/mpl-data/fonts/afm/pplr8a.afm -> build/lib.linux-x86_64-cpython-311/matplotlib/mpl-data/fonts/afm\n",
      "  \u001b[31m   \u001b[0m copying lib/matplotlib/mpl-data/fonts/ttf/DejaVuSans-Oblique.ttf -> build/lib.linux-x86_64-cpython-311/matplotlib/mpl-data/fonts/ttf\n",
      "  \u001b[31m   \u001b[0m copying lib/matplotlib/backends/web_backend/jquery-ui-1.12.1/jquery-ui.min.css -> build/lib.linux-x86_64-cpython-311/matplotlib/backends/web_backend/jquery-ui-1.12.1\n",
      "  \u001b[31m   \u001b[0m copying lib/matplotlib/mpl-data/fonts/ttf/cmr10.ttf -> build/lib.linux-x86_64-cpython-311/matplotlib/mpl-data/fonts/ttf\n",
      "  \u001b[31m   \u001b[0m copying lib/matplotlib/mpl-data/images/subplots.svg -> build/lib.linux-x86_64-cpython-311/matplotlib/mpl-data/images\n",
      "  \u001b[31m   \u001b[0m copying lib/matplotlib/mpl-data/images/help.png -> build/lib.linux-x86_64-cpython-311/matplotlib/mpl-data/images\n",
      "  \u001b[31m   \u001b[0m copying lib/matplotlib/backends/web_backend/js/mpl.js -> build/lib.linux-x86_64-cpython-311/matplotlib/backends/web_backend/js\n",
      "  \u001b[31m   \u001b[0m copying lib/matplotlib/mpl-data/stylelib/seaborn-dark.mplstyle -> build/lib.linux-x86_64-cpython-311/matplotlib/mpl-data/stylelib\n",
      "  \u001b[31m   \u001b[0m copying lib/matplotlib/backends/web_backend/jquery-ui-1.12.1/LICENSE.txt -> build/lib.linux-x86_64-cpython-311/matplotlib/backends/web_backend/jquery-ui-1.12.1\n",
      "  \u001b[31m   \u001b[0m copying lib/matplotlib/mpl-data/fonts/pdfcorefonts/ZapfDingbats.afm -> build/lib.linux-x86_64-cpython-311/matplotlib/mpl-data/fonts/pdfcorefonts\n",
      "  \u001b[31m   \u001b[0m copying lib/matplotlib/mpl-data/sample_data/None_vs_nearest-pdf.png -> build/lib.linux-x86_64-cpython-311/matplotlib/mpl-data/sample_data\n",
      "  \u001b[31m   \u001b[0m copying lib/matplotlib/mpl-data/images/qt4_editor_options.svg -> build/lib.linux-x86_64-cpython-311/matplotlib/mpl-data/images\n",
      "  \u001b[31m   \u001b[0m copying lib/matplotlib/mpl-data/images/zoom_to_rect.pdf -> build/lib.linux-x86_64-cpython-311/matplotlib/mpl-data/images\n",
      "  \u001b[31m   \u001b[0m copying lib/matplotlib/mpl-data/fonts/afm/pagko8a.afm -> build/lib.linux-x86_64-cpython-311/matplotlib/mpl-data/fonts/afm\n",
      "  \u001b[31m   \u001b[0m copying lib/matplotlib/mpl-data/images/filesave_large.png -> build/lib.linux-x86_64-cpython-311/matplotlib/mpl-data/images\n",
      "  \u001b[31m   \u001b[0m copying lib/matplotlib/mpl-data/fonts/afm/pagk8a.afm -> build/lib.linux-x86_64-cpython-311/matplotlib/mpl-data/fonts/afm\n",
      "  \u001b[31m   \u001b[0m copying lib/matplotlib/mpl-data/images/move.png -> build/lib.linux-x86_64-cpython-311/matplotlib/mpl-data/images\n",
      "  \u001b[31m   \u001b[0m copying lib/matplotlib/mpl-data/images/qt4_editor_options_large.png -> build/lib.linux-x86_64-cpython-311/matplotlib/mpl-data/images\n",
      "  \u001b[31m   \u001b[0m copying lib/matplotlib/mpl-data/fonts/afm/pbkdi8a.afm -> build/lib.linux-x86_64-cpython-311/matplotlib/mpl-data/fonts/afm\n",
      "  \u001b[31m   \u001b[0m copying lib/matplotlib/mpl-data/fonts/afm/ptmr8a.afm -> build/lib.linux-x86_64-cpython-311/matplotlib/mpl-data/fonts/afm\n",
      "  \u001b[31m   \u001b[0m copying lib/matplotlib/mpl-data/fonts/pdfcorefonts/Times-Italic.afm -> build/lib.linux-x86_64-cpython-311/matplotlib/mpl-data/fonts/pdfcorefonts\n",
      "  \u001b[31m   \u001b[0m copying lib/matplotlib/mpl-data/fonts/ttf/STIXSizFiveSymReg.ttf -> build/lib.linux-x86_64-cpython-311/matplotlib/mpl-data/fonts/ttf\n",
      "  \u001b[31m   \u001b[0m copying lib/matplotlib/mpl-data/stylelib/seaborn.mplstyle -> build/lib.linux-x86_64-cpython-311/matplotlib/mpl-data/stylelib\n",
      "  \u001b[31m   \u001b[0m copying lib/matplotlib/mpl-data/sample_data/README.txt -> build/lib.linux-x86_64-cpython-311/matplotlib/mpl-data/sample_data\n",
      "  \u001b[31m   \u001b[0m copying lib/matplotlib/mpl-data/sample_data/percent_bachelors_degrees_women_usa.csv -> build/lib.linux-x86_64-cpython-311/matplotlib/mpl-data/sample_data\n",
      "  \u001b[31m   \u001b[0m copying lib/matplotlib/backends/web_backend/css/page.css -> build/lib.linux-x86_64-cpython-311/matplotlib/backends/web_backend/css\n",
      "  \u001b[31m   \u001b[0m copying lib/matplotlib/backends/web_backend/jquery-ui-1.12.1/jquery-ui.js -> build/lib.linux-x86_64-cpython-311/matplotlib/backends/web_backend/jquery-ui-1.12.1\n",
      "  \u001b[31m   \u001b[0m copying lib/matplotlib/mpl-data/sample_data/demodata.csv -> build/lib.linux-x86_64-cpython-311/matplotlib/mpl-data/sample_data\n",
      "  \u001b[31m   \u001b[0m copying lib/matplotlib/mpl-data/images/qt4_editor_options.pdf -> build/lib.linux-x86_64-cpython-311/matplotlib/mpl-data/images\n",
      "  \u001b[31m   \u001b[0m copying lib/matplotlib/mpl-data/images/help.pdf -> build/lib.linux-x86_64-cpython-311/matplotlib/mpl-data/images\n",
      "  \u001b[31m   \u001b[0m copying lib/matplotlib/mpl-data/sample_data/jacksboro_fault_dem.npz -> build/lib.linux-x86_64-cpython-311/matplotlib/mpl-data/sample_data\n",
      "  \u001b[31m   \u001b[0m copying lib/matplotlib/mpl-data/sample_data/eeg.dat -> build/lib.linux-x86_64-cpython-311/matplotlib/mpl-data/sample_data\n",
      "  \u001b[31m   \u001b[0m copying lib/matplotlib/backends/web_backend/nbagg_uat.ipynb -> build/lib.linux-x86_64-cpython-311/matplotlib/backends/web_backend\n",
      "  \u001b[31m   \u001b[0m UPDATING build/lib.linux-x86_64-cpython-311/matplotlib/_version.py\n",
      "  \u001b[31m   \u001b[0m set build/lib.linux-x86_64-cpython-311/matplotlib/_version.py to '3.2.1'\n",
      "  \u001b[31m   \u001b[0m running build_ext\n",
      "  \u001b[31m   \u001b[0m building 'matplotlib.ft2font' extension\n",
      "  \u001b[31m   \u001b[0m creating build/temp.linux-x86_64-cpython-311\n",
      "  \u001b[31m   \u001b[0m creating build/temp.linux-x86_64-cpython-311/src\n",
      "  \u001b[31m   \u001b[0m x86_64-linux-gnu-gcc -Wsign-compare -DNDEBUG -g -fwrapv -O2 -Wall -g -fno-omit-frame-pointer -mno-omit-leaf-frame-pointer -fstack-protector-strong -fstack-clash-protection -Wformat -Werror=format-security -fcf-protection -g -fwrapv -O2 -fPIC -DFREETYPE_BUILD_TYPE=system -DPY_ARRAY_UNIQUE_SYMBOL=MPL_matplotlib_ft2font_ARRAY_API -DNPY_NO_DEPRECATED_API=NPY_1_7_API_VERSION -D__STDC_FORMAT_MACROS=1 -Iextern/agg24-svn/include \"-I/home/toofan/Desktop/New Folder/Tensorflow-Object-Detection/tfod/lib/python3.11/site-packages/numpy/core/include\" \"-I/home/toofan/Desktop/New Folder/Tensorflow-Object-Detection/tfod/include\" -I/usr/include/python3.11 -c src/checkdep_freetype2.c -o build/temp.linux-x86_64-cpython-311/src/checkdep_freetype2.o -I/usr/include/freetype2 -I/usr/include/libpng16\n",
      "  \u001b[31m   \u001b[0m src/checkdep_freetype2.c:15:9: note: ‘#pragma message: Compiling with FreeType version 2.13.2.’\n",
      "  \u001b[31m   \u001b[0m    15 | #pragma message(\"Compiling with FreeType version \" \\\n",
      "  \u001b[31m   \u001b[0m       |         ^~~~~~~\n",
      "  \u001b[31m   \u001b[0m x86_64-linux-gnu-gcc -Wsign-compare -DNDEBUG -g -fwrapv -O2 -Wall -g -fno-omit-frame-pointer -mno-omit-leaf-frame-pointer -fstack-protector-strong -fstack-clash-protection -Wformat -Werror=format-security -fcf-protection -g -fwrapv -O2 -fPIC -DFREETYPE_BUILD_TYPE=system -DPY_ARRAY_UNIQUE_SYMBOL=MPL_matplotlib_ft2font_ARRAY_API -DNPY_NO_DEPRECATED_API=NPY_1_7_API_VERSION -D__STDC_FORMAT_MACROS=1 -Iextern/agg24-svn/include \"-I/home/toofan/Desktop/New Folder/Tensorflow-Object-Detection/tfod/lib/python3.11/site-packages/numpy/core/include\" \"-I/home/toofan/Desktop/New Folder/Tensorflow-Object-Detection/tfod/include\" -I/usr/include/python3.11 -c src/ft2font.cpp -o build/temp.linux-x86_64-cpython-311/src/ft2font.o -I/usr/include/freetype2 -I/usr/include/libpng16\n",
      "  \u001b[31m   \u001b[0m In file included from src/ft2font.cpp:11:\n",
      "  \u001b[31m   \u001b[0m src/mplutils.h:30:10: fatal error: Python.h: No such file or directory\n",
      "  \u001b[31m   \u001b[0m    30 | #include <Python.h>\n",
      "  \u001b[31m   \u001b[0m       |          ^~~~~~~~~~\n",
      "  \u001b[31m   \u001b[0m compilation terminated.\n",
      "  \u001b[31m   \u001b[0m error: command '/usr/bin/x86_64-linux-gnu-gcc' failed with exit code 1\n",
      "  \u001b[31m   \u001b[0m \u001b[31m[end of output]\u001b[0m\n",
      "  \n",
      "  \u001b[1;35mnote\u001b[0m: This error originates from a subprocess, and is likely not a problem with pip.\n",
      "\u001b[31m  ERROR: Failed building wheel for matplotlib\u001b[0m\u001b[31m\n",
      "\u001b[0m\u001b[?25h  Running setup.py clean for matplotlib\n",
      "Failed to build matplotlib\n",
      "\u001b[31mERROR: Could not build wheels for matplotlib, which is required to install pyproject.toml-based projects\u001b[0m\u001b[31m\n",
      "\u001b[0m"
     ]
    }
   ],
   "source": [
    "!pip uninstall protobuf matplotlib -y\n",
    "!pip install protobuf matplotlib==3.2.1"
   ]
  },
  {
   "cell_type": "code",
   "execution_count": 3,
   "metadata": {},
   "outputs": [
    {
     "name": "stdout",
     "output_type": "stream",
     "text": [
      "Collecting Protobuf\n",
      "  Using cached protobuf-5.26.1-cp37-abi3-manylinux2014_x86_64.whl.metadata (592 bytes)\n",
      "Using cached protobuf-5.26.1-cp37-abi3-manylinux2014_x86_64.whl (302 kB)\n",
      "Installing collected packages: Protobuf\n",
      "\u001b[31mERROR: pip's dependency resolver does not currently take into account all the packages that are installed. This behaviour is the source of the following dependency conflicts.\n",
      "tf-models-official 2.16.0 requires matplotlib, which is not installed.\n",
      "object-detection 0.1 requires matplotlib, which is not installed.\n",
      "proto-plus 1.23.0 requires protobuf<5.0.0dev,>=3.19.0, but you have protobuf 5.26.1 which is incompatible.\n",
      "tensorflow 2.16.1 requires protobuf!=4.21.0,!=4.21.1,!=4.21.2,!=4.21.3,!=4.21.4,!=4.21.5,<5.0.0dev,>=3.20.3, but you have protobuf 5.26.1 which is incompatible.\n",
      "apache-beam 2.56.0 requires protobuf!=4.0.*,!=4.21.*,!=4.22.0,!=4.23.*,!=4.24.*,<4.26.0,>=3.20.3, but you have protobuf 5.26.1 which is incompatible.\n",
      "tensorflow-metadata 1.15.0 requires protobuf<5,>=4.25.2; python_version >= \"3.11\", but you have protobuf 5.26.1 which is incompatible.\n",
      "googleapis-common-protos 1.63.0 requires protobuf!=3.20.0,!=3.20.1,!=4.21.1,!=4.21.2,!=4.21.3,!=4.21.4,!=4.21.5,<5.0.0.dev0,>=3.19.5, but you have protobuf 5.26.1 which is incompatible.\n",
      "google-api-core 2.19.0 requires protobuf!=3.20.0,!=3.20.1,!=4.21.0,!=4.21.1,!=4.21.2,!=4.21.3,!=4.21.4,!=4.21.5,<5.0.0.dev0,>=3.19.5, but you have protobuf 5.26.1 which is incompatible.\u001b[0m\u001b[31m\n",
      "\u001b[0mSuccessfully installed Protobuf-5.26.1\n"
     ]
    }
   ],
   "source": [
    "!pip install Protobuf"
   ]
  },
  {
   "cell_type": "code",
   "execution_count": 18,
   "metadata": {},
   "outputs": [
    {
     "name": "stdout",
     "output_type": "stream",
     "text": [
      "Collecting matplotlib\n",
      "  Using cached matplotlib-3.9.0-cp311-cp311-manylinux_2_17_x86_64.manylinux2014_x86_64.whl.metadata (11 kB)\n",
      "Requirement already satisfied: contourpy>=1.0.1 in ./tfod/lib/python3.11/site-packages (from matplotlib) (1.2.1)\n",
      "Requirement already satisfied: cycler>=0.10 in ./tfod/lib/python3.11/site-packages (from matplotlib) (0.12.1)\n",
      "Requirement already satisfied: fonttools>=4.22.0 in ./tfod/lib/python3.11/site-packages (from matplotlib) (4.51.0)\n",
      "Requirement already satisfied: kiwisolver>=1.3.1 in ./tfod/lib/python3.11/site-packages (from matplotlib) (1.4.5)\n",
      "Requirement already satisfied: numpy>=1.23 in ./tfod/lib/python3.11/site-packages (from matplotlib) (1.26.4)\n",
      "Requirement already satisfied: packaging>=20.0 in ./tfod/lib/python3.11/site-packages (from matplotlib) (24.0)\n",
      "Requirement already satisfied: pillow>=8 in ./tfod/lib/python3.11/site-packages (from matplotlib) (10.3.0)\n",
      "Requirement already satisfied: pyparsing>=2.3.1 in ./tfod/lib/python3.11/site-packages (from matplotlib) (2.4.7)\n",
      "Requirement already satisfied: python-dateutil>=2.7 in ./tfod/lib/python3.11/site-packages (from matplotlib) (2.9.0.post0)\n",
      "Requirement already satisfied: six>=1.5 in ./tfod/lib/python3.11/site-packages (from python-dateutil>=2.7->matplotlib) (1.16.0)\n",
      "Using cached matplotlib-3.9.0-cp311-cp311-manylinux_2_17_x86_64.manylinux2014_x86_64.whl (8.3 MB)\n",
      "Installing collected packages: matplotlib\n",
      "\u001b[31mERROR: pip's dependency resolver does not currently take into account all the packages that are installed. This behaviour is the source of the following dependency conflicts.\n",
      "tensorflow-object-detection-api 0.1.1 requires Protobuf, which is not installed.\u001b[0m\u001b[31m\n",
      "\u001b[0mSuccessfully installed matplotlib-3.9.0\n"
     ]
    }
   ],
   "source": [
    "!pip install matplotlib"
   ]
  },
  {
   "cell_type": "code",
   "execution_count": null,
   "metadata": {},
   "outputs": [],
   "source": [
    "pip install tensorflow-object-detection-api"
   ]
  },
  {
   "cell_type": "code",
   "execution_count": 18,
   "metadata": {},
   "outputs": [
    {
     "data": {
      "text/plain": [
       "'Tensorflow/models/research/object_detection/builders/model_builder_tf2_test.py'"
      ]
     },
     "execution_count": 18,
     "metadata": {},
     "output_type": "execute_result"
    }
   ],
   "source": [
    "VERIFICATION_SCRIPT"
   ]
  },
  {
   "cell_type": "code",
   "execution_count": 14,
   "metadata": {},
   "outputs": [],
   "source": [
    "import object_detection"
   ]
  },
  {
   "cell_type": "code",
   "execution_count": 24,
   "metadata": {
    "scrolled": true
   },
   "outputs": [
    {
     "name": "stdout",
     "output_type": "stream",
     "text": [
      "2024-05-22 17:41:30.213664: I tensorflow/core/util/port.cc:113] oneDNN custom operations are on. You may see slightly different numerical results due to floating-point round-off errors from different computation orders. To turn them off, set the environment variable `TF_ENABLE_ONEDNN_OPTS=0`.\n",
      "2024-05-22 17:41:30.249862: I tensorflow/core/platform/cpu_feature_guard.cc:210] This TensorFlow binary is optimized to use available CPU instructions in performance-critical operations.\n",
      "To enable the following instructions: AVX2 AVX_VNNI FMA, in other operations, rebuild TensorFlow with the appropriate compiler flags.\n",
      "2024-05-22 17:41:30.865027: W tensorflow/compiler/tf2tensorrt/utils/py_utils.cc:38] TF-TRT Warning: Could not find TensorRT\n",
      "2024-05-22 17:41:33.711073: I external/local_xla/xla/stream_executor/cuda/cuda_executor.cc:998] successful NUMA node read from SysFS had negative value (-1), but there must be at least one NUMA node, so returning NUMA node zero. See more at https://github.com/torvalds/linux/blob/v6.0/Documentation/ABI/testing/sysfs-bus-pci#L344-L355\n",
      "2024-05-22 17:41:33.737779: W tensorflow/core/common_runtime/gpu/gpu_device.cc:2251] Cannot dlopen some GPU libraries. Please make sure the missing libraries mentioned above are installed properly if you would like to use GPU. Follow the guide at https://www.tensorflow.org/install/gpu for how to download and setup the required libraries for your platform.\n",
      "Skipping registering GPU devices...\n",
      "Running tests under Python 3.11.9: /home/toofan/Desktop/New Folder/Tensorflow-Object-Detection/tfod/bin/python\n",
      "[ RUN      ] ModelBuilderTF2Test.test_create_center_net_deepmac\n",
      "[  FAILED  ] ModelBuilderTF2Test.test_create_center_net_deepmac\n",
      "INFO:tensorflow:time(__main__.ModelBuilderTF2Test.test_create_center_net_deepmac): 0.0s\n",
      "I0522 17:41:33.743371 139266885648512 test_util.py:2620] time(__main__.ModelBuilderTF2Test.test_create_center_net_deepmac): 0.0s\n",
      "[ RUN      ] ModelBuilderTF2Test.test_create_center_net_model0 (customize_head_params=True)\n",
      "[  FAILED  ] ModelBuilderTF2Test.test_create_center_net_model0 (customize_head_params=True)\n",
      "INFO:tensorflow:time(__main__.ModelBuilderTF2Test.test_create_center_net_model0 (customize_head_params=True)): 0.17s\n",
      "I0522 17:41:33.908951 139266885648512 test_util.py:2620] time(__main__.ModelBuilderTF2Test.test_create_center_net_model0 (customize_head_params=True)): 0.17s\n",
      "[ RUN      ] ModelBuilderTF2Test.test_create_center_net_model1 (customize_head_params=False)\n",
      "[  FAILED  ] ModelBuilderTF2Test.test_create_center_net_model1 (customize_head_params=False)\n",
      "INFO:tensorflow:time(__main__.ModelBuilderTF2Test.test_create_center_net_model1 (customize_head_params=False)): 0.0s\n",
      "I0522 17:41:33.911796 139266885648512 test_util.py:2620] time(__main__.ModelBuilderTF2Test.test_create_center_net_model1 (customize_head_params=False)): 0.0s\n",
      "[ RUN      ] ModelBuilderTF2Test.test_create_center_net_model_from_keypoints\n",
      "[  FAILED  ] ModelBuilderTF2Test.test_create_center_net_model_from_keypoints\n",
      "INFO:tensorflow:time(__main__.ModelBuilderTF2Test.test_create_center_net_model_from_keypoints): 0.0s\n",
      "I0522 17:41:33.914538 139266885648512 test_util.py:2620] time(__main__.ModelBuilderTF2Test.test_create_center_net_model_from_keypoints): 0.0s\n",
      "[ RUN      ] ModelBuilderTF2Test.test_create_center_net_model_mobilenet\n",
      "[  FAILED  ] ModelBuilderTF2Test.test_create_center_net_model_mobilenet\n",
      "INFO:tensorflow:time(__main__.ModelBuilderTF2Test.test_create_center_net_model_mobilenet): 0.0s\n",
      "I0522 17:41:33.915578 139266885648512 test_util.py:2620] time(__main__.ModelBuilderTF2Test.test_create_center_net_model_mobilenet): 0.0s\n",
      "[ RUN      ] ModelBuilderTF2Test.test_create_experimental_model\n",
      "INFO:tensorflow:time(__main__.ModelBuilderTF2Test.test_create_experimental_model): 0.0s\n",
      "I0522 17:41:33.915752 139266885648512 test_util.py:2620] time(__main__.ModelBuilderTF2Test.test_create_experimental_model): 0.0s\n",
      "[       OK ] ModelBuilderTF2Test.test_create_experimental_model\n",
      "[ RUN      ] ModelBuilderTF2Test.test_create_faster_rcnn_from_config_with_crop_feature0 (True)\n",
      "INFO:tensorflow:time(__main__.ModelBuilderTF2Test.test_create_faster_rcnn_from_config_with_crop_feature0 (True)): 0.01s\n",
      "I0522 17:41:33.921926 139266885648512 test_util.py:2620] time(__main__.ModelBuilderTF2Test.test_create_faster_rcnn_from_config_with_crop_feature0 (True)): 0.01s\n",
      "[       OK ] ModelBuilderTF2Test.test_create_faster_rcnn_from_config_with_crop_feature0 (True)\n",
      "[ RUN      ] ModelBuilderTF2Test.test_create_faster_rcnn_from_config_with_crop_feature1 (False)\n",
      "INFO:tensorflow:time(__main__.ModelBuilderTF2Test.test_create_faster_rcnn_from_config_with_crop_feature1 (False)): 0.01s\n",
      "I0522 17:41:33.927919 139266885648512 test_util.py:2620] time(__main__.ModelBuilderTF2Test.test_create_faster_rcnn_from_config_with_crop_feature1 (False)): 0.01s\n",
      "[       OK ] ModelBuilderTF2Test.test_create_faster_rcnn_from_config_with_crop_feature1 (False)\n",
      "[ RUN      ] ModelBuilderTF2Test.test_create_faster_rcnn_model_from_config_with_example_miner\n",
      "INFO:tensorflow:time(__main__.ModelBuilderTF2Test.test_create_faster_rcnn_model_from_config_with_example_miner): 0.01s\n",
      "I0522 17:41:33.934325 139266885648512 test_util.py:2620] time(__main__.ModelBuilderTF2Test.test_create_faster_rcnn_model_from_config_with_example_miner): 0.01s\n",
      "[       OK ] ModelBuilderTF2Test.test_create_faster_rcnn_model_from_config_with_example_miner\n",
      "[ RUN      ] ModelBuilderTF2Test.test_create_faster_rcnn_models_from_config_faster_rcnn_with_matmul\n",
      "INFO:tensorflow:time(__main__.ModelBuilderTF2Test.test_create_faster_rcnn_models_from_config_faster_rcnn_with_matmul): 0.04s\n",
      "I0522 17:41:33.973352 139266885648512 test_util.py:2620] time(__main__.ModelBuilderTF2Test.test_create_faster_rcnn_models_from_config_faster_rcnn_with_matmul): 0.04s\n",
      "[       OK ] ModelBuilderTF2Test.test_create_faster_rcnn_models_from_config_faster_rcnn_with_matmul\n",
      "[ RUN      ] ModelBuilderTF2Test.test_create_faster_rcnn_models_from_config_faster_rcnn_without_matmul\n",
      "INFO:tensorflow:time(__main__.ModelBuilderTF2Test.test_create_faster_rcnn_models_from_config_faster_rcnn_without_matmul): 0.04s\n",
      "I0522 17:41:34.012824 139266885648512 test_util.py:2620] time(__main__.ModelBuilderTF2Test.test_create_faster_rcnn_models_from_config_faster_rcnn_without_matmul): 0.04s\n",
      "[       OK ] ModelBuilderTF2Test.test_create_faster_rcnn_models_from_config_faster_rcnn_without_matmul\n",
      "[ RUN      ] ModelBuilderTF2Test.test_create_faster_rcnn_models_from_config_mask_rcnn_with_matmul\n",
      "INFO:tensorflow:time(__main__.ModelBuilderTF2Test.test_create_faster_rcnn_models_from_config_mask_rcnn_with_matmul): 0.04s\n",
      "I0522 17:41:34.054891 139266885648512 test_util.py:2620] time(__main__.ModelBuilderTF2Test.test_create_faster_rcnn_models_from_config_mask_rcnn_with_matmul): 0.04s\n",
      "[       OK ] ModelBuilderTF2Test.test_create_faster_rcnn_models_from_config_mask_rcnn_with_matmul\n",
      "[ RUN      ] ModelBuilderTF2Test.test_create_faster_rcnn_models_from_config_mask_rcnn_without_matmul\n",
      "INFO:tensorflow:time(__main__.ModelBuilderTF2Test.test_create_faster_rcnn_models_from_config_mask_rcnn_without_matmul): 0.04s\n",
      "I0522 17:41:34.094740 139266885648512 test_util.py:2620] time(__main__.ModelBuilderTF2Test.test_create_faster_rcnn_models_from_config_mask_rcnn_without_matmul): 0.04s\n",
      "[       OK ] ModelBuilderTF2Test.test_create_faster_rcnn_models_from_config_mask_rcnn_without_matmul\n",
      "[ RUN      ] ModelBuilderTF2Test.test_create_rfcn_model_from_config\n",
      "INFO:tensorflow:time(__main__.ModelBuilderTF2Test.test_create_rfcn_model_from_config): 0.03s\n",
      "I0522 17:41:34.129961 139266885648512 test_util.py:2620] time(__main__.ModelBuilderTF2Test.test_create_rfcn_model_from_config): 0.03s\n",
      "[       OK ] ModelBuilderTF2Test.test_create_rfcn_model_from_config\n",
      "[ RUN      ] ModelBuilderTF2Test.test_create_ssd_fpn_model_from_config\n",
      "INFO:tensorflow:time(__main__.ModelBuilderTF2Test.test_create_ssd_fpn_model_from_config): 0.04s\n",
      "I0522 17:41:34.174285 139266885648512 test_util.py:2620] time(__main__.ModelBuilderTF2Test.test_create_ssd_fpn_model_from_config): 0.04s\n",
      "[       OK ] ModelBuilderTF2Test.test_create_ssd_fpn_model_from_config\n",
      "[ RUN      ] ModelBuilderTF2Test.test_create_ssd_models_from_config\n",
      "I0522 17:41:34.275738 139266885648512 ssd_efficientnet_bifpn_feature_extractor.py:161] EfficientDet EfficientNet backbone version: efficientnet-b0\n",
      "I0522 17:41:34.275912 139266885648512 ssd_efficientnet_bifpn_feature_extractor.py:163] EfficientDet BiFPN num filters: 64\n",
      "I0522 17:41:34.275937 139266885648512 ssd_efficientnet_bifpn_feature_extractor.py:164] EfficientDet BiFPN num iterations: 3\n",
      "I0522 17:41:34.279642 139266885648512 efficientnet_model.py:143] round_filter input=32 output=32\n",
      "I0522 17:41:34.311772 139266885648512 efficientnet_model.py:143] round_filter input=32 output=32\n",
      "I0522 17:41:34.311846 139266885648512 efficientnet_model.py:143] round_filter input=16 output=16\n",
      "I0522 17:41:34.362081 139266885648512 efficientnet_model.py:143] round_filter input=16 output=16\n",
      "I0522 17:41:34.362160 139266885648512 efficientnet_model.py:143] round_filter input=24 output=24\n",
      "I0522 17:41:34.477219 139266885648512 efficientnet_model.py:143] round_filter input=24 output=24\n",
      "I0522 17:41:34.477291 139266885648512 efficientnet_model.py:143] round_filter input=40 output=40\n",
      "I0522 17:41:34.590748 139266885648512 efficientnet_model.py:143] round_filter input=40 output=40\n",
      "I0522 17:41:34.590820 139266885648512 efficientnet_model.py:143] round_filter input=80 output=80\n",
      "I0522 17:41:34.922646 139266885648512 efficientnet_model.py:143] round_filter input=80 output=80\n",
      "I0522 17:41:34.922720 139266885648512 efficientnet_model.py:143] round_filter input=112 output=112\n",
      "I0522 17:41:35.098013 139266885648512 efficientnet_model.py:143] round_filter input=112 output=112\n",
      "I0522 17:41:35.098169 139266885648512 efficientnet_model.py:143] round_filter input=192 output=192\n",
      "I0522 17:41:35.338426 139266885648512 efficientnet_model.py:143] round_filter input=192 output=192\n",
      "I0522 17:41:35.338516 139266885648512 efficientnet_model.py:143] round_filter input=320 output=320\n",
      "I0522 17:41:35.396378 139266885648512 efficientnet_model.py:143] round_filter input=1280 output=1280\n",
      "I0522 17:41:35.435119 139266885648512 efficientnet_model.py:453] Building model efficientnet with params ModelConfig(width_coefficient=1.0, depth_coefficient=1.0, resolution=224, dropout_rate=0.2, blocks=(BlockConfig(input_filters=32, output_filters=16, kernel_size=3, num_repeat=1, expand_ratio=1, strides=(1, 1), se_ratio=0.25, id_skip=True, fused_conv=False, conv_type='depthwise'), BlockConfig(input_filters=16, output_filters=24, kernel_size=3, num_repeat=2, expand_ratio=6, strides=(2, 2), se_ratio=0.25, id_skip=True, fused_conv=False, conv_type='depthwise'), BlockConfig(input_filters=24, output_filters=40, kernel_size=5, num_repeat=2, expand_ratio=6, strides=(2, 2), se_ratio=0.25, id_skip=True, fused_conv=False, conv_type='depthwise'), BlockConfig(input_filters=40, output_filters=80, kernel_size=3, num_repeat=3, expand_ratio=6, strides=(2, 2), se_ratio=0.25, id_skip=True, fused_conv=False, conv_type='depthwise'), BlockConfig(input_filters=80, output_filters=112, kernel_size=5, num_repeat=3, expand_ratio=6, strides=(1, 1), se_ratio=0.25, id_skip=True, fused_conv=False, conv_type='depthwise'), BlockConfig(input_filters=112, output_filters=192, kernel_size=5, num_repeat=4, expand_ratio=6, strides=(2, 2), se_ratio=0.25, id_skip=True, fused_conv=False, conv_type='depthwise'), BlockConfig(input_filters=192, output_filters=320, kernel_size=3, num_repeat=1, expand_ratio=6, strides=(1, 1), se_ratio=0.25, id_skip=True, fused_conv=False, conv_type='depthwise')), stem_base_filters=32, top_base_filters=1280, activation='simple_swish', batch_norm='default', bn_momentum=0.99, bn_epsilon=0.001, weight_decay=5e-06, drop_connect_rate=0.2, depth_divisor=8, min_depth=None, use_se=True, input_channels=3, num_classes=1000, model_name='efficientnet', rescale_input=False, data_format='channels_last', dtype='float32')\n",
      "[  FAILED  ] ModelBuilderTF2Test.test_create_ssd_models_from_config\n",
      "INFO:tensorflow:time(__main__.ModelBuilderTF2Test.test_create_ssd_models_from_config): 1.28s\n",
      "I0522 17:41:35.450102 139266885648512 test_util.py:2620] time(__main__.ModelBuilderTF2Test.test_create_ssd_models_from_config): 1.28s\n",
      "[ RUN      ] ModelBuilderTF2Test.test_invalid_faster_rcnn_batchnorm_update\n",
      "INFO:tensorflow:time(__main__.ModelBuilderTF2Test.test_invalid_faster_rcnn_batchnorm_update): 0.0s\n",
      "I0522 17:41:35.458153 139266885648512 test_util.py:2620] time(__main__.ModelBuilderTF2Test.test_invalid_faster_rcnn_batchnorm_update): 0.0s\n",
      "[       OK ] ModelBuilderTF2Test.test_invalid_faster_rcnn_batchnorm_update\n",
      "[ RUN      ] ModelBuilderTF2Test.test_invalid_first_stage_nms_iou_threshold\n",
      "INFO:tensorflow:time(__main__.ModelBuilderTF2Test.test_invalid_first_stage_nms_iou_threshold): 0.0s\n",
      "I0522 17:41:35.459129 139266885648512 test_util.py:2620] time(__main__.ModelBuilderTF2Test.test_invalid_first_stage_nms_iou_threshold): 0.0s\n",
      "[       OK ] ModelBuilderTF2Test.test_invalid_first_stage_nms_iou_threshold\n",
      "[ RUN      ] ModelBuilderTF2Test.test_invalid_model_config_proto\n",
      "INFO:tensorflow:time(__main__.ModelBuilderTF2Test.test_invalid_model_config_proto): 0.0s\n",
      "I0522 17:41:35.459360 139266885648512 test_util.py:2620] time(__main__.ModelBuilderTF2Test.test_invalid_model_config_proto): 0.0s\n",
      "[       OK ] ModelBuilderTF2Test.test_invalid_model_config_proto\n",
      "[ RUN      ] ModelBuilderTF2Test.test_invalid_second_stage_batch_size\n",
      "INFO:tensorflow:time(__main__.ModelBuilderTF2Test.test_invalid_second_stage_batch_size): 0.0s\n",
      "I0522 17:41:35.459969 139266885648512 test_util.py:2620] time(__main__.ModelBuilderTF2Test.test_invalid_second_stage_batch_size): 0.0s\n",
      "[       OK ] ModelBuilderTF2Test.test_invalid_second_stage_batch_size\n",
      "[ RUN      ] ModelBuilderTF2Test.test_session\n",
      "[  SKIPPED ] ModelBuilderTF2Test.test_session\n",
      "[ RUN      ] ModelBuilderTF2Test.test_unknown_faster_rcnn_feature_extractor\n",
      "INFO:tensorflow:time(__main__.ModelBuilderTF2Test.test_unknown_faster_rcnn_feature_extractor): 0.0s\n",
      "I0522 17:41:35.460634 139266885648512 test_util.py:2620] time(__main__.ModelBuilderTF2Test.test_unknown_faster_rcnn_feature_extractor): 0.0s\n",
      "[       OK ] ModelBuilderTF2Test.test_unknown_faster_rcnn_feature_extractor\n",
      "[ RUN      ] ModelBuilderTF2Test.test_unknown_meta_architecture\n",
      "INFO:tensorflow:time(__main__.ModelBuilderTF2Test.test_unknown_meta_architecture): 0.0s\n",
      "I0522 17:41:35.460833 139266885648512 test_util.py:2620] time(__main__.ModelBuilderTF2Test.test_unknown_meta_architecture): 0.0s\n",
      "[       OK ] ModelBuilderTF2Test.test_unknown_meta_architecture\n",
      "[ RUN      ] ModelBuilderTF2Test.test_unknown_ssd_feature_extractor\n",
      "INFO:tensorflow:time(__main__.ModelBuilderTF2Test.test_unknown_ssd_feature_extractor): 0.0s\n",
      "I0522 17:41:35.461200 139266885648512 test_util.py:2620] time(__main__.ModelBuilderTF2Test.test_unknown_ssd_feature_extractor): 0.0s\n",
      "[       OK ] ModelBuilderTF2Test.test_unknown_ssd_feature_extractor\n",
      "======================================================================\n",
      "ERROR: test_create_center_net_deepmac (__main__.ModelBuilderTF2Test)\n",
      "ModelBuilderTF2Test.test_create_center_net_deepmac\n",
      "Test building a CenterNet DeepMAC model.\n",
      "----------------------------------------------------------------------\n",
      "Traceback (most recent call last):\n",
      "  File \"/home/toofan/Desktop/New Folder/Tensorflow-Object-Detection/tfod/lib/python3.11/site-packages/object_detection/models/keras_models/hourglass_network.py\", line 48, in batchnorm\n",
      "    return tf.keras.layers.experimental.SyncBatchNormalization(\n",
      "           ^^^^^^^^^^^^^^^^^^^^^^^^^^^^\n",
      "AttributeError: module 'keras._tf_keras.keras.layers' has no attribute 'experimental'\n",
      "\n",
      "During handling of the above exception, another exception occurred:\n",
      "\n",
      "Traceback (most recent call last):\n",
      "  File \"/home/toofan/Desktop/New Folder/Tensorflow-Object-Detection/Tensorflow/models/research/object_detection/builders/model_builder_tf2_test.py\", line 578, in test_create_center_net_deepmac\n",
      "    model = model_builder.build(config, is_training=True)\n",
      "            ^^^^^^^^^^^^^^^^^^^^^^^^^^^^^^^^^^^^^^^^^^^^^\n",
      "  File \"/home/toofan/Desktop/New Folder/Tensorflow-Object-Detection/tfod/lib/python3.11/site-packages/object_detection/builders/model_builder.py\", line 1262, in build\n",
      "    return build_func(getattr(model_config, meta_architecture), is_training,\n",
      "           ^^^^^^^^^^^^^^^^^^^^^^^^^^^^^^^^^^^^^^^^^^^^^^^^^^^^^^^^^^^^^^^^^\n",
      "  File \"/home/toofan/Desktop/New Folder/Tensorflow-Object-Detection/tfod/lib/python3.11/site-packages/object_detection/builders/model_builder.py\", line 1101, in _build_center_net_model\n",
      "    feature_extractor = _build_center_net_feature_extractor(\n",
      "                        ^^^^^^^^^^^^^^^^^^^^^^^^^^^^^^^^^^^^\n",
      "  File \"/home/toofan/Desktop/New Folder/Tensorflow-Object-Detection/tfod/lib/python3.11/site-packages/object_detection/builders/model_builder.py\", line 1227, in _build_center_net_feature_extractor\n",
      "    return CENTER_NET_EXTRACTOR_FUNCTION_MAP[feature_extractor_config.type](\n",
      "           ^^^^^^^^^^^^^^^^^^^^^^^^^^^^^^^^^^^^^^^^^^^^^^^^^^^^^^^^^^^^^^^^^\n",
      "  File \"/home/toofan/Desktop/New Folder/Tensorflow-Object-Detection/tfod/lib/python3.11/site-packages/object_detection/models/center_net_hourglass_feature_extractor.py\", line 100, in hourglass_52\n",
      "    network = hourglass_network.hourglass_52(num_channels=64)\n",
      "              ^^^^^^^^^^^^^^^^^^^^^^^^^^^^^^^^^^^^^^^^^^^^^^^\n",
      "  File \"/home/toofan/Desktop/New Folder/Tensorflow-Object-Detection/tfod/lib/python3.11/site-packages/object_detection/models/keras_models/hourglass_network.py\", line 591, in hourglass_52\n",
      "    return single_stage_hourglass(\n",
      "           ^^^^^^^^^^^^^^^^^^^^^^^\n",
      "  File \"/home/toofan/Desktop/New Folder/Tensorflow-Object-Detection/tfod/lib/python3.11/site-packages/object_detection/models/keras_models/hourglass_network.py\", line 550, in single_stage_hourglass\n",
      "    return HourglassNetwork(\n",
      "           ^^^^^^^^^^^^^^^^^\n",
      "  File \"/home/toofan/Desktop/New Folder/Tensorflow-Object-Detection/tfod/lib/python3.11/site-packages/object_detection/models/keras_models/hourglass_network.py\", line 385, in __init__\n",
      "    self.downsample_input = InputDownsampleBlock(\n",
      "                            ^^^^^^^^^^^^^^^^^^^^^\n",
      "  File \"/home/toofan/Desktop/New Folder/Tensorflow-Object-Detection/tfod/lib/python3.11/site-packages/object_detection/models/keras_models/hourglass_network.py\", line 167, in __init__\n",
      "    self.conv_block = ConvolutionalBlock(\n",
      "                      ^^^^^^^^^^^^^^^^^^^\n",
      "  File \"/home/toofan/Desktop/New Folder/Tensorflow-Object-Detection/tfod/lib/python3.11/site-packages/object_detection/models/keras_models/hourglass_network.py\", line 85, in __init__\n",
      "    self.norm = batchnorm()\n",
      "                ^^^^^^^^^^^\n",
      "  File \"/home/toofan/Desktop/New Folder/Tensorflow-Object-Detection/tfod/lib/python3.11/site-packages/object_detection/models/keras_models/hourglass_network.py\", line 51, in batchnorm\n",
      "    return tf.keras.layers.BatchNormalization(\n",
      "           ^^^^^^^^^^^^^^^^^^^^^^^^^^^^^^^^^^^\n",
      "  File \"/home/toofan/Desktop/New Folder/Tensorflow-Object-Detection/tfod/lib/python3.11/site-packages/keras/src/layers/normalization/batch_normalization.py\", line 143, in __init__\n",
      "    super().__init__(**kwargs)\n",
      "  File \"/home/toofan/Desktop/New Folder/Tensorflow-Object-Detection/tfod/lib/python3.11/site-packages/keras/src/layers/layer.py\", line 264, in __init__\n",
      "    raise ValueError(\n",
      "ValueError: Unrecognized keyword arguments passed to BatchNormalization: {'fused': True}\n",
      "\n",
      "======================================================================\n",
      "ERROR: test_create_center_net_model0 (customize_head_params=True) (__main__.ModelBuilderTF2Test)\n",
      "ModelBuilderTF2Test.test_create_center_net_model0 (customize_head_params=True)\n",
      "test_create_center_net_model(customize_head_params=True)\n",
      "----------------------------------------------------------------------\n",
      "Traceback (most recent call last):\n",
      "  File \"/home/toofan/Desktop/New Folder/Tensorflow-Object-Detection/tfod/lib/python3.11/site-packages/object_detection/models/keras_models/hourglass_network.py\", line 48, in batchnorm\n",
      "    return tf.keras.layers.experimental.SyncBatchNormalization(\n",
      "           ^^^^^^^^^^^^^^^^^^^^^^^^^^^^\n",
      "AttributeError: module 'keras._tf_keras.keras.layers' has no attribute 'experimental'\n",
      "\n",
      "During handling of the above exception, another exception occurred:\n",
      "\n",
      "Traceback (most recent call last):\n",
      "  File \"/home/toofan/Desktop/New Folder/Tensorflow-Object-Detection/tfod/lib/python3.11/site-packages/absl/testing/parameterized.py\", line 318, in bound_param_test\n",
      "    return test_method(self, **testcase_params)\n",
      "           ^^^^^^^^^^^^^^^^^^^^^^^^^^^^^^^^^^^^\n",
      "  File \"/home/toofan/Desktop/New Folder/Tensorflow-Object-Detection/Tensorflow/models/research/object_detection/builders/model_builder_tf2_test.py\", line 306, in test_create_center_net_model\n",
      "    model = model_builder.build(config, is_training=True)\n",
      "            ^^^^^^^^^^^^^^^^^^^^^^^^^^^^^^^^^^^^^^^^^^^^^\n",
      "  File \"/home/toofan/Desktop/New Folder/Tensorflow-Object-Detection/tfod/lib/python3.11/site-packages/object_detection/builders/model_builder.py\", line 1262, in build\n",
      "    return build_func(getattr(model_config, meta_architecture), is_training,\n",
      "           ^^^^^^^^^^^^^^^^^^^^^^^^^^^^^^^^^^^^^^^^^^^^^^^^^^^^^^^^^^^^^^^^^\n",
      "  File \"/home/toofan/Desktop/New Folder/Tensorflow-Object-Detection/tfod/lib/python3.11/site-packages/object_detection/builders/model_builder.py\", line 1101, in _build_center_net_model\n",
      "    feature_extractor = _build_center_net_feature_extractor(\n",
      "                        ^^^^^^^^^^^^^^^^^^^^^^^^^^^^^^^^^^^^\n",
      "  File \"/home/toofan/Desktop/New Folder/Tensorflow-Object-Detection/tfod/lib/python3.11/site-packages/object_detection/builders/model_builder.py\", line 1227, in _build_center_net_feature_extractor\n",
      "    return CENTER_NET_EXTRACTOR_FUNCTION_MAP[feature_extractor_config.type](\n",
      "           ^^^^^^^^^^^^^^^^^^^^^^^^^^^^^^^^^^^^^^^^^^^^^^^^^^^^^^^^^^^^^^^^^\n",
      "  File \"/home/toofan/Desktop/New Folder/Tensorflow-Object-Detection/tfod/lib/python3.11/site-packages/object_detection/models/center_net_hourglass_feature_extractor.py\", line 100, in hourglass_52\n",
      "    network = hourglass_network.hourglass_52(num_channels=64)\n",
      "              ^^^^^^^^^^^^^^^^^^^^^^^^^^^^^^^^^^^^^^^^^^^^^^^\n",
      "  File \"/home/toofan/Desktop/New Folder/Tensorflow-Object-Detection/tfod/lib/python3.11/site-packages/object_detection/models/keras_models/hourglass_network.py\", line 591, in hourglass_52\n",
      "    return single_stage_hourglass(\n",
      "           ^^^^^^^^^^^^^^^^^^^^^^^\n",
      "  File \"/home/toofan/Desktop/New Folder/Tensorflow-Object-Detection/tfod/lib/python3.11/site-packages/object_detection/models/keras_models/hourglass_network.py\", line 550, in single_stage_hourglass\n",
      "    return HourglassNetwork(\n",
      "           ^^^^^^^^^^^^^^^^^\n",
      "  File \"/home/toofan/Desktop/New Folder/Tensorflow-Object-Detection/tfod/lib/python3.11/site-packages/object_detection/models/keras_models/hourglass_network.py\", line 385, in __init__\n",
      "    self.downsample_input = InputDownsampleBlock(\n",
      "                            ^^^^^^^^^^^^^^^^^^^^^\n",
      "  File \"/home/toofan/Desktop/New Folder/Tensorflow-Object-Detection/tfod/lib/python3.11/site-packages/object_detection/models/keras_models/hourglass_network.py\", line 167, in __init__\n",
      "    self.conv_block = ConvolutionalBlock(\n",
      "                      ^^^^^^^^^^^^^^^^^^^\n",
      "  File \"/home/toofan/Desktop/New Folder/Tensorflow-Object-Detection/tfod/lib/python3.11/site-packages/object_detection/models/keras_models/hourglass_network.py\", line 85, in __init__\n",
      "    self.norm = batchnorm()\n",
      "                ^^^^^^^^^^^\n",
      "  File \"/home/toofan/Desktop/New Folder/Tensorflow-Object-Detection/tfod/lib/python3.11/site-packages/object_detection/models/keras_models/hourglass_network.py\", line 51, in batchnorm\n",
      "    return tf.keras.layers.BatchNormalization(\n",
      "           ^^^^^^^^^^^^^^^^^^^^^^^^^^^^^^^^^^^\n",
      "  File \"/home/toofan/Desktop/New Folder/Tensorflow-Object-Detection/tfod/lib/python3.11/site-packages/keras/src/layers/normalization/batch_normalization.py\", line 143, in __init__\n",
      "    super().__init__(**kwargs)\n",
      "  File \"/home/toofan/Desktop/New Folder/Tensorflow-Object-Detection/tfod/lib/python3.11/site-packages/keras/src/layers/layer.py\", line 264, in __init__\n",
      "    raise ValueError(\n",
      "ValueError: Unrecognized keyword arguments passed to BatchNormalization: {'fused': True}\n",
      "\n",
      "======================================================================\n",
      "ERROR: test_create_center_net_model1 (customize_head_params=False) (__main__.ModelBuilderTF2Test)\n",
      "ModelBuilderTF2Test.test_create_center_net_model1 (customize_head_params=False)\n",
      "test_create_center_net_model(customize_head_params=False)\n",
      "----------------------------------------------------------------------\n",
      "Traceback (most recent call last):\n",
      "  File \"/home/toofan/Desktop/New Folder/Tensorflow-Object-Detection/tfod/lib/python3.11/site-packages/object_detection/models/keras_models/hourglass_network.py\", line 48, in batchnorm\n",
      "    return tf.keras.layers.experimental.SyncBatchNormalization(\n",
      "           ^^^^^^^^^^^^^^^^^^^^^^^^^^^^\n",
      "AttributeError: module 'keras._tf_keras.keras.layers' has no attribute 'experimental'\n",
      "\n",
      "During handling of the above exception, another exception occurred:\n",
      "\n",
      "Traceback (most recent call last):\n",
      "  File \"/home/toofan/Desktop/New Folder/Tensorflow-Object-Detection/tfod/lib/python3.11/site-packages/absl/testing/parameterized.py\", line 318, in bound_param_test\n",
      "    return test_method(self, **testcase_params)\n",
      "           ^^^^^^^^^^^^^^^^^^^^^^^^^^^^^^^^^^^^\n",
      "  File \"/home/toofan/Desktop/New Folder/Tensorflow-Object-Detection/Tensorflow/models/research/object_detection/builders/model_builder_tf2_test.py\", line 306, in test_create_center_net_model\n",
      "    model = model_builder.build(config, is_training=True)\n",
      "            ^^^^^^^^^^^^^^^^^^^^^^^^^^^^^^^^^^^^^^^^^^^^^\n",
      "  File \"/home/toofan/Desktop/New Folder/Tensorflow-Object-Detection/tfod/lib/python3.11/site-packages/object_detection/builders/model_builder.py\", line 1262, in build\n",
      "    return build_func(getattr(model_config, meta_architecture), is_training,\n",
      "           ^^^^^^^^^^^^^^^^^^^^^^^^^^^^^^^^^^^^^^^^^^^^^^^^^^^^^^^^^^^^^^^^^\n",
      "  File \"/home/toofan/Desktop/New Folder/Tensorflow-Object-Detection/tfod/lib/python3.11/site-packages/object_detection/builders/model_builder.py\", line 1101, in _build_center_net_model\n",
      "    feature_extractor = _build_center_net_feature_extractor(\n",
      "                        ^^^^^^^^^^^^^^^^^^^^^^^^^^^^^^^^^^^^\n",
      "  File \"/home/toofan/Desktop/New Folder/Tensorflow-Object-Detection/tfod/lib/python3.11/site-packages/object_detection/builders/model_builder.py\", line 1227, in _build_center_net_feature_extractor\n",
      "    return CENTER_NET_EXTRACTOR_FUNCTION_MAP[feature_extractor_config.type](\n",
      "           ^^^^^^^^^^^^^^^^^^^^^^^^^^^^^^^^^^^^^^^^^^^^^^^^^^^^^^^^^^^^^^^^^\n",
      "  File \"/home/toofan/Desktop/New Folder/Tensorflow-Object-Detection/tfod/lib/python3.11/site-packages/object_detection/models/center_net_hourglass_feature_extractor.py\", line 100, in hourglass_52\n",
      "    network = hourglass_network.hourglass_52(num_channels=64)\n",
      "              ^^^^^^^^^^^^^^^^^^^^^^^^^^^^^^^^^^^^^^^^^^^^^^^\n",
      "  File \"/home/toofan/Desktop/New Folder/Tensorflow-Object-Detection/tfod/lib/python3.11/site-packages/object_detection/models/keras_models/hourglass_network.py\", line 591, in hourglass_52\n",
      "    return single_stage_hourglass(\n",
      "           ^^^^^^^^^^^^^^^^^^^^^^^\n",
      "  File \"/home/toofan/Desktop/New Folder/Tensorflow-Object-Detection/tfod/lib/python3.11/site-packages/object_detection/models/keras_models/hourglass_network.py\", line 550, in single_stage_hourglass\n",
      "    return HourglassNetwork(\n",
      "           ^^^^^^^^^^^^^^^^^\n",
      "  File \"/home/toofan/Desktop/New Folder/Tensorflow-Object-Detection/tfod/lib/python3.11/site-packages/object_detection/models/keras_models/hourglass_network.py\", line 385, in __init__\n",
      "    self.downsample_input = InputDownsampleBlock(\n",
      "                            ^^^^^^^^^^^^^^^^^^^^^\n",
      "  File \"/home/toofan/Desktop/New Folder/Tensorflow-Object-Detection/tfod/lib/python3.11/site-packages/object_detection/models/keras_models/hourglass_network.py\", line 167, in __init__\n",
      "    self.conv_block = ConvolutionalBlock(\n",
      "                      ^^^^^^^^^^^^^^^^^^^\n",
      "  File \"/home/toofan/Desktop/New Folder/Tensorflow-Object-Detection/tfod/lib/python3.11/site-packages/object_detection/models/keras_models/hourglass_network.py\", line 85, in __init__\n",
      "    self.norm = batchnorm()\n",
      "                ^^^^^^^^^^^\n",
      "  File \"/home/toofan/Desktop/New Folder/Tensorflow-Object-Detection/tfod/lib/python3.11/site-packages/object_detection/models/keras_models/hourglass_network.py\", line 51, in batchnorm\n",
      "    return tf.keras.layers.BatchNormalization(\n",
      "           ^^^^^^^^^^^^^^^^^^^^^^^^^^^^^^^^^^^\n",
      "  File \"/home/toofan/Desktop/New Folder/Tensorflow-Object-Detection/tfod/lib/python3.11/site-packages/keras/src/layers/normalization/batch_normalization.py\", line 143, in __init__\n",
      "    super().__init__(**kwargs)\n",
      "  File \"/home/toofan/Desktop/New Folder/Tensorflow-Object-Detection/tfod/lib/python3.11/site-packages/keras/src/layers/layer.py\", line 264, in __init__\n",
      "    raise ValueError(\n",
      "ValueError: Unrecognized keyword arguments passed to BatchNormalization: {'fused': True}\n",
      "\n",
      "======================================================================\n",
      "ERROR: test_create_center_net_model_from_keypoints (__main__.ModelBuilderTF2Test)\n",
      "ModelBuilderTF2Test.test_create_center_net_model_from_keypoints\n",
      "Test building a CenterNet model from proto txt.\n",
      "----------------------------------------------------------------------\n",
      "Traceback (most recent call last):\n",
      "  File \"/home/toofan/Desktop/New Folder/Tensorflow-Object-Detection/tfod/lib/python3.11/site-packages/object_detection/models/keras_models/hourglass_network.py\", line 48, in batchnorm\n",
      "    return tf.keras.layers.experimental.SyncBatchNormalization(\n",
      "           ^^^^^^^^^^^^^^^^^^^^^^^^^^^^\n",
      "AttributeError: module 'keras._tf_keras.keras.layers' has no attribute 'experimental'\n",
      "\n",
      "During handling of the above exception, another exception occurred:\n",
      "\n",
      "Traceback (most recent call last):\n",
      "  File \"/home/toofan/Desktop/New Folder/Tensorflow-Object-Detection/Tensorflow/models/research/object_detection/builders/model_builder_tf2_test.py\", line 457, in test_create_center_net_model_from_keypoints\n",
      "    model = model_builder.build(config, is_training=True)\n",
      "            ^^^^^^^^^^^^^^^^^^^^^^^^^^^^^^^^^^^^^^^^^^^^^\n",
      "  File \"/home/toofan/Desktop/New Folder/Tensorflow-Object-Detection/tfod/lib/python3.11/site-packages/object_detection/builders/model_builder.py\", line 1262, in build\n",
      "    return build_func(getattr(model_config, meta_architecture), is_training,\n",
      "           ^^^^^^^^^^^^^^^^^^^^^^^^^^^^^^^^^^^^^^^^^^^^^^^^^^^^^^^^^^^^^^^^^\n",
      "  File \"/home/toofan/Desktop/New Folder/Tensorflow-Object-Detection/tfod/lib/python3.11/site-packages/object_detection/builders/model_builder.py\", line 1101, in _build_center_net_model\n",
      "    feature_extractor = _build_center_net_feature_extractor(\n",
      "                        ^^^^^^^^^^^^^^^^^^^^^^^^^^^^^^^^^^^^\n",
      "  File \"/home/toofan/Desktop/New Folder/Tensorflow-Object-Detection/tfod/lib/python3.11/site-packages/object_detection/builders/model_builder.py\", line 1227, in _build_center_net_feature_extractor\n",
      "    return CENTER_NET_EXTRACTOR_FUNCTION_MAP[feature_extractor_config.type](\n",
      "           ^^^^^^^^^^^^^^^^^^^^^^^^^^^^^^^^^^^^^^^^^^^^^^^^^^^^^^^^^^^^^^^^^\n",
      "  File \"/home/toofan/Desktop/New Folder/Tensorflow-Object-Detection/tfod/lib/python3.11/site-packages/object_detection/models/center_net_hourglass_feature_extractor.py\", line 100, in hourglass_52\n",
      "    network = hourglass_network.hourglass_52(num_channels=64)\n",
      "              ^^^^^^^^^^^^^^^^^^^^^^^^^^^^^^^^^^^^^^^^^^^^^^^\n",
      "  File \"/home/toofan/Desktop/New Folder/Tensorflow-Object-Detection/tfod/lib/python3.11/site-packages/object_detection/models/keras_models/hourglass_network.py\", line 591, in hourglass_52\n",
      "    return single_stage_hourglass(\n",
      "           ^^^^^^^^^^^^^^^^^^^^^^^\n",
      "  File \"/home/toofan/Desktop/New Folder/Tensorflow-Object-Detection/tfod/lib/python3.11/site-packages/object_detection/models/keras_models/hourglass_network.py\", line 550, in single_stage_hourglass\n",
      "    return HourglassNetwork(\n",
      "           ^^^^^^^^^^^^^^^^^\n",
      "  File \"/home/toofan/Desktop/New Folder/Tensorflow-Object-Detection/tfod/lib/python3.11/site-packages/object_detection/models/keras_models/hourglass_network.py\", line 385, in __init__\n",
      "    self.downsample_input = InputDownsampleBlock(\n",
      "                            ^^^^^^^^^^^^^^^^^^^^^\n",
      "  File \"/home/toofan/Desktop/New Folder/Tensorflow-Object-Detection/tfod/lib/python3.11/site-packages/object_detection/models/keras_models/hourglass_network.py\", line 167, in __init__\n",
      "    self.conv_block = ConvolutionalBlock(\n",
      "                      ^^^^^^^^^^^^^^^^^^^\n",
      "  File \"/home/toofan/Desktop/New Folder/Tensorflow-Object-Detection/tfod/lib/python3.11/site-packages/object_detection/models/keras_models/hourglass_network.py\", line 85, in __init__\n",
      "    self.norm = batchnorm()\n",
      "                ^^^^^^^^^^^\n",
      "  File \"/home/toofan/Desktop/New Folder/Tensorflow-Object-Detection/tfod/lib/python3.11/site-packages/object_detection/models/keras_models/hourglass_network.py\", line 51, in batchnorm\n",
      "    return tf.keras.layers.BatchNormalization(\n",
      "           ^^^^^^^^^^^^^^^^^^^^^^^^^^^^^^^^^^^\n",
      "  File \"/home/toofan/Desktop/New Folder/Tensorflow-Object-Detection/tfod/lib/python3.11/site-packages/keras/src/layers/normalization/batch_normalization.py\", line 143, in __init__\n",
      "    super().__init__(**kwargs)\n",
      "  File \"/home/toofan/Desktop/New Folder/Tensorflow-Object-Detection/tfod/lib/python3.11/site-packages/keras/src/layers/layer.py\", line 264, in __init__\n",
      "    raise ValueError(\n",
      "ValueError: Unrecognized keyword arguments passed to BatchNormalization: {'fused': True}\n",
      "\n",
      "======================================================================\n",
      "ERROR: test_create_center_net_model_mobilenet (__main__.ModelBuilderTF2Test)\n",
      "ModelBuilderTF2Test.test_create_center_net_model_mobilenet\n",
      "Test building a CenterNet model using bilinear interpolation.\n",
      "----------------------------------------------------------------------\n",
      "Traceback (most recent call last):\n",
      "  File \"/home/toofan/Desktop/New Folder/Tensorflow-Object-Detection/Tensorflow/models/research/object_detection/builders/model_builder_tf2_test.py\", line 502, in test_create_center_net_model_mobilenet\n",
      "    model = model_builder.build(config, is_training=True)\n",
      "            ^^^^^^^^^^^^^^^^^^^^^^^^^^^^^^^^^^^^^^^^^^^^^\n",
      "  File \"/home/toofan/Desktop/New Folder/Tensorflow-Object-Detection/tfod/lib/python3.11/site-packages/object_detection/builders/model_builder.py\", line 1262, in build\n",
      "    return build_func(getattr(model_config, meta_architecture), is_training,\n",
      "           ^^^^^^^^^^^^^^^^^^^^^^^^^^^^^^^^^^^^^^^^^^^^^^^^^^^^^^^^^^^^^^^^^\n",
      "  File \"/home/toofan/Desktop/New Folder/Tensorflow-Object-Detection/tfod/lib/python3.11/site-packages/object_detection/builders/model_builder.py\", line 1101, in _build_center_net_model\n",
      "    feature_extractor = _build_center_net_feature_extractor(\n",
      "                        ^^^^^^^^^^^^^^^^^^^^^^^^^^^^^^^^^^^^\n",
      "  File \"/home/toofan/Desktop/New Folder/Tensorflow-Object-Detection/tfod/lib/python3.11/site-packages/object_detection/builders/model_builder.py\", line 1227, in _build_center_net_feature_extractor\n",
      "    return CENTER_NET_EXTRACTOR_FUNCTION_MAP[feature_extractor_config.type](\n",
      "           ^^^^^^^^^^^^^^^^^^^^^^^^^^^^^^^^^^^^^^^^^^^^^^^^^^^^^^^^^^^^^^^^^\n",
      "  File \"/home/toofan/Desktop/New Folder/Tensorflow-Object-Detection/tfod/lib/python3.11/site-packages/object_detection/models/center_net_mobilenet_v2_fpn_feature_extractor.py\", line 152, in mobilenet_v2_fpn\n",
      "    network = mobilenetv2.mobilenet_v2(\n",
      "              ^^^^^^^^^^^^^^^^^^^^^^^^^\n",
      "  File \"/home/toofan/Desktop/New Folder/Tensorflow-Object-Detection/tfod/lib/python3.11/site-packages/object_detection/models/keras_models/mobilenet_v2.py\", line 331, in mobilenet_v2\n",
      "    return tf.keras.applications.MobileNetV2(alpha=alpha,\n",
      "           ^^^^^^^^^^^^^^^^^^^^^^^^^^^^^^^^^^^^^^^^^^^^^^\n",
      "TypeError: MobileNetV2() got an unexpected keyword argument 'layers'\n",
      "\n",
      "======================================================================\n",
      "ERROR: test_create_ssd_models_from_config (__main__.ModelBuilderTF2Test)\n",
      "ModelBuilderTF2Test.test_create_ssd_models_from_config\n",
      "----------------------------------------------------------------------\n",
      "Traceback (most recent call last):\n",
      "  File \"/home/toofan/Desktop/New Folder/Tensorflow-Object-Detection/tfod/lib/python3.11/site-packages/object_detection/builders/model_builder_test.py\", line 211, in test_create_ssd_models_from_config\n",
      "    model = model_builder.build(model_proto, is_training=True)\n",
      "            ^^^^^^^^^^^^^^^^^^^^^^^^^^^^^^^^^^^^^^^^^^^^^^^^^^\n",
      "  File \"/home/toofan/Desktop/New Folder/Tensorflow-Object-Detection/tfod/lib/python3.11/site-packages/object_detection/builders/model_builder.py\", line 1262, in build\n",
      "    return build_func(getattr(model_config, meta_architecture), is_training,\n",
      "           ^^^^^^^^^^^^^^^^^^^^^^^^^^^^^^^^^^^^^^^^^^^^^^^^^^^^^^^^^^^^^^^^^\n",
      "  File \"/home/toofan/Desktop/New Folder/Tensorflow-Object-Detection/tfod/lib/python3.11/site-packages/object_detection/builders/model_builder.py\", line 415, in _build_ssd_model\n",
      "    feature_extractor = _build_ssd_feature_extractor(\n",
      "                        ^^^^^^^^^^^^^^^^^^^^^^^^^^^^^\n",
      "  File \"/home/toofan/Desktop/New Folder/Tensorflow-Object-Detection/tfod/lib/python3.11/site-packages/object_detection/builders/model_builder.py\", line 393, in _build_ssd_feature_extractor\n",
      "    return feature_extractor_class(**kwargs)\n",
      "           ^^^^^^^^^^^^^^^^^^^^^^^^^^^^^^^^^\n",
      "  File \"/home/toofan/Desktop/New Folder/Tensorflow-Object-Detection/tfod/lib/python3.11/site-packages/object_detection/models/ssd_efficientnet_bifpn_feature_extractor.py\", line 322, in __init__\n",
      "    super(SSDEfficientNetB0BiFPNKerasFeatureExtractor, self).__init__(\n",
      "  File \"/home/toofan/Desktop/New Folder/Tensorflow-Object-Detection/tfod/lib/python3.11/site-packages/object_detection/models/ssd_efficientnet_bifpn_feature_extractor.py\", line 190, in __init__\n",
      "    self._efficientnet = tf.keras.Model(\n",
      "                         ^^^^^^^^^^^^^^^\n",
      "  File \"/home/toofan/Desktop/New Folder/Tensorflow-Object-Detection/tfod/lib/python3.11/site-packages/keras/src/models/model.py\", line 143, in __new__\n",
      "    return functional.Functional(*args, **kwargs)\n",
      "           ^^^^^^^^^^^^^^^^^^^^^^^^^^^^^^^^^^^^^^\n",
      "  File \"/home/toofan/Desktop/New Folder/Tensorflow-Object-Detection/tfod/lib/python3.11/site-packages/keras/src/utils/tracking.py\", line 26, in wrapper\n",
      "    return fn(*args, **kwargs)\n",
      "           ^^^^^^^^^^^^^^^^^^^\n",
      "  File \"/home/toofan/Desktop/New Folder/Tensorflow-Object-Detection/tfod/lib/python3.11/site-packages/keras/src/models/functional.py\", line 122, in __init__\n",
      "    raise ValueError(\n",
      "ValueError: When providing `inputs` as a list/tuple, all values in the list/tuple must be KerasTensors. Received: inputs=[<KerasTensor: shape=(None, None, None, 3) dtype=float32 (created by layer 'input_1')>] including invalid value KerasTensor(type_spec=TensorSpec(shape=(None, None, None, 3), dtype=tf.float32, name='input_1'), name='input_1', description=\"created by layer 'input_1'\") of type <class 'tf_keras.src.engine.keras_tensor.KerasTensor'>\n",
      "\n",
      "----------------------------------------------------------------------\n",
      "Ran 24 tests in 1.722s\n",
      "\n",
      "FAILED (errors=6, skipped=1)\n"
     ]
    }
   ],
   "source": [
    "VERIFICATION_SCRIPT = os.path.join(paths['APIMODEL_PATH'], 'research', 'object_detection', 'builders', 'model_builder_tf2_test.py')\n",
    "# Verify Installation\n",
    "!python {VERIFICATION_SCRIPT}"
   ]
  },
  {
   "cell_type": "code",
   "execution_count": 19,
   "metadata": {
    "scrolled": true
   },
   "outputs": [
    {
     "name": "stdout",
     "output_type": "stream",
     "text": [
      "Package                       Version\n",
      "----------------------------- -----------\n",
      "absl-py                       1.4.0\n",
      "apache-beam                   2.56.0\n",
      "array_record                  0.5.1\n",
      "asttokens                     2.4.1\n",
      "astunparse                    1.6.3\n",
      "attrs                         23.2.0\n",
      "avro-python3                  1.10.2\n",
      "bleach                        6.1.0\n",
      "cachetools                    5.3.3\n",
      "certifi                       2024.2.2\n",
      "charset-normalizer            3.3.2\n",
      "click                         8.1.7\n",
      "cloudpickle                   2.2.1\n",
      "colorama                      0.4.6\n",
      "comm                          0.2.2\n",
      "contextlib2                   21.6.0\n",
      "contourpy                     1.2.1\n",
      "crcmod                        1.7\n",
      "cycler                        0.12.1\n",
      "Cython                        3.0.10\n",
      "debugpy                       1.8.1\n",
      "decorator                     5.1.1\n",
      "dill                          0.3.1.1\n",
      "dm-tree                       0.1.8\n",
      "dnspython                     2.6.1\n",
      "docopt                        0.6.2\n",
      "etils                         1.8.0\n",
      "executing                     2.0.1\n",
      "fastavro                      1.9.4\n",
      "fasteners                     0.19\n",
      "flatbuffers                   24.3.25\n",
      "fonttools                     4.51.0\n",
      "fsspec                        2024.5.0\n",
      "gast                          0.5.4\n",
      "gin-config                    0.5.0\n",
      "google-api-core               2.19.0\n",
      "google-api-python-client      2.129.0\n",
      "google-auth                   2.29.0\n",
      "google-auth-httplib2          0.2.0\n",
      "google-pasta                  0.2.0\n",
      "googleapis-common-protos      1.63.0\n",
      "grpcio                        1.64.0\n",
      "h5py                          3.11.0\n",
      "hdfs                          2.7.3\n",
      "httplib2                      0.22.0\n",
      "idna                          3.7\n",
      "immutabledict                 4.2.0\n",
      "importlib_resources           6.4.0\n",
      "ipykernel                     6.29.4\n",
      "ipython                       8.24.0\n",
      "jedi                          0.19.1\n",
      "joblib                        1.4.2\n",
      "Js2Py                         0.74\n",
      "jsonpickle                    3.0.4\n",
      "jsonschema                    4.22.0\n",
      "jsonschema-specifications     2023.12.1\n",
      "jupyter_client                8.6.1\n",
      "jupyter_core                  5.7.2\n",
      "kaggle                        1.6.14\n",
      "keras                         3.3.3\n",
      "kiwisolver                    1.4.5\n",
      "libclang                      18.1.1\n",
      "lvis                          0.5.3\n",
      "lxml                          5.2.2\n",
      "Markdown                      3.6\n",
      "markdown-it-py                3.0.0\n",
      "MarkupSafe                    2.1.5\n",
      "matplotlib                    3.9.0\n",
      "matplotlib-inline             0.1.7\n",
      "mdurl                         0.1.2\n",
      "ml-dtypes                     0.3.2\n",
      "namex                         0.0.8\n",
      "nest-asyncio                  1.6.0\n",
      "numpy                         1.26.4\n",
      "nvidia-cublas-cu12            12.3.4.1\n",
      "nvidia-cuda-cupti-cu12        12.3.101\n",
      "nvidia-cuda-nvcc-cu12         12.3.107\n",
      "nvidia-cuda-nvrtc-cu12        12.3.107\n",
      "nvidia-cuda-runtime-cu12      12.3.101\n",
      "nvidia-cudnn-cu12             8.9.7.29\n",
      "nvidia-cufft-cu12             11.0.12.1\n",
      "nvidia-curand-cu12            10.3.4.107\n",
      "nvidia-cusolver-cu12          11.5.4.101\n",
      "nvidia-cusparse-cu12          12.2.0.103\n",
      "nvidia-nccl-cu12              2.19.3\n",
      "nvidia-nvjitlink-cu12         12.3.101\n",
      "oauth2client                  4.1.3\n",
      "object-detection              0.1\n",
      "objsize                       0.7.0\n",
      "opencv-python                 4.9.0.80\n",
      "opencv-python-headless        4.9.0.80\n",
      "opt-einsum                    3.3.0\n",
      "optree                        0.11.0\n",
      "orjson                        3.10.3\n",
      "packaging                     24.0\n",
      "pandas                        2.2.2\n",
      "parso                         0.8.4\n",
      "pexpect                       4.9.0\n",
      "pillow                        10.3.0\n",
      "pip                           24.0\n",
      "platformdirs                  4.2.2\n",
      "portalocker                   2.8.2\n",
      "promise                       2.3\n",
      "prompt-toolkit                3.0.43\n",
      "proto-plus                    1.23.0\n",
      "protobuf                      4.25.3\n",
      "psutil                        5.9.8\n",
      "ptyprocess                    0.7.0\n",
      "pure-eval                     0.2.2\n",
      "py-cpuinfo                    9.0.0\n",
      "pyarrow                       14.0.2\n",
      "pyarrow-hotfix                0.6\n",
      "pyasn1                        0.6.0\n",
      "pyasn1_modules                0.4.0\n",
      "pycocotools                   2.0.7\n",
      "pydot                         1.4.2\n",
      "Pygments                      2.18.0\n",
      "pyjsparser                    2.7.1\n",
      "pymongo                       4.7.2\n",
      "pyparsing                     2.4.7\n",
      "python-dateutil               2.9.0.post0\n",
      "python-slugify                8.0.4\n",
      "pytz                          2024.1\n",
      "PyYAML                        6.0.1\n",
      "pyzmq                         26.0.3\n",
      "redis                         5.0.4\n",
      "referencing                   0.35.1\n",
      "regex                         2024.5.15\n",
      "requests                      2.32.2\n",
      "rich                          13.7.1\n",
      "rpds-py                       0.18.1\n",
      "rsa                           4.9\n",
      "sacrebleu                     2.2.0\n",
      "scikit-learn                  1.5.0\n",
      "scipy                         1.13.0\n",
      "sentencepiece                 0.2.0\n",
      "seqeval                       1.2.2\n",
      "setuptools                    65.5.0\n",
      "six                           1.16.0\n",
      "stack-data                    0.6.3\n",
      "tabulate                      0.9.0\n",
      "tensorboard                   2.16.2\n",
      "tensorboard-data-server       0.7.2\n",
      "tensorflow                    2.16.1\n",
      "tensorflow-datasets           4.9.4\n",
      "tensorflow-hub                0.16.1\n",
      "tensorflow-io                 0.37.0\n",
      "tensorflow-io-gcs-filesystem  0.37.0\n",
      "tensorflow-metadata           1.15.0\n",
      "tensorflow-model-optimization 0.8.0\n",
      "tensorflow-text               2.16.1\n",
      "termcolor                     2.4.0\n",
      "text-unidecode                1.3\n",
      "tf_keras                      2.16.0\n",
      "tf-models-official            2.16.0\n",
      "tf-slim                       1.1.0\n",
      "threadpoolctl                 3.5.0\n",
      "toml                          0.10.2\n",
      "tornado                       6.4\n",
      "tqdm                          4.66.4\n",
      "traitlets                     5.14.3\n",
      "typing_extensions             4.11.0\n",
      "tzdata                        2024.1\n",
      "tzlocal                       5.2\n",
      "uritemplate                   4.1.1\n",
      "urllib3                       2.2.1\n",
      "wcwidth                       0.2.13\n",
      "webencodings                  0.5.1\n",
      "Werkzeug                      3.0.3\n",
      "wheel                         0.43.0\n",
      "wrapt                         1.16.0\n",
      "zipp                          3.18.2\n",
      "zstandard                     0.22.0\n"
     ]
    }
   ],
   "source": [
    "!pip list"
   ]
  },
  {
   "cell_type": "code",
   "execution_count": 25,
   "metadata": {
    "colab": {
     "base_uri": "https://localhost:8080/"
    },
    "id": "csofht2npfDE",
    "outputId": "ff5471b2-bed2-43f2-959c-327a706527b6"
   },
   "outputs": [
    {
     "name": "stdout",
     "output_type": "stream",
     "text": [
      "--2024-05-22 17:41:57--  http://download.tensorflow.org/models/object_detection/tf2/20200711/ssd_mobilenet_v2_fpnlite_320x320_coco17_tpu-8.tar.gz\n",
      "Resolving download.tensorflow.org (download.tensorflow.org)... 142.250.200.155, 142.250.184.187, 216.58.215.155, ...\n",
      "Connecting to download.tensorflow.org (download.tensorflow.org)|142.250.200.155|:80... connected.\n",
      "HTTP request sent, awaiting response... 200 OK\n",
      "Length: 20515344 (20M) [application/x-tar]\n",
      "Saving to: ‘ssd_mobilenet_v2_fpnlite_320x320_coco17_tpu-8.tar.gz’\n",
      "\n",
      "ssd_mobilenet_v2_fp 100%[===================>]  19.56M   415KB/s    in 54s     \n",
      "\n",
      "2024-05-22 17:42:51 (372 KB/s) - ‘ssd_mobilenet_v2_fpnlite_320x320_coco17_tpu-8.tar.gz’ saved [20515344/20515344]\n",
      "\n",
      "ssd_mobilenet_v2_fpnlite_320x320_coco17_tpu-8/\n",
      "ssd_mobilenet_v2_fpnlite_320x320_coco17_tpu-8/checkpoint/\n",
      "ssd_mobilenet_v2_fpnlite_320x320_coco17_tpu-8/checkpoint/ckpt-0.data-00000-of-00001\n",
      "ssd_mobilenet_v2_fpnlite_320x320_coco17_tpu-8/checkpoint/checkpoint\n",
      "ssd_mobilenet_v2_fpnlite_320x320_coco17_tpu-8/checkpoint/ckpt-0.index\n",
      "ssd_mobilenet_v2_fpnlite_320x320_coco17_tpu-8/pipeline.config\n",
      "ssd_mobilenet_v2_fpnlite_320x320_coco17_tpu-8/saved_model/\n",
      "ssd_mobilenet_v2_fpnlite_320x320_coco17_tpu-8/saved_model/saved_model.pb\n",
      "ssd_mobilenet_v2_fpnlite_320x320_coco17_tpu-8/saved_model/variables/\n",
      "ssd_mobilenet_v2_fpnlite_320x320_coco17_tpu-8/saved_model/variables/variables.data-00000-of-00001\n",
      "ssd_mobilenet_v2_fpnlite_320x320_coco17_tpu-8/saved_model/variables/variables.index\n"
     ]
    }
   ],
   "source": [
    "if os.name =='posix':\n",
    "    !wget {PRETRAINED_MODEL_URL}\n",
    "    !mv {PRETRAINED_MODEL_NAME+'.tar.gz'} {paths['PRETRAINED_MODEL_PATH']}\n",
    "    !cd {paths['PRETRAINED_MODEL_PATH']} && tar -zxvf {PRETRAINED_MODEL_NAME+'.tar.gz'}\n",
    "if os.name == 'nt':\n",
    "    wget.download(PRETRAINED_MODEL_URL)\n",
    "    !move {PRETRAINED_MODEL_NAME+'.tar.gz'} {paths['PRETRAINED_MODEL_PATH']}\n",
    "    !cd {paths['PRETRAINED_MODEL_PATH']} && tar -zxvf {PRETRAINED_MODEL_NAME+'.tar.gz'}"
   ]
  },
  {
   "cell_type": "markdown",
   "metadata": {
    "id": "M5KJTnkfpfDC"
   },
   "source": [
    "# 2. Create Label Map"
   ]
  },
  {
   "cell_type": "code",
   "execution_count": 26,
   "metadata": {
    "id": "p1BVDWo7pfDC"
   },
   "outputs": [],
   "source": [
    "labels = [{'name':'ThumbsUp', 'id':1}, {'name':'ThumbsDown', 'id':2}, {'name':'ThankYou', 'id':3}, {'name':'LiveLong', 'id':4}]\n",
    "\n",
    "with open(files['LABELMAP'], 'w') as f:\n",
    "    for label in labels:\n",
    "        f.write('item { \\n')\n",
    "        f.write('\\tname:\\'{}\\'\\n'.format(label['name']))\n",
    "        f.write('\\tid:{}\\n'.format(label['id']))\n",
    "        f.write('}\\n')"
   ]
  },
  {
   "cell_type": "markdown",
   "metadata": {
    "id": "C88zyVELpfDC"
   },
   "source": [
    "# 3. Create TF records"
   ]
  },
  {
   "cell_type": "code",
   "execution_count": 27,
   "metadata": {
    "colab": {
     "base_uri": "https://localhost:8080/"
    },
    "id": "kvf5WccwrFGq",
    "outputId": "49902aeb-0bd7-4298-e1a0-5b4a64eb2064"
   },
   "outputs": [
    {
     "name": "stdout",
     "output_type": "stream",
     "text": [
      "Tensorflow/workspace/images/train/\n",
      "Tensorflow/workspace/images/train/thankyou.94d4d152-1698-11ef-9504-dc46286ccfd2.xml\n",
      "Tensorflow/workspace/images/train/thankyou.8b4f86ae-1698-11ef-9504-dc46286ccfd2.xml\n",
      "Tensorflow/workspace/images/train/livelong.50e651c6-169a-11ef-9504-dc46286ccfd2.xml\n",
      "Tensorflow/workspace/images/train/livelong.9bfd0e90-1698-11ef-9504-dc46286ccfd2.xml\n",
      "Tensorflow/workspace/images/train/thumbsup.75d9e1de-1698-11ef-9504-dc46286ccfd2.jpg\n",
      "Tensorflow/workspace/images/train/thumbsup.3b72bf96-169a-11ef-9504-dc46286ccfd2.xml\n",
      "Tensorflow/workspace/images/train/thumbsup.3b72bf96-169a-11ef-9504-dc46286ccfd2.jpg\n",
      "Tensorflow/workspace/images/train/thankyou.8db25386-1698-11ef-9504-dc46286ccfd2.jpg\n",
      "Tensorflow/workspace/images/train/livelong.9e5ff274-1698-11ef-9504-dc46286ccfd2.xml\n",
      "Tensorflow/workspace/images/train/thumbsup.7d0075e0-1698-11ef-9504-dc46286ccfd2.jpg\n",
      "Tensorflow/workspace/images/train/thankyou.94d4d152-1698-11ef-9504-dc46286ccfd2.jpg\n",
      "Tensorflow/workspace/images/train/thumbsdown.81c50cb2-1698-11ef-9504-dc46286ccfd2.jpg\n",
      "Tensorflow/workspace/images/train/thankyou.44f89428-169a-11ef-9504-dc46286ccfd2.xml\n",
      "Tensorflow/workspace/images/train/thumbsdown.7f6310a4-1698-11ef-9504-dc46286ccfd2.xml\n",
      "Tensorflow/workspace/images/train/thankyou.44f89428-169a-11ef-9504-dc46286ccfd2.jpg\n",
      "Tensorflow/workspace/images/train/thumbsdown.8427a9e2-1698-11ef-9504-dc46286ccfd2.xml\n",
      "Tensorflow/workspace/images/train/thumbsup.7d0075e0-1698-11ef-9504-dc46286ccfd2.xml\n",
      "Tensorflow/workspace/images/train/thankyou.8b4f86ae-1698-11ef-9504-dc46286ccfd2.jpg\n",
      "Tensorflow/workspace/images/train/livelong.50e651c6-169a-11ef-9504-dc46286ccfd2.jpg\n",
      "Tensorflow/workspace/images/train/thumbsup.36acb5d4-169a-11ef-9504-dc46286ccfd2.xml\n",
      "Tensorflow/workspace/images/train/thumbsup.390fb646-169a-11ef-9504-dc46286ccfd2.jpg\n",
      "Tensorflow/workspace/images/train/thumbsup.390fb646-169a-11ef-9504-dc46286ccfd2.xml\n",
      "Tensorflow/workspace/images/train/thankyou.475b8554-169a-11ef-9504-dc46286ccfd2.jpg\n",
      "Tensorflow/workspace/images/train/livelong.4e83e93e-169a-11ef-9504-dc46286ccfd2.jpg\n",
      "Tensorflow/workspace/images/train/thumbsup.75d9e1de-1698-11ef-9504-dc46286ccfd2.xml\n",
      "Tensorflow/workspace/images/train/thumbsdown.88ec9c62-1698-11ef-9504-dc46286ccfd2.jpg\n",
      "Tensorflow/workspace/images/train/thankyou.49bdebfc-169a-11ef-9504-dc46286ccfd2.xml\n",
      "Tensorflow/workspace/images/train/livelong.999afa72-1698-11ef-9504-dc46286ccfd2.jpg\n",
      "Tensorflow/workspace/images/train/thumbsdown.81c50cb2-1698-11ef-9504-dc46286ccfd2.xml\n",
      "Tensorflow/workspace/images/train/thankyou.475b8554-169a-11ef-9504-dc46286ccfd2.xml\n",
      "Tensorflow/workspace/images/train/thumbsdown.8427a9e2-1698-11ef-9504-dc46286ccfd2.jpg\n",
      "Tensorflow/workspace/images/train/livelong.4e83e93e-169a-11ef-9504-dc46286ccfd2.xml\n",
      "Tensorflow/workspace/images/train/thumbsdown.3dd51608-169a-11ef-9504-dc46286ccfd2.jpg\n",
      "Tensorflow/workspace/images/train/thankyou.8db25386-1698-11ef-9504-dc46286ccfd2.xml\n",
      "Tensorflow/workspace/images/train/thumbsup.7a9deda0-1698-11ef-9504-dc46286ccfd2.xml\n",
      "Tensorflow/workspace/images/train/thumbsup.7a9deda0-1698-11ef-9504-dc46286ccfd2.jpg\n",
      "Tensorflow/workspace/images/train/thumbsdown.3dd51608-169a-11ef-9504-dc46286ccfd2.xml\n",
      "Tensorflow/workspace/images/train/thumbsup.36acb5d4-169a-11ef-9504-dc46286ccfd2.jpg\n",
      "Tensorflow/workspace/images/train/thankyou.49bdebfc-169a-11ef-9504-dc46286ccfd2.jpg\n",
      "Tensorflow/workspace/images/train/livelong.9bfd0e90-1698-11ef-9504-dc46286ccfd2.jpg\n",
      "Tensorflow/workspace/images/train/thumbsdown.88ec9c62-1698-11ef-9504-dc46286ccfd2.xml\n",
      "Tensorflow/workspace/images/train/thumbsdown.7f6310a4-1698-11ef-9504-dc46286ccfd2.jpg\n",
      "Tensorflow/workspace/images/train/livelong.9e5ff274-1698-11ef-9504-dc46286ccfd2.jpg\n",
      "Tensorflow/workspace/images/train/livelong.999afa72-1698-11ef-9504-dc46286ccfd2.xml\n",
      "Tensorflow/workspace/images/test/\n",
      "Tensorflow/workspace/images/test/thumbsdown.403365a8-169a-11ef-9504-dc46286ccfd2.jpg\n",
      "Tensorflow/workspace/images/test/thankyou.901467a4-1698-11ef-9504-dc46286ccfd2.xml\n",
      "Tensorflow/workspace/images/test/livelong.9737e718-1698-11ef-9504-dc46286ccfd2.jpg\n",
      "Tensorflow/workspace/images/test/livelong.9737e718-1698-11ef-9504-dc46286ccfd2.xml\n",
      "Tensorflow/workspace/images/test/thumbsup.7377872a-1698-11ef-9504-dc46286ccfd2.jpg\n",
      "Tensorflow/workspace/images/test/thumbsdown.4295978a-169a-11ef-9504-dc46286ccfd2.jpg\n",
      "Tensorflow/workspace/images/test/thankyou.901467a4-1698-11ef-9504-dc46286ccfd2.jpg\n",
      "Tensorflow/workspace/images/test/thankyou.92776e7e-1698-11ef-9504-dc46286ccfd2.xml\n",
      "Tensorflow/workspace/images/test/livelong.a0c2e53a-1698-11ef-9504-dc46286ccfd2.jpg\n",
      "Tensorflow/workspace/images/test/livelong.a0c2e53a-1698-11ef-9504-dc46286ccfd2.xml\n",
      "Tensorflow/workspace/images/test/thumbsup.783c1c76-1698-11ef-9504-dc46286ccfd2.jpg\n",
      "Tensorflow/workspace/images/test/thumbsdown.403365a8-169a-11ef-9504-dc46286ccfd2.xml\n",
      "Tensorflow/workspace/images/test/thankyou.92776e7e-1698-11ef-9504-dc46286ccfd2.jpg\n",
      "Tensorflow/workspace/images/test/thumbsdown.4295978a-169a-11ef-9504-dc46286ccfd2.xml\n",
      "Tensorflow/workspace/images/test/thumbsup.783c1c76-1698-11ef-9504-dc46286ccfd2.xml\n",
      "Tensorflow/workspace/images/test/thumbsup.7377872a-1698-11ef-9504-dc46286ccfd2.xml\n"
     ]
    }
   ],
   "source": [
    "# OPTIONAL IF RUNNING ON COLAB\n",
    "ARCHIVE_FILES = os.path.join(paths['IMAGE_PATH'], 'archive.tar.gz')\n",
    "if os.path.exists(ARCHIVE_FILES):\n",
    "  !tar -zxvf {ARCHIVE_FILES}"
   ]
  },
  {
   "cell_type": "code",
   "execution_count": 28,
   "metadata": {
    "colab": {
     "base_uri": "https://localhost:8080/"
    },
    "id": "KWpb_BVUpfDD",
    "outputId": "56ce2a3f-3933-4ee6-8a9d-d5ec65f7d73c"
   },
   "outputs": [
    {
     "name": "stdout",
     "output_type": "stream",
     "text": [
      "Cloning into 'Tensorflow/scripts'...\n",
      "remote: Enumerating objects: 3, done.\u001b[K\n",
      "remote: Counting objects: 100% (3/3), done.\u001b[K\n",
      "remote: Compressing objects: 100% (2/2), done.\u001b[K\n",
      "remote: Total 3 (delta 0), reused 1 (delta 0), pack-reused 0\u001b[K\n",
      "Receiving objects: 100% (3/3), done.\n"
     ]
    }
   ],
   "source": [
    "if not os.path.exists(files['TF_RECORD_SCRIPT']):\n",
    "    !git clone https://github.com/nicknochnack/GenerateTFRecord {paths['SCRIPTS_PATH']}"
   ]
  },
  {
   "cell_type": "code",
   "execution_count": 29,
   "metadata": {
    "colab": {
     "base_uri": "https://localhost:8080/"
    },
    "id": "UPFToGZqpfDD",
    "outputId": "0ebb456f-aadc-4a1f-96e6-fbfec1923e1c"
   },
   "outputs": [
    {
     "name": "stdout",
     "output_type": "stream",
     "text": [
      "Successfully created the TFRecord file: Tensorflow/workspace/annotations/train.record\n",
      "Successfully created the TFRecord file: Tensorflow/workspace/annotations/test.record\n"
     ]
    }
   ],
   "source": [
    "!python {files['TF_RECORD_SCRIPT']} -x {os.path.join(paths['IMAGE_PATH'], 'train')} -l {files['LABELMAP']} -o {os.path.join(paths['ANNOTATION_PATH'], 'train.record')} \n",
    "!python {files['TF_RECORD_SCRIPT']} -x {os.path.join(paths['IMAGE_PATH'], 'test')} -l {files['LABELMAP']} -o {os.path.join(paths['ANNOTATION_PATH'], 'test.record')} "
   ]
  },
  {
   "cell_type": "markdown",
   "metadata": {
    "id": "qT4QU7pLpfDE"
   },
   "source": [
    "# 4. Copy Model Config to Training Folder"
   ]
  },
  {
   "cell_type": "code",
   "execution_count": 30,
   "metadata": {
    "id": "cOjuTFbwpfDF"
   },
   "outputs": [],
   "source": [
    "if os.name =='posix':\n",
    "    !cp {os.path.join(paths['PRETRAINED_MODEL_PATH'], PRETRAINED_MODEL_NAME, 'pipeline.config')} {os.path.join(paths['CHECKPOINT_PATH'])}\n",
    "if os.name == 'nt':\n",
    "    !copy {os.path.join(paths['PRETRAINED_MODEL_PATH'], PRETRAINED_MODEL_NAME, 'pipeline.config')} {os.path.join(paths['CHECKPOINT_PATH'])}"
   ]
  },
  {
   "cell_type": "markdown",
   "metadata": {
    "id": "Ga8gpNslpfDF"
   },
   "source": [
    "# 5. Update Config For Transfer Learning"
   ]
  },
  {
   "cell_type": "code",
   "execution_count": 31,
   "metadata": {
    "id": "Z9hRrO_ppfDF"
   },
   "outputs": [
    {
     "name": "stderr",
     "output_type": "stream",
     "text": [
      "2024-05-22 17:49:50.861142: I tensorflow/core/util/port.cc:113] oneDNN custom operations are on. You may see slightly different numerical results due to floating-point round-off errors from different computation orders. To turn them off, set the environment variable `TF_ENABLE_ONEDNN_OPTS=0`.\n",
      "2024-05-22 17:49:50.894557: I tensorflow/core/platform/cpu_feature_guard.cc:210] This TensorFlow binary is optimized to use available CPU instructions in performance-critical operations.\n",
      "To enable the following instructions: AVX2 AVX_VNNI FMA, in other operations, rebuild TensorFlow with the appropriate compiler flags.\n",
      "2024-05-22 17:49:51.528488: W tensorflow/compiler/tf2tensorrt/utils/py_utils.cc:38] TF-TRT Warning: Could not find TensorRT\n"
     ]
    }
   ],
   "source": [
    "import tensorflow as tf\n",
    "from object_detection.utils import config_util\n",
    "from object_detection.protos import pipeline_pb2\n",
    "from google.protobuf import text_format"
   ]
  },
  {
   "cell_type": "code",
   "execution_count": 32,
   "metadata": {
    "id": "c2A0mn4ipfDF"
   },
   "outputs": [],
   "source": [
    "config = config_util.get_configs_from_pipeline_file(files['PIPELINE_CONFIG'])"
   ]
  },
  {
   "cell_type": "code",
   "execution_count": 33,
   "metadata": {
    "colab": {
     "base_uri": "https://localhost:8080/"
    },
    "id": "uQA13-afpfDF",
    "outputId": "907496a4-a39d-4b13-8c2c-e5978ecb1f10"
   },
   "outputs": [
    {
     "data": {
      "text/plain": [
       "{'model': ssd {\n",
       "   num_classes: 90\n",
       "   image_resizer {\n",
       "     fixed_shape_resizer {\n",
       "       height: 320\n",
       "       width: 320\n",
       "     }\n",
       "   }\n",
       "   feature_extractor {\n",
       "     type: \"ssd_mobilenet_v2_fpn_keras\"\n",
       "     depth_multiplier: 1\n",
       "     min_depth: 16\n",
       "     conv_hyperparams {\n",
       "       regularizer {\n",
       "         l2_regularizer {\n",
       "           weight: 4e-05\n",
       "         }\n",
       "       }\n",
       "       initializer {\n",
       "         random_normal_initializer {\n",
       "           mean: 0\n",
       "           stddev: 0.01\n",
       "         }\n",
       "       }\n",
       "       activation: RELU_6\n",
       "       batch_norm {\n",
       "         decay: 0.997\n",
       "         scale: true\n",
       "         epsilon: 0.001\n",
       "       }\n",
       "     }\n",
       "     override_base_feature_extractor_hyperparams: true\n",
       "     use_depthwise: true\n",
       "     fpn {\n",
       "       min_level: 3\n",
       "       max_level: 7\n",
       "       additional_layer_depth: 128\n",
       "     }\n",
       "   }\n",
       "   box_coder {\n",
       "     faster_rcnn_box_coder {\n",
       "       y_scale: 10\n",
       "       x_scale: 10\n",
       "       height_scale: 5\n",
       "       width_scale: 5\n",
       "     }\n",
       "   }\n",
       "   matcher {\n",
       "     argmax_matcher {\n",
       "       matched_threshold: 0.5\n",
       "       unmatched_threshold: 0.5\n",
       "       ignore_thresholds: false\n",
       "       negatives_lower_than_unmatched: true\n",
       "       force_match_for_each_row: true\n",
       "       use_matmul_gather: true\n",
       "     }\n",
       "   }\n",
       "   similarity_calculator {\n",
       "     iou_similarity {\n",
       "     }\n",
       "   }\n",
       "   encode_background_as_zeros: true\n",
       "   box_predictor {\n",
       "     weight_shared_convolutional_box_predictor {\n",
       "       conv_hyperparams {\n",
       "         regularizer {\n",
       "           l2_regularizer {\n",
       "             weight: 4e-05\n",
       "           }\n",
       "         }\n",
       "         initializer {\n",
       "           random_normal_initializer {\n",
       "             mean: 0\n",
       "             stddev: 0.01\n",
       "           }\n",
       "         }\n",
       "         activation: RELU_6\n",
       "         batch_norm {\n",
       "           decay: 0.997\n",
       "           scale: true\n",
       "           epsilon: 0.001\n",
       "         }\n",
       "       }\n",
       "       num_layers_before_predictor: 4\n",
       "       depth: 128\n",
       "       kernel_size: 3\n",
       "       class_prediction_bias_init: -4.6\n",
       "       share_prediction_tower: true\n",
       "       use_depthwise: true\n",
       "     }\n",
       "   }\n",
       "   anchor_generator {\n",
       "     multiscale_anchor_generator {\n",
       "       min_level: 3\n",
       "       max_level: 7\n",
       "       anchor_scale: 4\n",
       "       aspect_ratios: 1\n",
       "       aspect_ratios: 2\n",
       "       aspect_ratios: 0.5\n",
       "       scales_per_octave: 2\n",
       "     }\n",
       "   }\n",
       "   post_processing {\n",
       "     batch_non_max_suppression {\n",
       "       score_threshold: 1e-08\n",
       "       iou_threshold: 0.6\n",
       "       max_detections_per_class: 100\n",
       "       max_total_detections: 100\n",
       "       use_static_shapes: false\n",
       "     }\n",
       "     score_converter: SIGMOID\n",
       "   }\n",
       "   normalize_loss_by_num_matches: true\n",
       "   normalize_loc_loss_by_codesize: true\n",
       "   loss {\n",
       "     localization_loss {\n",
       "       weighted_smooth_l1 {\n",
       "       }\n",
       "     }\n",
       "     classification_loss {\n",
       "       weighted_sigmoid_focal {\n",
       "         gamma: 2\n",
       "         alpha: 0.25\n",
       "       }\n",
       "     }\n",
       "     classification_weight: 1\n",
       "     localization_weight: 1\n",
       "   }\n",
       "   freeze_batchnorm: false\n",
       "   inplace_batchnorm_update: true\n",
       " },\n",
       " 'train_config': batch_size: 128\n",
       " data_augmentation_options {\n",
       "   random_horizontal_flip {\n",
       "   }\n",
       " }\n",
       " data_augmentation_options {\n",
       "   random_crop_image {\n",
       "     min_object_covered: 0\n",
       "     min_aspect_ratio: 0.75\n",
       "     max_aspect_ratio: 3\n",
       "     min_area: 0.75\n",
       "     max_area: 1\n",
       "     overlap_thresh: 0\n",
       "   }\n",
       " }\n",
       " sync_replicas: true\n",
       " optimizer {\n",
       "   momentum_optimizer {\n",
       "     learning_rate {\n",
       "       cosine_decay_learning_rate {\n",
       "         learning_rate_base: 0.08\n",
       "         total_steps: 50000\n",
       "         warmup_learning_rate: 0.026666\n",
       "         warmup_steps: 1000\n",
       "       }\n",
       "     }\n",
       "     momentum_optimizer_value: 0.9\n",
       "   }\n",
       "   use_moving_average: false\n",
       " }\n",
       " fine_tune_checkpoint: \"PATH_TO_BE_CONFIGURED\"\n",
       " fine_tune_checkpoint_type: \"classification\"\n",
       " fine_tune_checkpoint_version: V2\n",
       " num_steps: 50000\n",
       " startup_delay_steps: 0\n",
       " replicas_to_aggregate: 8\n",
       " max_number_of_boxes: 100\n",
       " unpad_groundtruth_tensors: false,\n",
       " 'train_input_config': label_map_path: \"PATH_TO_BE_CONFIGURED\"\n",
       " tf_record_input_reader {\n",
       "   input_path: \"PATH_TO_BE_CONFIGURED\"\n",
       " },\n",
       " 'eval_config': metrics_set: \"coco_detection_metrics\"\n",
       " use_moving_averages: false,\n",
       " 'eval_input_configs': [label_map_path: \"PATH_TO_BE_CONFIGURED\"\n",
       " shuffle: false\n",
       " num_epochs: 1\n",
       " tf_record_input_reader {\n",
       "   input_path: \"PATH_TO_BE_CONFIGURED\"\n",
       " }\n",
       " ],\n",
       " 'eval_input_config': label_map_path: \"PATH_TO_BE_CONFIGURED\"\n",
       " shuffle: false\n",
       " num_epochs: 1\n",
       " tf_record_input_reader {\n",
       "   input_path: \"PATH_TO_BE_CONFIGURED\"\n",
       " }}"
      ]
     },
     "execution_count": 33,
     "metadata": {},
     "output_type": "execute_result"
    }
   ],
   "source": [
    "config"
   ]
  },
  {
   "cell_type": "code",
   "execution_count": 34,
   "metadata": {
    "id": "9vK5lotDpfDF"
   },
   "outputs": [],
   "source": [
    "pipeline_config = pipeline_pb2.TrainEvalPipelineConfig()\n",
    "with tf.io.gfile.GFile(files['PIPELINE_CONFIG'], \"r\") as f:                                                                                                                                                                                                                     \n",
    "    proto_str = f.read()                                                                                                                                                                                                                                          \n",
    "    text_format.Merge(proto_str, pipeline_config)  "
   ]
  },
  {
   "cell_type": "code",
   "execution_count": 35,
   "metadata": {
    "id": "rP43Ph0JpfDG"
   },
   "outputs": [],
   "source": [
    "pipeline_config.model.ssd.num_classes = len(labels)\n",
    "pipeline_config.train_config.batch_size = 4\n",
    "pipeline_config.train_config.fine_tune_checkpoint = os.path.join(paths['PRETRAINED_MODEL_PATH'], PRETRAINED_MODEL_NAME, 'checkpoint', 'ckpt-0')\n",
    "pipeline_config.train_config.fine_tune_checkpoint_type = \"detection\"\n",
    "pipeline_config.train_input_reader.label_map_path= files['LABELMAP']\n",
    "pipeline_config.train_input_reader.tf_record_input_reader.input_path[:] = [os.path.join(paths['ANNOTATION_PATH'], 'train.record')]\n",
    "pipeline_config.eval_input_reader[0].label_map_path = files['LABELMAP']\n",
    "pipeline_config.eval_input_reader[0].tf_record_input_reader.input_path[:] = [os.path.join(paths['ANNOTATION_PATH'], 'test.record')]"
   ]
  },
  {
   "cell_type": "code",
   "execution_count": 36,
   "metadata": {
    "id": "oJvfgwWqpfDG"
   },
   "outputs": [],
   "source": [
    "config_text = text_format.MessageToString(pipeline_config)                                                                                                                                                                                                        \n",
    "with tf.io.gfile.GFile(files['PIPELINE_CONFIG'], \"wb\") as f:                                                                                                                                                                                                                     \n",
    "    f.write(config_text)   "
   ]
  },
  {
   "cell_type": "markdown",
   "metadata": {
    "id": "Zr3ON7xMpfDG"
   },
   "source": [
    "# 6. Train the model"
   ]
  },
  {
   "cell_type": "code",
   "execution_count": 37,
   "metadata": {
    "id": "B-Y2UQmQpfDG"
   },
   "outputs": [],
   "source": [
    "TRAINING_SCRIPT = os.path.join(paths['APIMODEL_PATH'], 'research', 'object_detection', 'model_main_tf2.py')"
   ]
  },
  {
   "cell_type": "code",
   "execution_count": 38,
   "metadata": {
    "id": "jMP2XDfQpfDH"
   },
   "outputs": [],
   "source": [
    "command = \"python {} --model_dir={} --pipeline_config_path={} --num_train_steps=2000\".format(TRAINING_SCRIPT, paths['CHECKPOINT_PATH'],files['PIPELINE_CONFIG'])"
   ]
  },
  {
   "cell_type": "code",
   "execution_count": 39,
   "metadata": {
    "colab": {
     "base_uri": "https://localhost:8080/"
    },
    "id": "A4OXXi-ApfDH",
    "outputId": "117a0e83-012b-466e-b7a6-ccaa349ac5ab"
   },
   "outputs": [
    {
     "name": "stdout",
     "output_type": "stream",
     "text": [
      "python Tensorflow/models/research/object_detection/model_main_tf2.py --model_dir=Tensorflow/workspace/models/my_ssd_mobnet --pipeline_config_path=Tensorflow/workspace/models/my_ssd_mobnet/pipeline.config --num_train_steps=2000\n"
     ]
    }
   ],
   "source": [
    "print(command)"
   ]
  },
  {
   "cell_type": "code",
   "execution_count": 61,
   "metadata": {},
   "outputs": [
    {
     "name": "stdout",
     "output_type": "stream",
     "text": [
      "Collecting tensorflow-estimator==2.3.0\n",
      "  Downloading tensorflow_estimator-2.3.0-py2.py3-none-any.whl.metadata (1.2 kB)\n",
      "Downloading tensorflow_estimator-2.3.0-py2.py3-none-any.whl (459 kB)\n",
      "\u001b[2K   \u001b[90m━━━━━━━━━━━━━━━━━━━━━━━━━━━━━━━━━━━━━━━\u001b[0m \u001b[32m459.0/459.0 kB\u001b[0m \u001b[31m375.1 kB/s\u001b[0m eta \u001b[36m0:00:00\u001b[0ma \u001b[36m0:00:01\u001b[0m\n",
      "\u001b[?25hInstalling collected packages: tensorflow-estimator\n",
      "  Attempting uninstall: tensorflow-estimator\n",
      "    Found existing installation: tensorflow-estimator 2.15.0\n",
      "    Uninstalling tensorflow-estimator-2.15.0:\n",
      "      Successfully uninstalled tensorflow-estimator-2.15.0\n",
      "Successfully installed tensorflow-estimator-2.3.0\n"
     ]
    }
   ],
   "source": [
    "!pip install --upgrade tensorflow-estimator==2.3.0"
   ]
  },
  {
   "cell_type": "code",
   "execution_count": 64,
   "metadata": {},
   "outputs": [
    {
     "name": "stdout",
     "output_type": "stream",
     "text": [
      "Requirement already satisfied: tensorflow in ./tfod/lib/python3.11/site-packages (2.16.1)\n",
      "Requirement already satisfied: tensorflow-estimator in ./tfod/lib/python3.11/site-packages (2.3.0)\n",
      "Collecting tensorflow-estimator\n",
      "  Using cached tensorflow_estimator-2.15.0-py2.py3-none-any.whl.metadata (1.3 kB)\n",
      "Requirement already satisfied: absl-py>=1.0.0 in ./tfod/lib/python3.11/site-packages (from tensorflow) (1.4.0)\n",
      "Requirement already satisfied: astunparse>=1.6.0 in ./tfod/lib/python3.11/site-packages (from tensorflow) (1.6.3)\n",
      "Requirement already satisfied: flatbuffers>=23.5.26 in ./tfod/lib/python3.11/site-packages (from tensorflow) (24.3.25)\n",
      "Requirement already satisfied: gast!=0.5.0,!=0.5.1,!=0.5.2,>=0.2.1 in ./tfod/lib/python3.11/site-packages (from tensorflow) (0.5.4)\n",
      "Requirement already satisfied: google-pasta>=0.1.1 in ./tfod/lib/python3.11/site-packages (from tensorflow) (0.2.0)\n",
      "Requirement already satisfied: h5py>=3.10.0 in ./tfod/lib/python3.11/site-packages (from tensorflow) (3.11.0)\n",
      "Requirement already satisfied: libclang>=13.0.0 in ./tfod/lib/python3.11/site-packages (from tensorflow) (18.1.1)\n",
      "Requirement already satisfied: ml-dtypes~=0.3.1 in ./tfod/lib/python3.11/site-packages (from tensorflow) (0.3.2)\n",
      "Requirement already satisfied: opt-einsum>=2.3.2 in ./tfod/lib/python3.11/site-packages (from tensorflow) (3.3.0)\n",
      "Requirement already satisfied: packaging in ./tfod/lib/python3.11/site-packages (from tensorflow) (24.0)\n",
      "Requirement already satisfied: protobuf!=4.21.0,!=4.21.1,!=4.21.2,!=4.21.3,!=4.21.4,!=4.21.5,<5.0.0dev,>=3.20.3 in ./tfod/lib/python3.11/site-packages (from tensorflow) (4.25.3)\n",
      "Requirement already satisfied: requests<3,>=2.21.0 in ./tfod/lib/python3.11/site-packages (from tensorflow) (2.32.2)\n",
      "Requirement already satisfied: setuptools in ./tfod/lib/python3.11/site-packages (from tensorflow) (65.5.0)\n",
      "Requirement already satisfied: six>=1.12.0 in ./tfod/lib/python3.11/site-packages (from tensorflow) (1.16.0)\n",
      "Requirement already satisfied: termcolor>=1.1.0 in ./tfod/lib/python3.11/site-packages (from tensorflow) (2.4.0)\n",
      "Requirement already satisfied: typing-extensions>=3.6.6 in ./tfod/lib/python3.11/site-packages (from tensorflow) (4.11.0)\n",
      "Requirement already satisfied: wrapt>=1.11.0 in ./tfod/lib/python3.11/site-packages (from tensorflow) (1.16.0)\n",
      "Requirement already satisfied: grpcio<2.0,>=1.24.3 in ./tfod/lib/python3.11/site-packages (from tensorflow) (1.64.0)\n",
      "Requirement already satisfied: tensorboard<2.17,>=2.16 in ./tfod/lib/python3.11/site-packages (from tensorflow) (2.16.2)\n",
      "Requirement already satisfied: keras>=3.0.0 in ./tfod/lib/python3.11/site-packages (from tensorflow) (3.3.3)\n",
      "Requirement already satisfied: tensorflow-io-gcs-filesystem>=0.23.1 in ./tfod/lib/python3.11/site-packages (from tensorflow) (0.37.0)\n",
      "Requirement already satisfied: numpy<2.0.0,>=1.23.5 in ./tfod/lib/python3.11/site-packages (from tensorflow) (1.26.4)\n",
      "Requirement already satisfied: wheel<1.0,>=0.23.0 in ./tfod/lib/python3.11/site-packages (from astunparse>=1.6.0->tensorflow) (0.43.0)\n",
      "Requirement already satisfied: rich in ./tfod/lib/python3.11/site-packages (from keras>=3.0.0->tensorflow) (13.7.1)\n",
      "Requirement already satisfied: namex in ./tfod/lib/python3.11/site-packages (from keras>=3.0.0->tensorflow) (0.0.8)\n",
      "Requirement already satisfied: optree in ./tfod/lib/python3.11/site-packages (from keras>=3.0.0->tensorflow) (0.11.0)\n",
      "Requirement already satisfied: charset-normalizer<4,>=2 in ./tfod/lib/python3.11/site-packages (from requests<3,>=2.21.0->tensorflow) (3.3.2)\n",
      "Requirement already satisfied: idna<4,>=2.5 in ./tfod/lib/python3.11/site-packages (from requests<3,>=2.21.0->tensorflow) (3.7)\n",
      "Requirement already satisfied: urllib3<3,>=1.21.1 in ./tfod/lib/python3.11/site-packages (from requests<3,>=2.21.0->tensorflow) (2.2.1)\n",
      "Requirement already satisfied: certifi>=2017.4.17 in ./tfod/lib/python3.11/site-packages (from requests<3,>=2.21.0->tensorflow) (2024.2.2)\n",
      "Requirement already satisfied: markdown>=2.6.8 in ./tfod/lib/python3.11/site-packages (from tensorboard<2.17,>=2.16->tensorflow) (3.6)\n",
      "Requirement already satisfied: tensorboard-data-server<0.8.0,>=0.7.0 in ./tfod/lib/python3.11/site-packages (from tensorboard<2.17,>=2.16->tensorflow) (0.7.2)\n",
      "Requirement already satisfied: werkzeug>=1.0.1 in ./tfod/lib/python3.11/site-packages (from tensorboard<2.17,>=2.16->tensorflow) (3.0.3)\n",
      "Requirement already satisfied: MarkupSafe>=2.1.1 in ./tfod/lib/python3.11/site-packages (from werkzeug>=1.0.1->tensorboard<2.17,>=2.16->tensorflow) (2.1.5)\n",
      "Requirement already satisfied: markdown-it-py>=2.2.0 in ./tfod/lib/python3.11/site-packages (from rich->keras>=3.0.0->tensorflow) (3.0.0)\n",
      "Requirement already satisfied: pygments<3.0.0,>=2.13.0 in ./tfod/lib/python3.11/site-packages (from rich->keras>=3.0.0->tensorflow) (2.18.0)\n",
      "Requirement already satisfied: mdurl~=0.1 in ./tfod/lib/python3.11/site-packages (from markdown-it-py>=2.2.0->rich->keras>=3.0.0->tensorflow) (0.1.2)\n",
      "Using cached tensorflow_estimator-2.15.0-py2.py3-none-any.whl (441 kB)\n",
      "Installing collected packages: tensorflow-estimator\n",
      "  Attempting uninstall: tensorflow-estimator\n",
      "    Found existing installation: tensorflow-estimator 2.3.0\n",
      "    Uninstalling tensorflow-estimator-2.3.0:\n",
      "      Successfully uninstalled tensorflow-estimator-2.3.0\n",
      "Successfully installed tensorflow-estimator-2.15.0\n"
     ]
    }
   ],
   "source": [
    "!pip install --upgrade tensorflow tensorflow-estimator\n"
   ]
  },
  {
   "cell_type": "code",
   "execution_count": 65,
   "metadata": {
    "colab": {
     "base_uri": "https://localhost:8080/"
    },
    "id": "i3ZsJR-qpfDH",
    "outputId": "cabec5e1-45e6-4f2f-d9cf-297d9c1d0225"
   },
   "outputs": [
    {
     "name": "stdout",
     "output_type": "stream",
     "text": [
      "2024-05-22 18:24:27.354441: I tensorflow/core/util/port.cc:113] oneDNN custom operations are on. You may see slightly different numerical results due to floating-point round-off errors from different computation orders. To turn them off, set the environment variable `TF_ENABLE_ONEDNN_OPTS=0`.\n",
      "2024-05-22 18:24:27.393346: I tensorflow/core/platform/cpu_feature_guard.cc:210] This TensorFlow binary is optimized to use available CPU instructions in performance-critical operations.\n",
      "To enable the following instructions: AVX2 AVX_VNNI FMA, in other operations, rebuild TensorFlow with the appropriate compiler flags.\n",
      "2024-05-22 18:24:27.941061: W tensorflow/compiler/tf2tensorrt/utils/py_utils.cc:38] TF-TRT Warning: Could not find TensorRT\n",
      "Traceback (most recent call last):\n",
      "  File \"/home/toofan/Desktop/New Folder/Tensorflow-Object-Detection/Tensorflow/models/research/object_detection/model_main_tf2.py\", line 31, in <module>\n",
      "    from object_detection import model_lib_v2\n",
      "  File \"/home/toofan/Desktop/New Folder/Tensorflow-Object-Detection/tfod/lib/python3.11/site-packages/object_detection/model_lib_v2.py\", line 30, in <module>\n",
      "    from object_detection import inputs\n",
      "  File \"/home/toofan/Desktop/New Folder/Tensorflow-Object-Detection/tfod/lib/python3.11/site-packages/object_detection/inputs.py\", line 25, in <module>\n",
      "    from tensorflow_estimator import estimator as tf_estimator\n",
      "  File \"/home/toofan/Desktop/New Folder/Tensorflow-Object-Detection/tfod/lib/python3.11/site-packages/tensorflow_estimator/__init__.py\", line 8, in <module>\n",
      "    from tensorflow_estimator._api.v1 import estimator\n",
      "  File \"/home/toofan/Desktop/New Folder/Tensorflow-Object-Detection/tfod/lib/python3.11/site-packages/tensorflow_estimator/_api/v1/estimator/__init__.py\", line 8, in <module>\n",
      "    from tensorflow_estimator._api.v1.estimator import experimental\n",
      "  File \"/home/toofan/Desktop/New Folder/Tensorflow-Object-Detection/tfod/lib/python3.11/site-packages/tensorflow_estimator/_api/v1/estimator/experimental/__init__.py\", line 8, in <module>\n",
      "    from tensorflow_estimator.python.estimator.canned.dnn import dnn_logit_fn_builder # line: 45\n",
      "    ^^^^^^^^^^^^^^^^^^^^^^^^^^^^^^^^^^^^^^^^^^^^^^^^^^^^^^^^^^^^^^^^^^^^^^^^^^^^^^^^^\n",
      "  File \"/home/toofan/Desktop/New Folder/Tensorflow-Object-Detection/tfod/lib/python3.11/site-packages/tensorflow_estimator/python/estimator/canned/dnn.py\", line 26, in <module>\n",
      "    from tensorflow_estimator.python.estimator import estimator\n",
      "  File \"/home/toofan/Desktop/New Folder/Tensorflow-Object-Detection/tfod/lib/python3.11/site-packages/tensorflow_estimator/python/estimator/estimator.py\", line 34, in <module>\n",
      "    from tensorflow.python.distribute import estimator_training as distribute_coordinator_training\n",
      "ImportError: cannot import name 'estimator_training' from 'tensorflow.python.distribute' (/home/toofan/Desktop/New Folder/Tensorflow-Object-Detection/tfod/lib/python3.11/site-packages/tensorflow/python/distribute/__init__.py)\n"
     ]
    }
   ],
   "source": [
    "!{command}"
   ]
  },
  {
   "cell_type": "markdown",
   "metadata": {
    "id": "4_YRZu7npfDH"
   },
   "source": [
    "# 7. Evaluate the Model"
   ]
  },
  {
   "cell_type": "code",
   "execution_count": null,
   "metadata": {
    "id": "80L7-fdPpfDH"
   },
   "outputs": [],
   "source": [
    "command = \"python {} --model_dir={} --pipeline_config_path={} --checkpoint_dir={}\".format(TRAINING_SCRIPT, paths['CHECKPOINT_PATH'],files['PIPELINE_CONFIG'], paths['CHECKPOINT_PATH'])"
   ]
  },
  {
   "cell_type": "code",
   "execution_count": null,
   "metadata": {
    "colab": {
     "base_uri": "https://localhost:8080/"
    },
    "id": "lYsgEPx9pfDH",
    "outputId": "8632d48b-91d2-45d9-bcb8-c1b172bf6eed"
   },
   "outputs": [],
   "source": [
    "print(command)"
   ]
  },
  {
   "cell_type": "code",
   "execution_count": null,
   "metadata": {
    "id": "lqTV2jGBpfDH"
   },
   "outputs": [],
   "source": [
    "!{command}"
   ]
  },
  {
   "cell_type": "markdown",
   "metadata": {
    "id": "orvRk02UpfDI"
   },
   "source": [
    "# 8. Load Train Model From Checkpoint"
   ]
  },
  {
   "cell_type": "code",
   "execution_count": null,
   "metadata": {
    "id": "8TYk4_oIpfDI"
   },
   "outputs": [],
   "source": [
    "import os\n",
    "import tensorflow as tf\n",
    "from object_detection.utils import label_map_util\n",
    "from object_detection.utils import visualization_utils as viz_utils\n",
    "from object_detection.builders import model_builder\n",
    "from object_detection.utils import config_util"
   ]
  },
  {
   "cell_type": "code",
   "execution_count": null,
   "metadata": {
    "id": "tDnQg-cYpfDI"
   },
   "outputs": [],
   "source": [
    "# Load pipeline config and build a detection model\n",
    "configs = config_util.get_configs_from_pipeline_file(files['PIPELINE_CONFIG'])\n",
    "detection_model = model_builder.build(model_config=configs['model'], is_training=False)\n",
    "\n",
    "# Restore checkpoint\n",
    "ckpt = tf.compat.v2.train.Checkpoint(model=detection_model)\n",
    "ckpt.restore(os.path.join(paths['CHECKPOINT_PATH'], 'ckpt-5')).expect_partial()\n",
    "\n",
    "@tf.function\n",
    "def detect_fn(image):\n",
    "    image, shapes = detection_model.preprocess(image)\n",
    "    prediction_dict = detection_model.predict(image, shapes)\n",
    "    detections = detection_model.postprocess(prediction_dict, shapes)\n",
    "    return detections"
   ]
  },
  {
   "cell_type": "markdown",
   "metadata": {
    "id": "0EmsmbBZpfDI"
   },
   "source": [
    "# 9. Detect from an Image"
   ]
  },
  {
   "cell_type": "code",
   "execution_count": null,
   "metadata": {
    "id": "Y_MKiuZ4pfDI"
   },
   "outputs": [],
   "source": [
    "import cv2 \n",
    "import numpy as np\n",
    "from matplotlib import pyplot as plt\n",
    "%matplotlib inline"
   ]
  },
  {
   "cell_type": "code",
   "execution_count": null,
   "metadata": {
    "id": "cBDbIhNapfDI"
   },
   "outputs": [],
   "source": [
    "category_index = label_map_util.create_category_index_from_labelmap(files['LABELMAP'])"
   ]
  },
  {
   "cell_type": "code",
   "execution_count": null,
   "metadata": {
    "id": "Lx3crOhOzITB"
   },
   "outputs": [],
   "source": [
    "IMAGE_PATH = os.path.join(paths['IMAGE_PATH'], 'test', 'livelong.02533422-940e-11eb-9dbd-5cf3709bbcc6.jpg')"
   ]
  },
  {
   "cell_type": "code",
   "execution_count": null,
   "metadata": {
    "colab": {
     "base_uri": "https://localhost:8080/",
     "height": 269
    },
    "id": "Tpzn1SMry1yK",
    "outputId": "c392a2c5-10fe-4fc4-9998-a1d4c7db2bd3"
   },
   "outputs": [],
   "source": [
    "img = cv2.imread(IMAGE_PATH)\n",
    "image_np = np.array(img)\n",
    "\n",
    "input_tensor = tf.convert_to_tensor(np.expand_dims(image_np, 0), dtype=tf.float32)\n",
    "detections = detect_fn(input_tensor)\n",
    "\n",
    "num_detections = int(detections.pop('num_detections'))\n",
    "detections = {key: value[0, :num_detections].numpy()\n",
    "              for key, value in detections.items()}\n",
    "detections['num_detections'] = num_detections\n",
    "\n",
    "# detection_classes should be ints.\n",
    "detections['detection_classes'] = detections['detection_classes'].astype(np.int64)\n",
    "\n",
    "label_id_offset = 1\n",
    "image_np_with_detections = image_np.copy()\n",
    "\n",
    "viz_utils.visualize_boxes_and_labels_on_image_array(\n",
    "            image_np_with_detections,\n",
    "            detections['detection_boxes'],\n",
    "            detections['detection_classes']+label_id_offset,\n",
    "            detections['detection_scores'],\n",
    "            category_index,\n",
    "            use_normalized_coordinates=True,\n",
    "            max_boxes_to_draw=5,\n",
    "            min_score_thresh=.8,\n",
    "            agnostic_mode=False)\n",
    "\n",
    "plt.imshow(cv2.cvtColor(image_np_with_detections, cv2.COLOR_BGR2RGB))\n",
    "plt.show()"
   ]
  },
  {
   "cell_type": "markdown",
   "metadata": {
    "id": "IsNAaYAo0WVL"
   },
   "source": [
    "# 10. Real Time Detections from your Webcam"
   ]
  },
  {
   "cell_type": "code",
   "execution_count": null,
   "metadata": {},
   "outputs": [],
   "source": [
    "!pip uninstall opencv-python-headless -y"
   ]
  },
  {
   "cell_type": "code",
   "execution_count": null,
   "metadata": {
    "id": "o_grs6OGpfDJ"
   },
   "outputs": [],
   "source": [
    "cap = cv2.VideoCapture(0)\n",
    "width = int(cap.get(cv2.CAP_PROP_FRAME_WIDTH))\n",
    "height = int(cap.get(cv2.CAP_PROP_FRAME_HEIGHT))\n",
    "\n",
    "while cap.isOpened(): \n",
    "    ret, frame = cap.read()\n",
    "    image_np = np.array(frame)\n",
    "    \n",
    "    input_tensor = tf.convert_to_tensor(np.expand_dims(image_np, 0), dtype=tf.float32)\n",
    "    detections = detect_fn(input_tensor)\n",
    "    \n",
    "    num_detections = int(detections.pop('num_detections'))\n",
    "    detections = {key: value[0, :num_detections].numpy()\n",
    "                  for key, value in detections.items()}\n",
    "    detections['num_detections'] = num_detections\n",
    "\n",
    "    # detection_classes should be ints.\n",
    "    detections['detection_classes'] = detections['detection_classes'].astype(np.int64)\n",
    "\n",
    "    label_id_offset = 1\n",
    "    image_np_with_detections = image_np.copy()\n",
    "\n",
    "    viz_utils.visualize_boxes_and_labels_on_image_array(\n",
    "                image_np_with_detections,\n",
    "                detections['detection_boxes'],\n",
    "                detections['detection_classes']+label_id_offset,\n",
    "                detections['detection_scores'],\n",
    "                category_index,\n",
    "                use_normalized_coordinates=True,\n",
    "                max_boxes_to_draw=5,\n",
    "                min_score_thresh=.8,\n",
    "                agnostic_mode=False)\n",
    "\n",
    "    cv2.imshow('object detection',  cv2.resize(image_np_with_detections, (800, 600)))\n",
    "    \n",
    "    if cv2.waitKey(10) & 0xFF == ord('q'):\n",
    "        cap.release()\n",
    "        cv2.destroyAllWindows()\n",
    "        break"
   ]
  },
  {
   "cell_type": "markdown",
   "metadata": {
    "id": "rzlM4jt0pfDJ"
   },
   "source": [
    "# 10. Freezing the Graph"
   ]
  },
  {
   "cell_type": "code",
   "execution_count": null,
   "metadata": {
    "id": "n4olHB2npfDJ"
   },
   "outputs": [],
   "source": [
    "FREEZE_SCRIPT = os.path.join(paths['APIMODEL_PATH'], 'research', 'object_detection', 'exporter_main_v2.py ')"
   ]
  },
  {
   "cell_type": "code",
   "execution_count": null,
   "metadata": {
    "id": "0AjO93QDpfDJ"
   },
   "outputs": [],
   "source": [
    "command = \"python {} --input_type=image_tensor --pipeline_config_path={} --trained_checkpoint_dir={} --output_directory={}\".format(FREEZE_SCRIPT ,files['PIPELINE_CONFIG'], paths['CHECKPOINT_PATH'], paths['OUTPUT_PATH'])"
   ]
  },
  {
   "cell_type": "code",
   "execution_count": null,
   "metadata": {
    "colab": {
     "base_uri": "https://localhost:8080/"
    },
    "id": "F6Lsp3tCpfDJ",
    "outputId": "c3828529-bf06-4df5-d7f3-145890ec3edd"
   },
   "outputs": [],
   "source": [
    "print(command)"
   ]
  },
  {
   "cell_type": "code",
   "execution_count": null,
   "metadata": {
    "colab": {
     "base_uri": "https://localhost:8080/"
    },
    "id": "1Sw1ULgHpfDJ",
    "outputId": "6fd441e1-9fc9-4889-d072-3395c21e40b6"
   },
   "outputs": [],
   "source": [
    "!{command}"
   ]
  },
  {
   "cell_type": "markdown",
   "metadata": {
    "id": "wTPmdqaXpfDK"
   },
   "source": [
    "# 11. Conversion to TFJS"
   ]
  },
  {
   "cell_type": "code",
   "execution_count": null,
   "metadata": {
    "colab": {
     "base_uri": "https://localhost:8080/"
    },
    "id": "gZ6UzY_fpfDK",
    "outputId": "0c84722e-1c2b-4002-d857-80827ade828a",
    "scrolled": true
   },
   "outputs": [],
   "source": [
    "!pip install tensorflowjs"
   ]
  },
  {
   "cell_type": "code",
   "execution_count": null,
   "metadata": {
    "id": "0oxbVynHpfDK"
   },
   "outputs": [],
   "source": [
    "command = \"tensorflowjs_converter --input_format=tf_saved_model --output_node_names='detection_boxes,detection_classes,detection_features,detection_multiclass_scores,detection_scores,num_detections,raw_detection_boxes,raw_detection_scores' --output_format=tfjs_graph_model --signature_name=serving_default {} {}\".format(os.path.join(paths['OUTPUT_PATH'], 'saved_model'), paths['TFJS_PATH'])"
   ]
  },
  {
   "cell_type": "code",
   "execution_count": null,
   "metadata": {
    "colab": {
     "base_uri": "https://localhost:8080/"
    },
    "id": "DB2AGNmJpfDK",
    "outputId": "fbc9f747-f511-47e8-df8f-5ea65cef0374"
   },
   "outputs": [],
   "source": [
    "print(command)"
   ]
  },
  {
   "cell_type": "code",
   "execution_count": null,
   "metadata": {
    "colab": {
     "base_uri": "https://localhost:8080/"
    },
    "id": "K7rfT4-hpfDK",
    "outputId": "532707fd-6feb-4bc6-84a3-325b5d16303c"
   },
   "outputs": [],
   "source": [
    "!{command}"
   ]
  },
  {
   "cell_type": "code",
   "execution_count": null,
   "metadata": {
    "id": "o8_hm-itpfDK"
   },
   "outputs": [],
   "source": [
    "# Test Code: https://github.com/nicknochnack/RealTimeSignLanguageDetectionwithTFJS"
   ]
  },
  {
   "cell_type": "markdown",
   "metadata": {
    "id": "VtUw73FHpfDK"
   },
   "source": [
    "# 12. Conversion to TFLite"
   ]
  },
  {
   "cell_type": "code",
   "execution_count": null,
   "metadata": {
    "id": "XviMtewLpfDK"
   },
   "outputs": [],
   "source": [
    "TFLITE_SCRIPT = os.path.join(paths['APIMODEL_PATH'], 'research', 'object_detection', 'export_tflite_graph_tf2.py ')"
   ]
  },
  {
   "cell_type": "code",
   "execution_count": null,
   "metadata": {
    "id": "us86cjC4pfDL"
   },
   "outputs": [],
   "source": [
    "command = \"python {} --pipeline_config_path={} --trained_checkpoint_dir={} --output_directory={}\".format(TFLITE_SCRIPT ,files['PIPELINE_CONFIG'], paths['CHECKPOINT_PATH'], paths['TFLITE_PATH'])"
   ]
  },
  {
   "cell_type": "code",
   "execution_count": null,
   "metadata": {
    "colab": {
     "base_uri": "https://localhost:8080/"
    },
    "id": "n1r5YO3rpfDL",
    "outputId": "5fcdf7a4-eee2-4365-f1ca-1751968379ea"
   },
   "outputs": [],
   "source": [
    "print(command)"
   ]
  },
  {
   "cell_type": "code",
   "execution_count": null,
   "metadata": {
    "colab": {
     "base_uri": "https://localhost:8080/"
    },
    "id": "I-xWpHN8pfDL",
    "outputId": "7f6bacd8-d077-43b5-c131-5b081fba24a4"
   },
   "outputs": [],
   "source": [
    "!{command}"
   ]
  },
  {
   "cell_type": "code",
   "execution_count": null,
   "metadata": {
    "id": "iJfYMbN6pfDL"
   },
   "outputs": [],
   "source": [
    "FROZEN_TFLITE_PATH = os.path.join(paths['TFLITE_PATH'], 'saved_model')\n",
    "TFLITE_MODEL = os.path.join(paths['TFLITE_PATH'], 'saved_model', 'detect.tflite')"
   ]
  },
  {
   "cell_type": "code",
   "execution_count": null,
   "metadata": {},
   "outputs": [],
   "source": [
    "command = \"tflite_convert \\\n",
    "--saved_model_dir={} \\\n",
    "--output_file={} \\\n",
    "--input_shapes=1,300,300,3 \\\n",
    "--input_arrays=normalized_input_image_tensor \\\n",
    "--output_arrays='TFLite_Detection_PostProcess','TFLite_Detection_PostProcess:1','TFLite_Detection_PostProcess:2','TFLite_Detection_PostProcess:3' \\\n",
    "--inference_type=FLOAT \\\n",
    "--allow_custom_ops\".format(FROZEN_TFLITE_PATH, TFLITE_MODEL, )"
   ]
  },
  {
   "cell_type": "code",
   "execution_count": null,
   "metadata": {
    "colab": {
     "base_uri": "https://localhost:8080/"
    },
    "id": "E8GwUeoFpfDL",
    "outputId": "fac43ea4-cc85-471b-a362-e994b06fd583"
   },
   "outputs": [],
   "source": [
    "print(command)"
   ]
  },
  {
   "cell_type": "code",
   "execution_count": null,
   "metadata": {
    "colab": {
     "base_uri": "https://localhost:8080/"
    },
    "id": "Nbd7gqHMpfDL",
    "outputId": "7c8fe6d5-2415-4641-8548-39d425c202f7"
   },
   "outputs": [],
   "source": [
    "!{command}"
   ]
  },
  {
   "cell_type": "markdown",
   "metadata": {
    "id": "5NQqZRdA21Uc"
   },
   "source": [
    "# 13. Zip and Export Models "
   ]
  },
  {
   "cell_type": "code",
   "execution_count": null,
   "metadata": {
    "id": "tTVTGCQp2ZJJ"
   },
   "outputs": [],
   "source": [
    "!tar -czf models.tar.gz {paths['CHECKPOINT_PATH']}"
   ]
  },
  {
   "cell_type": "code",
   "execution_count": null,
   "metadata": {
    "colab": {
     "base_uri": "https://localhost:8080/"
    },
    "id": "whShhB0x3PYJ",
    "outputId": "b773201d-35c9-46a8-b893-4a76bd4d5d97"
   },
   "outputs": [],
   "source": [
    "from google.colab import drive\n",
    "drive.mount('/content/drive')"
   ]
  }
 ],
 "metadata": {
  "accelerator": "GPU",
  "colab": {
   "name": "3. Training and Detection.ipynb",
   "provenance": []
  },
  "kernelspec": {
   "display_name": "tfod",
   "language": "python",
   "name": "python3"
  },
  "language_info": {
   "codemirror_mode": {
    "name": "ipython",
    "version": 3
   },
   "file_extension": ".py",
   "mimetype": "text/x-python",
   "name": "python",
   "nbconvert_exporter": "python",
   "pygments_lexer": "ipython3",
   "version": "3.11.9"
  }
 },
 "nbformat": 4,
 "nbformat_minor": 1
}
