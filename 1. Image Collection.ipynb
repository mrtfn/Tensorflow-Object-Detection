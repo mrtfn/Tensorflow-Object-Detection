{
 "cells": [
  {
   "cell_type": "markdown",
   "metadata": {},
   "source": [
    "# 1. Import Dependencies"
   ]
  },
  {
   "cell_type": "code",
   "execution_count": 1,
   "metadata": {},
   "outputs": [
    {
     "name": "stdout",
     "output_type": "stream",
     "text": [
      "Collecting opencv-python\n",
      "  Using cached opencv_python-4.9.0.80-cp37-abi3-manylinux_2_17_x86_64.manylinux2014_x86_64.whl.metadata (20 kB)\n",
      "Collecting numpy>=1.21.2 (from opencv-python)\n",
      "  Using cached numpy-1.26.4-cp311-cp311-manylinux_2_17_x86_64.manylinux2014_x86_64.whl.metadata (61 kB)\n",
      "Using cached opencv_python-4.9.0.80-cp37-abi3-manylinux_2_17_x86_64.manylinux2014_x86_64.whl (62.2 MB)\n",
      "Using cached numpy-1.26.4-cp311-cp311-manylinux_2_17_x86_64.manylinux2014_x86_64.whl (18.3 MB)\n",
      "Installing collected packages: numpy, opencv-python\n",
      "Successfully installed numpy-1.26.4 opencv-python-4.9.0.80\n"
     ]
    }
   ],
   "source": [
    "!pip install opencv-python"
   ]
  },
  {
   "cell_type": "code",
   "execution_count": 2,
   "metadata": {},
   "outputs": [],
   "source": [
    "# Import opencv\n",
    "import cv2 \n",
    "\n",
    "# Import uuid\n",
    "import uuid\n",
    "\n",
    "# Import Operating System\n",
    "import os\n",
    "\n",
    "# Import time\n",
    "import time"
   ]
  },
  {
   "cell_type": "markdown",
   "metadata": {},
   "source": [
    "# 2. Define Images to Collect"
   ]
  },
  {
   "cell_type": "code",
   "execution_count": 3,
   "metadata": {},
   "outputs": [],
   "source": [
    "labels = ['thumbsup', 'thumbsdown', 'thankyou', 'livelong']\n",
    "number_imgs = 5\n",
    "# thumbsup,thumbsdown,thankyou,livelong"
   ]
  },
  {
   "cell_type": "markdown",
   "metadata": {},
   "source": [
    "# 3. Setup Folders "
   ]
  },
  {
   "cell_type": "code",
   "execution_count": 4,
   "metadata": {},
   "outputs": [],
   "source": [
    "IMAGES_PATH = os.path.join('Tensorflow', 'workspace', 'images', 'collectedimages')"
   ]
  },
  {
   "cell_type": "code",
   "execution_count": 5,
   "metadata": {},
   "outputs": [],
   "source": [
    "if not os.path.exists(IMAGES_PATH):\n",
    "    if os.name == 'posix':\n",
    "        !mkdir -p {IMAGES_PATH}\n",
    "    if os.name == 'nt':\n",
    "         !mkdir {IMAGES_PATH}\n",
    "for label in labels:\n",
    "    path = os.path.join(IMAGES_PATH, label)\n",
    "    if not os.path.exists(path):\n",
    "        !mkdir {path}"
   ]
  },
  {
   "cell_type": "markdown",
   "metadata": {},
   "source": [
    "# 4. Capture Images"
   ]
  },
  {
   "cell_type": "code",
   "execution_count": null,
   "metadata": {},
   "outputs": [],
   "source": [
    "import sys\n",
    "import cv2\n",
    "import os\n",
    "import uuid\n",
    "from PyQt5.QtWidgets import (QApplication, QWidget, QLabel, QPushButton, QVBoxLayout, \n",
    "                             QLineEdit, QInputDialog)\n",
    "from PyQt5.QtCore import QTimer, Qt\n",
    "from PyQt5.QtGui import QImage, QPixmap\n",
    "\n",
    "# Configuration\n",
    "IMAGES_PATH = 'Tensorflow/workspace/images/collectedimages'  # Replace with your actual path\n",
    "os.makedirs(IMAGES_PATH, exist_ok=True)\n",
    "\n",
    "class ImageCollectorApp(QWidget):\n",
    "    def __init__(self):\n",
    "        super().__init__()\n",
    "        self.initUI()\n",
    "        \n",
    "        self.cap = cv2.VideoCapture(0)\n",
    "        if not self.cap.isOpened():\n",
    "            print(\"Error: Could not open camera.\")\n",
    "            self.close()\n",
    "\n",
    "        self.timer = QTimer()\n",
    "        self.timer.timeout.connect(self.update_frame)\n",
    "        self.timer.start(20)  # Update the frame every 20ms\n",
    "\n",
    "        self.countdown_timer = QTimer()\n",
    "        self.countdown_timer.timeout.connect(self.update_countdown)\n",
    "\n",
    "    def initUI(self):\n",
    "        self.setWindowTitle('Image Collector')\n",
    "        \n",
    "        self.layout = QVBoxLayout()\n",
    "        \n",
    "        self.label = QLabel(self)\n",
    "        self.layout.addWidget(self.label)\n",
    "        \n",
    "        self.class_names_entry = QLineEdit(self)\n",
    "        self.class_names_entry.setPlaceholderText(\"Enter class names, separated by commas\")\n",
    "        self.layout.addWidget(self.class_names_entry)\n",
    "        \n",
    "        self.repeat_count_entry = QLineEdit(self)\n",
    "        self.repeat_count_entry.setPlaceholderText(\"Enter number of images per class\")\n",
    "        self.layout.addWidget(self.repeat_count_entry)\n",
    "\n",
    "        self.countdown_entry = QLineEdit(self)\n",
    "        self.countdown_entry.setPlaceholderText(\"Enter countdown seconds\")\n",
    "        self.layout.addWidget(self.countdown_entry)\n",
    "        \n",
    "        self.capture_button = QPushButton('Start Capture', self)\n",
    "        self.capture_button.clicked.connect(self.start_capture)\n",
    "        self.layout.addWidget(self.capture_button)\n",
    "\n",
    "        self.countdown_label = QLabel(self)\n",
    "        self.countdown_label.setAlignment(Qt.AlignCenter)\n",
    "        self.layout.addWidget(self.countdown_label)\n",
    "\n",
    "        self.status_label = QLabel(self)\n",
    "        self.status_label.setAlignment(Qt.AlignCenter)\n",
    "        self.layout.addWidget(self.status_label)\n",
    "        \n",
    "        self.setLayout(self.layout)\n",
    "        self.show()\n",
    "\n",
    "    def update_frame(self):\n",
    "        ret, frame = self.cap.read()\n",
    "        if ret:\n",
    "            self.current_frame = frame\n",
    "            frame_rgb = cv2.cvtColor(frame, cv2.COLOR_BGR2RGB)\n",
    "            h, w, ch = frame_rgb.shape\n",
    "            bytes_per_line = ch * w\n",
    "            qt_img = QImage(frame_rgb.data, w, h, bytes_per_line, QImage.Format_RGB888)\n",
    "            pixmap = QPixmap.fromImage(qt_img)\n",
    "            self.label.setPixmap(pixmap)\n",
    "\n",
    "    def start_capture(self):\n",
    "        class_names = self.class_names_entry.text().split(',')\n",
    "        self.class_names = [name.strip() for name in class_names if name.strip()]\n",
    "        try:\n",
    "            self.repeat_count = int(self.repeat_count_entry.text())\n",
    "            self.countdown_seconds = int(self.countdown_entry.text())\n",
    "        except ValueError:\n",
    "            print(\"Please enter valid numbers for repeat count and countdown seconds.\")\n",
    "            return\n",
    "\n",
    "        if not self.class_names or self.repeat_count <= 0 or self.countdown_seconds <= 0:\n",
    "            print(\"Please enter valid class names, repeat count, and countdown seconds.\")\n",
    "            return\n",
    "        \n",
    "        self.current_class_index = 0\n",
    "        self.current_repeat_count = 0\n",
    "        self.current_countdown = self.countdown_seconds\n",
    "        self.start_next_capture()\n",
    "\n",
    "    def start_next_capture(self):\n",
    "        if self.current_class_index < len(self.class_names):\n",
    "            self.class_name = self.class_names[self.current_class_index]\n",
    "            if self.current_repeat_count < self.repeat_count:\n",
    "                self.current_countdown = self.countdown_seconds\n",
    "                self.countdown_label.setText(str(self.current_countdown))\n",
    "                self.status_label.setText(f\"Class: {self.class_name} ({self.current_repeat_count+1}/{self.repeat_count})\")\n",
    "                self.countdown_timer.start(1000)  # Update countdown every second\n",
    "            else:\n",
    "                self.current_class_index += 1\n",
    "                self.current_repeat_count = 0\n",
    "                self.start_next_capture()\n",
    "        else:\n",
    "            self.countdown_label.setText(\"Capture Complete\")\n",
    "            self.status_label.setText(\"\")\n",
    "            self.current_class_index = 0\n",
    "            self.current_repeat_count = 0\n",
    "\n",
    "    def update_countdown(self):\n",
    "        if self.current_countdown > 0:\n",
    "            self.current_countdown -= 1\n",
    "            self.countdown_label.setText(str(self.current_countdown))\n",
    "        else:\n",
    "            self.countdown_timer.stop()\n",
    "            self.capture_image()\n",
    "            self.current_repeat_count += 1\n",
    "            self.start_next_capture()\n",
    "\n",
    "    def capture_image(self):\n",
    "        if not self.class_name:\n",
    "            print(\"Please enter a class name.\")\n",
    "            return\n",
    "        \n",
    "        imgname = os.path.join(IMAGES_PATH, self.class_name, f'{self.class_name}.{uuid.uuid1()}.jpg')\n",
    "        os.makedirs(os.path.dirname(imgname), exist_ok=True)\n",
    "        cv2.imwrite(imgname, self.current_frame)\n",
    "        print(f\"Image saved: {imgname}\")\n",
    "        \n",
    "    def closeEvent(self, event):\n",
    "        self.cap.release()\n",
    "        event.accept()\n",
    "\n",
    "if __name__ == '__main__':\n",
    "    app = QApplication(sys.argv)\n",
    "    ex = ImageCollectorApp()\n",
    "    sys.exit(app.exec_())\n"
   ]
  },
  {
   "cell_type": "markdown",
   "metadata": {},
   "source": [
    "# 5. Image Labelling"
   ]
  },
  {
   "cell_type": "code",
   "execution_count": 1,
   "metadata": {},
   "outputs": [
    {
     "name": "stdout",
     "output_type": "stream",
     "text": [
      "Requirement already satisfied: pyqt5 in ./tfod/lib/python3.11/site-packages (5.15.10)\n",
      "\u001b[33mWARNING: Retrying (Retry(total=4, connect=None, read=None, redirect=None, status=None)) after connection broken by 'SSLError(SSLEOFError(8, '[SSL: UNEXPECTED_EOF_WHILE_READING] EOF occurred in violation of protocol (_ssl.c:1006)'))': /simple/pyqt5/\u001b[0m\u001b[33m\n",
      "\u001b[0m\u001b[33mWARNING: Retrying (Retry(total=3, connect=None, read=None, redirect=None, status=None)) after connection broken by 'ConnectTimeoutError(<pip._vendor.urllib3.connection.HTTPSConnection object at 0x7a23a78d9d10>, 'Connection to pypi.org timed out. (connect timeout=15)')': /simple/pyqt5/\u001b[0m\u001b[33m\n",
      "\u001b[0m\u001b[33mWARNING: Retrying (Retry(total=2, connect=None, read=None, redirect=None, status=None)) after connection broken by 'ConnectTimeoutError(<pip._vendor.urllib3.connection.HTTPSConnection object at 0x7a23a78da450>, 'Connection to pypi.org timed out. (connect timeout=15)')': /simple/pyqt5/\u001b[0m\u001b[33m\n",
      "\u001b[0mRequirement already satisfied: lxml in ./tfod/lib/python3.11/site-packages (5.2.2)\n",
      "Requirement already satisfied: PyQt5-sip<13,>=12.13 in ./tfod/lib/python3.11/site-packages (from pyqt5) (12.13.0)\n",
      "Requirement already satisfied: PyQt5-Qt5>=5.15.2 in ./tfod/lib/python3.11/site-packages (from pyqt5) (5.15.2)\n"
     ]
    }
   ],
   "source": [
    "!pip install --upgrade pyqt5 lxml"
   ]
  },
  {
   "cell_type": "code",
   "execution_count": 6,
   "metadata": {},
   "outputs": [],
   "source": [
    "LABELIMG_PATH = os.path.join('Tensorflow', 'labelimg')"
   ]
  },
  {
   "cell_type": "code",
   "execution_count": 9,
   "metadata": {},
   "outputs": [],
   "source": [
    "if not os.path.exists(LABELIMG_PATH):\n",
    "    !mkdir {LABELIMG_PATH}\n",
    "    !git clone https://github.com/tzutalin/labelImg {LABELIMG_PATH}"
   ]
  },
  {
   "cell_type": "code",
   "execution_count": 11,
   "metadata": {},
   "outputs": [
    {
     "name": "stdout",
     "output_type": "stream",
     "text": [
      "pyrcc5 -o libs/resources.py resources.qrc\r\n"
     ]
    }
   ],
   "source": [
    "if os.name == 'posix':\n",
    "    !cd {LABELIMG_PATH} && make qt5py3\n",
    "if os.name =='nt':\n",
    "    !cd {LABELIMG_PATH} && pyrcc5 -o libs/resources.py resources.qrc"
   ]
  },
  {
   "cell_type": "code",
   "execution_count": 12,
   "metadata": {},
   "outputs": [
    {
     "name": "stdout",
     "output_type": "stream",
     "text": [
      "Image:/home/toofan/Desktop/New Folder/Tensorflow-Object-Detection/Tensorflow/workspace/images/train/livelong/livelong.4e83e93e-169a-11ef-9504-dc46286ccfd2.jpg -> Annotation:/home/toofan/Desktop/New Folder/Tensorflow-Object-Detection/Tensorflow/workspace/images/train/livelong/livelong.4e83e93e-169a-11ef-9504-dc46286ccfd2.xml\n",
      "Image:/home/toofan/Desktop/New Folder/Tensorflow-Object-Detection/Tensorflow/workspace/images/train/livelong/livelong.9bfd0e90-1698-11ef-9504-dc46286ccfd2.jpg -> Annotation:/home/toofan/Desktop/New Folder/Tensorflow-Object-Detection/Tensorflow/workspace/images/train/livelong/livelong.9bfd0e90-1698-11ef-9504-dc46286ccfd2.xml\n",
      "Image:/home/toofan/Desktop/New Folder/Tensorflow-Object-Detection/Tensorflow/workspace/images/train/livelong/livelong.9e5ff274-1698-11ef-9504-dc46286ccfd2.jpg -> Annotation:/home/toofan/Desktop/New Folder/Tensorflow-Object-Detection/Tensorflow/workspace/images/train/livelong/livelong.9e5ff274-1698-11ef-9504-dc46286ccfd2.xml\n",
      "Image:/home/toofan/Desktop/New Folder/Tensorflow-Object-Detection/Tensorflow/workspace/images/train/livelong/livelong.50e651c6-169a-11ef-9504-dc46286ccfd2.jpg -> Annotation:/home/toofan/Desktop/New Folder/Tensorflow-Object-Detection/Tensorflow/workspace/images/train/livelong/livelong.50e651c6-169a-11ef-9504-dc46286ccfd2.xml\n",
      "Image:/home/toofan/Desktop/New Folder/Tensorflow-Object-Detection/Tensorflow/workspace/images/train/livelong/livelong.999afa72-1698-11ef-9504-dc46286ccfd2.jpg -> Annotation:/home/toofan/Desktop/New Folder/Tensorflow-Object-Detection/Tensorflow/workspace/images/train/livelong/livelong.999afa72-1698-11ef-9504-dc46286ccfd2.xml\n",
      "Image:/home/toofan/Desktop/New Folder/Tensorflow-Object-Detection/Tensorflow/workspace/images/train/livelong/livelong.9737e718-1698-11ef-9504-dc46286ccfd2.jpg -> Annotation:/home/toofan/Desktop/New Folder/Tensorflow-Object-Detection/Tensorflow/workspace/images/train/livelong/livelong.9737e718-1698-11ef-9504-dc46286ccfd2.xml\n",
      "Image:/home/toofan/Desktop/New Folder/Tensorflow-Object-Detection/Tensorflow/workspace/images/train/livelong/livelong.a0c2e53a-1698-11ef-9504-dc46286ccfd2.jpg -> Annotation:/home/toofan/Desktop/New Folder/Tensorflow-Object-Detection/Tensorflow/workspace/images/train/livelong/livelong.a0c2e53a-1698-11ef-9504-dc46286ccfd2.xml\n",
      "Image:/home/toofan/Desktop/New Folder/Tensorflow-Object-Detection/Tensorflow/workspace/images/train/thankyou/thankyou.8b4f86ae-1698-11ef-9504-dc46286ccfd2.jpg -> Annotation:/home/toofan/Desktop/New Folder/Tensorflow-Object-Detection/Tensorflow/workspace/images/train/thankyou/thankyou.8b4f86ae-1698-11ef-9504-dc46286ccfd2.xml\n",
      "Image:/home/toofan/Desktop/New Folder/Tensorflow-Object-Detection/Tensorflow/workspace/images/train/thankyou/thankyou.8db25386-1698-11ef-9504-dc46286ccfd2.jpg -> Annotation:/home/toofan/Desktop/New Folder/Tensorflow-Object-Detection/Tensorflow/workspace/images/train/thankyou/thankyou.8db25386-1698-11ef-9504-dc46286ccfd2.xml\n",
      "Cancel creation.\n",
      "Image:/home/toofan/Desktop/New Folder/Tensorflow-Object-Detection/Tensorflow/workspace/images/train/thankyou/thankyou.44f89428-169a-11ef-9504-dc46286ccfd2.jpg -> Annotation:/home/toofan/Desktop/New Folder/Tensorflow-Object-Detection/Tensorflow/workspace/images/train/thankyou/thankyou.44f89428-169a-11ef-9504-dc46286ccfd2.xml\n",
      "Image:/home/toofan/Desktop/New Folder/Tensorflow-Object-Detection/Tensorflow/workspace/images/train/thankyou/thankyou.49bdebfc-169a-11ef-9504-dc46286ccfd2.jpg -> Annotation:/home/toofan/Desktop/New Folder/Tensorflow-Object-Detection/Tensorflow/workspace/images/train/thankyou/thankyou.49bdebfc-169a-11ef-9504-dc46286ccfd2.xml\n",
      "ESC press\n",
      "Cancel creation.\n",
      "Image:/home/toofan/Desktop/New Folder/Tensorflow-Object-Detection/Tensorflow/workspace/images/train/thankyou/thankyou.94d4d152-1698-11ef-9504-dc46286ccfd2.jpg -> Annotation:/home/toofan/Desktop/New Folder/Tensorflow-Object-Detection/Tensorflow/workspace/images/train/thankyou/thankyou.94d4d152-1698-11ef-9504-dc46286ccfd2.xml\n",
      "Image:/home/toofan/Desktop/New Folder/Tensorflow-Object-Detection/Tensorflow/workspace/images/train/thankyou/thankyou.475b8554-169a-11ef-9504-dc46286ccfd2.jpg -> Annotation:/home/toofan/Desktop/New Folder/Tensorflow-Object-Detection/Tensorflow/workspace/images/train/thankyou/thankyou.475b8554-169a-11ef-9504-dc46286ccfd2.xml\n",
      "Image:/home/toofan/Desktop/New Folder/Tensorflow-Object-Detection/Tensorflow/workspace/images/train/thankyou/thankyou.92776e7e-1698-11ef-9504-dc46286ccfd2.jpg -> Annotation:/home/toofan/Desktop/New Folder/Tensorflow-Object-Detection/Tensorflow/workspace/images/train/thankyou/thankyou.92776e7e-1698-11ef-9504-dc46286ccfd2.xml\n",
      "Image:/home/toofan/Desktop/New Folder/Tensorflow-Object-Detection/Tensorflow/workspace/images/train/thankyou/thankyou.901467a4-1698-11ef-9504-dc46286ccfd2.jpg -> Annotation:/home/toofan/Desktop/New Folder/Tensorflow-Object-Detection/Tensorflow/workspace/images/train/thankyou/thankyou.901467a4-1698-11ef-9504-dc46286ccfd2.xml\n",
      "Image:/home/toofan/Desktop/New Folder/Tensorflow-Object-Detection/Tensorflow/workspace/images/train/thumbsdown/thumbsdown.3dd51608-169a-11ef-9504-dc46286ccfd2.jpg -> Annotation:/home/toofan/Desktop/New Folder/Tensorflow-Object-Detection/Tensorflow/workspace/images/train/thumbsdown/thumbsdown.3dd51608-169a-11ef-9504-dc46286ccfd2.xml\n",
      "Image:/home/toofan/Desktop/New Folder/Tensorflow-Object-Detection/Tensorflow/workspace/images/train/thumbsdown/thumbsdown.7f6310a4-1698-11ef-9504-dc46286ccfd2.jpg -> Annotation:/home/toofan/Desktop/New Folder/Tensorflow-Object-Detection/Tensorflow/workspace/images/train/thumbsdown/thumbsdown.7f6310a4-1698-11ef-9504-dc46286ccfd2.xml\n",
      "Image:/home/toofan/Desktop/New Folder/Tensorflow-Object-Detection/Tensorflow/workspace/images/train/thumbsdown/thumbsdown.81c50cb2-1698-11ef-9504-dc46286ccfd2.jpg -> Annotation:/home/toofan/Desktop/New Folder/Tensorflow-Object-Detection/Tensorflow/workspace/images/train/thumbsdown/thumbsdown.81c50cb2-1698-11ef-9504-dc46286ccfd2.xml\n",
      "Image:/home/toofan/Desktop/New Folder/Tensorflow-Object-Detection/Tensorflow/workspace/images/train/thumbsdown/thumbsdown.88ec9c62-1698-11ef-9504-dc46286ccfd2.jpg -> Annotation:/home/toofan/Desktop/New Folder/Tensorflow-Object-Detection/Tensorflow/workspace/images/train/thumbsdown/thumbsdown.88ec9c62-1698-11ef-9504-dc46286ccfd2.xml\n",
      "ESC press\n",
      "Cancel creation.\n",
      "Image:/home/toofan/Desktop/New Folder/Tensorflow-Object-Detection/Tensorflow/workspace/images/train/thumbsdown/thumbsdown.8427a9e2-1698-11ef-9504-dc46286ccfd2.jpg -> Annotation:/home/toofan/Desktop/New Folder/Tensorflow-Object-Detection/Tensorflow/workspace/images/train/thumbsdown/thumbsdown.8427a9e2-1698-11ef-9504-dc46286ccfd2.xml\n",
      "Image:/home/toofan/Desktop/New Folder/Tensorflow-Object-Detection/Tensorflow/workspace/images/train/thumbsdown/thumbsdown.403365a8-169a-11ef-9504-dc46286ccfd2.jpg -> Annotation:/home/toofan/Desktop/New Folder/Tensorflow-Object-Detection/Tensorflow/workspace/images/train/thumbsdown/thumbsdown.403365a8-169a-11ef-9504-dc46286ccfd2.xml\n",
      "Cancel creation.\n",
      "Image:/home/toofan/Desktop/New Folder/Tensorflow-Object-Detection/Tensorflow/workspace/images/train/thumbsdown/thumbsdown.4295978a-169a-11ef-9504-dc46286ccfd2.jpg -> Annotation:/home/toofan/Desktop/New Folder/Tensorflow-Object-Detection/Tensorflow/workspace/images/train/thumbsdown/thumbsdown.4295978a-169a-11ef-9504-dc46286ccfd2.xml\n",
      "Image:/home/toofan/Desktop/New Folder/Tensorflow-Object-Detection/Tensorflow/workspace/images/train/thumbsup/thumbsup.3b72bf96-169a-11ef-9504-dc46286ccfd2.jpg -> Annotation:/home/toofan/Desktop/New Folder/Tensorflow-Object-Detection/Tensorflow/workspace/images/train/thumbsup/thumbsup.3b72bf96-169a-11ef-9504-dc46286ccfd2.xml\n",
      "Image:/home/toofan/Desktop/New Folder/Tensorflow-Object-Detection/Tensorflow/workspace/images/train/thumbsup/thumbsup.7a9deda0-1698-11ef-9504-dc46286ccfd2.jpg -> Annotation:/home/toofan/Desktop/New Folder/Tensorflow-Object-Detection/Tensorflow/workspace/images/train/thumbsup/thumbsup.7a9deda0-1698-11ef-9504-dc46286ccfd2.xml\n",
      "Image:/home/toofan/Desktop/New Folder/Tensorflow-Object-Detection/Tensorflow/workspace/images/train/thumbsup/thumbsup.7d0075e0-1698-11ef-9504-dc46286ccfd2.jpg -> Annotation:/home/toofan/Desktop/New Folder/Tensorflow-Object-Detection/Tensorflow/workspace/images/train/thumbsup/thumbsup.7d0075e0-1698-11ef-9504-dc46286ccfd2.xml\n"
     ]
    },
    {
     "name": "stdout",
     "output_type": "stream",
     "text": [
      "Image:/home/toofan/Desktop/New Folder/Tensorflow-Object-Detection/Tensorflow/workspace/images/train/thumbsup/thumbsup.36acb5d4-169a-11ef-9504-dc46286ccfd2.jpg -> Annotation:/home/toofan/Desktop/New Folder/Tensorflow-Object-Detection/Tensorflow/workspace/images/train/thumbsup/thumbsup.36acb5d4-169a-11ef-9504-dc46286ccfd2.xml\n",
      "Image:/home/toofan/Desktop/New Folder/Tensorflow-Object-Detection/Tensorflow/workspace/images/train/thumbsup/thumbsup.390fb646-169a-11ef-9504-dc46286ccfd2.jpg -> Annotation:/home/toofan/Desktop/New Folder/Tensorflow-Object-Detection/Tensorflow/workspace/images/train/thumbsup/thumbsup.390fb646-169a-11ef-9504-dc46286ccfd2.xml\n",
      "Cancel creation.\n",
      "Image:/home/toofan/Desktop/New Folder/Tensorflow-Object-Detection/Tensorflow/workspace/images/train/thumbsup/thumbsup.783c1c76-1698-11ef-9504-dc46286ccfd2.jpg -> Annotation:/home/toofan/Desktop/New Folder/Tensorflow-Object-Detection/Tensorflow/workspace/images/train/thumbsup/thumbsup.783c1c76-1698-11ef-9504-dc46286ccfd2.xml\n",
      "Image:/home/toofan/Desktop/New Folder/Tensorflow-Object-Detection/Tensorflow/workspace/images/train/thumbsup/thumbsup.7377872a-1698-11ef-9504-dc46286ccfd2.jpg -> Annotation:/home/toofan/Desktop/New Folder/Tensorflow-Object-Detection/Tensorflow/workspace/images/train/thumbsup/thumbsup.7377872a-1698-11ef-9504-dc46286ccfd2.xml\n",
      "Image:/home/toofan/Desktop/New Folder/Tensorflow-Object-Detection/Tensorflow/workspace/images/train/thumbsup/thumbsup.75d9e1de-1698-11ef-9504-dc46286ccfd2.jpg -> Annotation:/home/toofan/Desktop/New Folder/Tensorflow-Object-Detection/Tensorflow/workspace/images/train/thumbsup/thumbsup.75d9e1de-1698-11ef-9504-dc46286ccfd2.xml\n"
     ]
    }
   ],
   "source": [
    "!cd {LABELIMG_PATH} && python labelImg.py"
   ]
  },
  {
   "cell_type": "markdown",
   "metadata": {},
   "source": [
    "# 6. Move them into a Training and Testing Partition"
   ]
  },
  {
   "cell_type": "markdown",
   "metadata": {},
   "source": [
    "# OPTIONAL - 7. Compress them for Colab Training"
   ]
  },
  {
   "cell_type": "code",
   "execution_count": 7,
   "metadata": {},
   "outputs": [],
   "source": [
    "TRAIN_PATH = os.path.join('Tensorflow', 'workspace', 'images', 'train')\n",
    "TEST_PATH = os.path.join('Tensorflow', 'workspace', 'images', 'test')\n",
    "ARCHIVE_PATH = os.path.join('Tensorflow', 'workspace', 'images', 'archive.tar.gz')"
   ]
  },
  {
   "cell_type": "code",
   "execution_count": 8,
   "metadata": {},
   "outputs": [],
   "source": [
    "!tar -czf {ARCHIVE_PATH} {TRAIN_PATH} {TEST_PATH}"
   ]
  },
  {
   "cell_type": "code",
   "execution_count": null,
   "metadata": {},
   "outputs": [],
   "source": []
  }
 ],
 "metadata": {
  "kernelspec": {
   "display_name": "tfod",
   "language": "python",
   "name": "python3"
  },
  "language_info": {
   "codemirror_mode": {
    "name": "ipython",
    "version": 3
   },
   "file_extension": ".py",
   "mimetype": "text/x-python",
   "name": "python",
   "nbconvert_exporter": "python",
   "pygments_lexer": "ipython3",
   "version": "3.11.9"
  }
 },
 "nbformat": 4,
 "nbformat_minor": 2
}
